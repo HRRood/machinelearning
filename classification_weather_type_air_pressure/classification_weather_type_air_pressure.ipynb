{
 "metadata": {
  "language_info": {
   "codemirror_mode": {
    "name": "ipython",
    "version": 3
   },
   "file_extension": ".py",
   "mimetype": "text/x-python",
   "name": "python",
   "nbconvert_exporter": "python",
   "pygments_lexer": "ipython3",
   "version": "3.8.5"
  },
  "orig_nbformat": 2,
  "kernelspec": {
   "name": "python385jvsc74a57bd0b3ba2566441a7c06988d0923437866b63cedc61552a5af99d1f4fb67d367b25f",
   "display_name": "Python 3.8.5 64-bit ('base': conda)"
  }
 },
 "nbformat": 4,
 "nbformat_minor": 2,
 "cells": [
  {
   "cell_type": "code",
   "execution_count": 48,
   "metadata": {},
   "outputs": [],
   "source": [
    "import pandas as pd\n",
    "from sklearn.neighbors              import KNeighborsClassifier\n",
    "from sklearn.model_selection        import train_test_split\n",
    "from sklearn.linear_model           import LinearRegression\n",
    "from sklearn                        import preprocessing\n",
    "from sklearn                        import utils"
   ]
  },
  {
   "cell_type": "code",
   "execution_count": 81,
   "metadata": {},
   "outputs": [
    {
     "output_type": "stream",
     "name": "stdout",
     "text": [
      "Removing white space...\n",
      "Removing white space... Done\n",
      "Dropping rows with NaN values...\n",
      "Dropping rows with NaN values... Done\n",
      "Setting data types...\n",
      "Setting data types... Done\n"
     ]
    }
   ],
   "source": [
    "# Read data file\n",
    "df = pd.read_csv(\".\\\\data\\\\merged_data_small_set.csv\", \",\")\n",
    "\n",
    "# Remove white spaces from data\n",
    "print(\"Removing white space...\")\n",
    "df.columns = df.columns.str.replace(' ','')\n",
    "print(\"Removing white space... Done\")\n",
    "\n",
    "# drop the rows with NaN\n",
    "print(\"Dropping rows with NaN values...\")\n",
    "df = df.dropna()\n",
    "print(\"Dropping rows with NaN values... Done\")\n",
    "\n",
    "# Set the data types\n",
    "print(\"Setting data types...\")\n",
    "df.DTG = pd.to_datetime(df.DTG)\n",
    "df.LOCATION = df.LOCATION.astype('str')\n",
    "df.NAME = df.NAME.astype('str')\n",
    "df.LATITUDE = df.LATITUDE.astype('float64')\n",
    "df.LONGITUDE = df.LONGITUDE.astype('float64')\n",
    "df.ALTITUDE = df.ALTITUDE.astype('float64')\n",
    "df.P_NAP_MSL_10 = df.P_NAP_MSL_10.astype('float64')\n",
    "df.P_STN_LEVEL_10 = df.P_STN_LEVEL_10.astype('float64')\n",
    "df.P_SENSOR_10 = df.P_SENSOR_10.astype('int64')\n",
    "df.VV_10 = df.VV_10.astype('int64')\n",
    "df.WW_IND_CURR_10 = df.WW_IND_CURR_10.astype('int64')\n",
    "df.WW_IND_PAST_10_10 = df.WW_IND_PAST_10_10.astype('int64')\n",
    "df.WW_CURR_10 = df.WW_CURR_10.astype('int64')\n",
    "df.WW_PAST_10 = df.WW_PAST_10.astype('int64')\n",
    "df.AH_10 = df.AH_10.astype('int64')\n",
    "df.MOR_10 = df.MOR_10.astype('int64')\n",
    "print(\"Setting data types... Done\")"
   ]
  },
  {
   "cell_type": "code",
   "execution_count": 82,
   "metadata": {},
   "outputs": [
    {
     "output_type": "stream",
     "name": "stdout",
     "text": [
      "<class 'pandas.core.frame.DataFrame'>\nInt64Index: 4301 entries, 0 to 4319\nData columns (total 16 columns):\n #   Column             Non-Null Count  Dtype         \n---  ------             --------------  -----         \n 0   DTG                4301 non-null   datetime64[ns]\n 1   LOCATION           4301 non-null   object        \n 2   NAME               4301 non-null   object        \n 3   LATITUDE           4301 non-null   float64       \n 4   LONGITUDE          4301 non-null   float64       \n 5   ALTITUDE           4301 non-null   float64       \n 6   P_NAP_MSL_10       4301 non-null   float64       \n 7   P_STN_LEVEL_10     4301 non-null   float64       \n 8   P_SENSOR_10        4301 non-null   int64         \n 9   VV_10              4301 non-null   int64         \n 10  WW_IND_CURR_10     4301 non-null   int64         \n 11  WW_IND_PAST_10_10  4301 non-null   int64         \n 12  WW_CURR_10         4301 non-null   int64         \n 13  WW_PAST_10         4301 non-null   int64         \n 14  AH_10              4301 non-null   int64         \n 15  MOR_10             4301 non-null   int64         \ndtypes: datetime64[ns](1), float64(5), int64(8), object(2)\nmemory usage: 571.2+ KB\n"
     ]
    }
   ],
   "source": [
    "df.info()"
   ]
  },
  {
   "cell_type": "code",
   "execution_count": 83,
   "metadata": {},
   "outputs": [
    {
     "output_type": "execute_result",
     "data": {
      "text/plain": [
       "DTG                  0\n",
       "LOCATION             0\n",
       "NAME                 0\n",
       "LATITUDE             0\n",
       "LONGITUDE            0\n",
       "ALTITUDE             0\n",
       "P_NAP_MSL_10         0\n",
       "P_STN_LEVEL_10       0\n",
       "P_SENSOR_10          0\n",
       "VV_10                0\n",
       "WW_IND_CURR_10       0\n",
       "WW_IND_PAST_10_10    0\n",
       "WW_CURR_10           0\n",
       "WW_PAST_10           0\n",
       "AH_10                0\n",
       "MOR_10               0\n",
       "dtype: int64"
      ]
     },
     "metadata": {},
     "execution_count": 83
    }
   ],
   "source": [
    "df.isnull().sum()"
   ]
  },
  {
   "cell_type": "code",
   "execution_count": 84,
   "metadata": {},
   "outputs": [
    {
     "output_type": "execute_result",
     "data": {
      "text/plain": [
       "                  DTG              LOCATION  \\\n",
       "0 2003-04-01 00:10:00  260_A_a                \n",
       "1 2003-04-01 00:20:00  260_A_a                \n",
       "2 2003-04-01 00:30:00  260_A_a                \n",
       "3 2003-04-01 00:40:00  260_A_a                \n",
       "4 2003-04-01 00:50:00  260_A_a                \n",
       "\n",
       "                                               NAME   LATITUDE  LONGITUDE  \\\n",
       "0  De Bilt locatie A                                 52.098889   5.179722   \n",
       "1  De Bilt locatie A                                 52.098889   5.179722   \n",
       "2  De Bilt locatie A                                 52.098889   5.179722   \n",
       "3  De Bilt locatie A                                 52.098889   5.179722   \n",
       "4  De Bilt locatie A                                 52.098889   5.179722   \n",
       "\n",
       "   ALTITUDE  P_NAP_MSL_10  P_STN_LEVEL_10  P_SENSOR_10  VV_10  WW_IND_CURR_10  \\\n",
       "0       1.9      1022.638        1022.388         1022   7380               0   \n",
       "1       1.9      1022.637        1022.387         1022   6630               0   \n",
       "2       1.9      1022.538        1022.288         1022   3700               1   \n",
       "3       1.9      1022.438        1022.188         1022   4040               1   \n",
       "4       1.9      1022.438        1022.188         1022   4280               1   \n",
       "\n",
       "   WW_IND_PAST_10_10  WW_CURR_10  WW_PAST_10  AH_10  MOR_10  \n",
       "0                  0          10          10      5    7380  \n",
       "1                  0          10          10      5    6630  \n",
       "2                  0          10          10      5    3700  \n",
       "3                  1          10          10      5    4040  \n",
       "4                  1          10          10      5    4280  "
      ],
      "text/html": "<div>\n<style scoped>\n    .dataframe tbody tr th:only-of-type {\n        vertical-align: middle;\n    }\n\n    .dataframe tbody tr th {\n        vertical-align: top;\n    }\n\n    .dataframe thead th {\n        text-align: right;\n    }\n</style>\n<table border=\"1\" class=\"dataframe\">\n  <thead>\n    <tr style=\"text-align: right;\">\n      <th></th>\n      <th>DTG</th>\n      <th>LOCATION</th>\n      <th>NAME</th>\n      <th>LATITUDE</th>\n      <th>LONGITUDE</th>\n      <th>ALTITUDE</th>\n      <th>P_NAP_MSL_10</th>\n      <th>P_STN_LEVEL_10</th>\n      <th>P_SENSOR_10</th>\n      <th>VV_10</th>\n      <th>WW_IND_CURR_10</th>\n      <th>WW_IND_PAST_10_10</th>\n      <th>WW_CURR_10</th>\n      <th>WW_PAST_10</th>\n      <th>AH_10</th>\n      <th>MOR_10</th>\n    </tr>\n  </thead>\n  <tbody>\n    <tr>\n      <th>0</th>\n      <td>2003-04-01 00:10:00</td>\n      <td>260_A_a</td>\n      <td>De Bilt locatie A</td>\n      <td>52.098889</td>\n      <td>5.179722</td>\n      <td>1.9</td>\n      <td>1022.638</td>\n      <td>1022.388</td>\n      <td>1022</td>\n      <td>7380</td>\n      <td>0</td>\n      <td>0</td>\n      <td>10</td>\n      <td>10</td>\n      <td>5</td>\n      <td>7380</td>\n    </tr>\n    <tr>\n      <th>1</th>\n      <td>2003-04-01 00:20:00</td>\n      <td>260_A_a</td>\n      <td>De Bilt locatie A</td>\n      <td>52.098889</td>\n      <td>5.179722</td>\n      <td>1.9</td>\n      <td>1022.637</td>\n      <td>1022.387</td>\n      <td>1022</td>\n      <td>6630</td>\n      <td>0</td>\n      <td>0</td>\n      <td>10</td>\n      <td>10</td>\n      <td>5</td>\n      <td>6630</td>\n    </tr>\n    <tr>\n      <th>2</th>\n      <td>2003-04-01 00:30:00</td>\n      <td>260_A_a</td>\n      <td>De Bilt locatie A</td>\n      <td>52.098889</td>\n      <td>5.179722</td>\n      <td>1.9</td>\n      <td>1022.538</td>\n      <td>1022.288</td>\n      <td>1022</td>\n      <td>3700</td>\n      <td>1</td>\n      <td>0</td>\n      <td>10</td>\n      <td>10</td>\n      <td>5</td>\n      <td>3700</td>\n    </tr>\n    <tr>\n      <th>3</th>\n      <td>2003-04-01 00:40:00</td>\n      <td>260_A_a</td>\n      <td>De Bilt locatie A</td>\n      <td>52.098889</td>\n      <td>5.179722</td>\n      <td>1.9</td>\n      <td>1022.438</td>\n      <td>1022.188</td>\n      <td>1022</td>\n      <td>4040</td>\n      <td>1</td>\n      <td>1</td>\n      <td>10</td>\n      <td>10</td>\n      <td>5</td>\n      <td>4040</td>\n    </tr>\n    <tr>\n      <th>4</th>\n      <td>2003-04-01 00:50:00</td>\n      <td>260_A_a</td>\n      <td>De Bilt locatie A</td>\n      <td>52.098889</td>\n      <td>5.179722</td>\n      <td>1.9</td>\n      <td>1022.438</td>\n      <td>1022.188</td>\n      <td>1022</td>\n      <td>4280</td>\n      <td>1</td>\n      <td>1</td>\n      <td>10</td>\n      <td>10</td>\n      <td>5</td>\n      <td>4280</td>\n    </tr>\n  </tbody>\n</table>\n</div>"
     },
     "metadata": {},
     "execution_count": 84
    }
   ],
   "source": [
    "df.head()"
   ]
  },
  {
   "cell_type": "code",
   "execution_count": 85,
   "metadata": {},
   "outputs": [
    {
     "output_type": "execute_result",
     "data": {
      "text/plain": [
       "                     DTG              LOCATION  \\\n",
       "4315 2003-04-30 23:20:00  260_A_a                \n",
       "4316 2003-04-30 23:30:00  260_A_a                \n",
       "4317 2003-04-30 23:40:00  260_A_a                \n",
       "4318 2003-04-30 23:50:00  260_A_a                \n",
       "4319 2003-05-01 00:00:00  260_A_a                \n",
       "\n",
       "                                                  NAME   LATITUDE  LONGITUDE  \\\n",
       "4315  De Bilt locatie A                                 52.098889   5.179722   \n",
       "4316  De Bilt locatie A                                 52.098889   5.179722   \n",
       "4317  De Bilt locatie A                                 52.098889   5.179722   \n",
       "4318  De Bilt locatie A                                 52.098889   5.179722   \n",
       "4319  De Bilt locatie A                                 52.098889   5.179722   \n",
       "\n",
       "      ALTITUDE  P_NAP_MSL_10  P_STN_LEVEL_10  P_SENSOR_10  VV_10  \\\n",
       "4315       1.9      1010.723        1010.481         1010  11200   \n",
       "4316       1.9      1010.823        1010.581         1010  12500   \n",
       "4317       1.9      1010.824        1010.582         1010  12500   \n",
       "4318       1.9      1010.824        1010.582         1010  12300   \n",
       "4319       1.9      1010.924        1010.682         1010  13600   \n",
       "\n",
       "      WW_IND_CURR_10  WW_IND_PAST_10_10  WW_CURR_10  WW_PAST_10  AH_10  MOR_10  \n",
       "4315               0                  0           1           1      5   11200  \n",
       "4316               0                  0           1           1      5   12500  \n",
       "4317               0                  0           3           1      5   12500  \n",
       "4318               0                  0           3           3      5   12300  \n",
       "4319               0                  0           3           3      5   13600  "
      ],
      "text/html": "<div>\n<style scoped>\n    .dataframe tbody tr th:only-of-type {\n        vertical-align: middle;\n    }\n\n    .dataframe tbody tr th {\n        vertical-align: top;\n    }\n\n    .dataframe thead th {\n        text-align: right;\n    }\n</style>\n<table border=\"1\" class=\"dataframe\">\n  <thead>\n    <tr style=\"text-align: right;\">\n      <th></th>\n      <th>DTG</th>\n      <th>LOCATION</th>\n      <th>NAME</th>\n      <th>LATITUDE</th>\n      <th>LONGITUDE</th>\n      <th>ALTITUDE</th>\n      <th>P_NAP_MSL_10</th>\n      <th>P_STN_LEVEL_10</th>\n      <th>P_SENSOR_10</th>\n      <th>VV_10</th>\n      <th>WW_IND_CURR_10</th>\n      <th>WW_IND_PAST_10_10</th>\n      <th>WW_CURR_10</th>\n      <th>WW_PAST_10</th>\n      <th>AH_10</th>\n      <th>MOR_10</th>\n    </tr>\n  </thead>\n  <tbody>\n    <tr>\n      <th>4315</th>\n      <td>2003-04-30 23:20:00</td>\n      <td>260_A_a</td>\n      <td>De Bilt locatie A</td>\n      <td>52.098889</td>\n      <td>5.179722</td>\n      <td>1.9</td>\n      <td>1010.723</td>\n      <td>1010.481</td>\n      <td>1010</td>\n      <td>11200</td>\n      <td>0</td>\n      <td>0</td>\n      <td>1</td>\n      <td>1</td>\n      <td>5</td>\n      <td>11200</td>\n    </tr>\n    <tr>\n      <th>4316</th>\n      <td>2003-04-30 23:30:00</td>\n      <td>260_A_a</td>\n      <td>De Bilt locatie A</td>\n      <td>52.098889</td>\n      <td>5.179722</td>\n      <td>1.9</td>\n      <td>1010.823</td>\n      <td>1010.581</td>\n      <td>1010</td>\n      <td>12500</td>\n      <td>0</td>\n      <td>0</td>\n      <td>1</td>\n      <td>1</td>\n      <td>5</td>\n      <td>12500</td>\n    </tr>\n    <tr>\n      <th>4317</th>\n      <td>2003-04-30 23:40:00</td>\n      <td>260_A_a</td>\n      <td>De Bilt locatie A</td>\n      <td>52.098889</td>\n      <td>5.179722</td>\n      <td>1.9</td>\n      <td>1010.824</td>\n      <td>1010.582</td>\n      <td>1010</td>\n      <td>12500</td>\n      <td>0</td>\n      <td>0</td>\n      <td>3</td>\n      <td>1</td>\n      <td>5</td>\n      <td>12500</td>\n    </tr>\n    <tr>\n      <th>4318</th>\n      <td>2003-04-30 23:50:00</td>\n      <td>260_A_a</td>\n      <td>De Bilt locatie A</td>\n      <td>52.098889</td>\n      <td>5.179722</td>\n      <td>1.9</td>\n      <td>1010.824</td>\n      <td>1010.582</td>\n      <td>1010</td>\n      <td>12300</td>\n      <td>0</td>\n      <td>0</td>\n      <td>3</td>\n      <td>3</td>\n      <td>5</td>\n      <td>12300</td>\n    </tr>\n    <tr>\n      <th>4319</th>\n      <td>2003-05-01 00:00:00</td>\n      <td>260_A_a</td>\n      <td>De Bilt locatie A</td>\n      <td>52.098889</td>\n      <td>5.179722</td>\n      <td>1.9</td>\n      <td>1010.924</td>\n      <td>1010.682</td>\n      <td>1010</td>\n      <td>13600</td>\n      <td>0</td>\n      <td>0</td>\n      <td>3</td>\n      <td>3</td>\n      <td>5</td>\n      <td>13600</td>\n    </tr>\n  </tbody>\n</table>\n</div>"
     },
     "metadata": {},
     "execution_count": 85
    }
   ],
   "source": [
    "df.tail()"
   ]
  },
  {
   "cell_type": "code",
   "execution_count": 86,
   "metadata": {},
   "outputs": [
    {
     "output_type": "execute_result",
     "data": {
      "text/plain": [
       "                       LATITUDE     LONGITUDE      ALTITUDE  P_NAP_MSL_10  \\\n",
       "LATITUDE           1.000000e+00 -1.000000e+00  1.000000e+00 -4.832899e-15   \n",
       "LONGITUDE         -1.000000e+00  1.000000e+00 -1.000000e+00  5.781249e-15   \n",
       "ALTITUDE           1.000000e+00 -1.000000e+00  1.000000e+00 -5.148679e-15   \n",
       "P_NAP_MSL_10      -4.832899e-15  5.781249e-15 -5.148679e-15  1.000000e+00   \n",
       "P_STN_LEVEL_10    -7.268755e-14  7.678961e-14 -7.755412e-14  9.999999e-01   \n",
       "P_SENSOR_10        5.967910e-15  2.342122e-14 -6.415538e-16  9.994201e-01   \n",
       "VV_10              6.864467e-15 -1.840457e-14  1.751753e-15  1.840632e-01   \n",
       "WW_IND_CURR_10     5.778156e-16 -3.947729e-15 -6.552068e-15 -3.137562e-01   \n",
       "WW_IND_PAST_10_10 -4.644141e-15 -4.755874e-15  4.048549e-15 -3.150074e-01   \n",
       "WW_CURR_10        -8.445710e-15 -3.396513e-15  4.886022e-15 -3.849263e-01   \n",
       "WW_PAST_10        -7.397154e-15  1.199531e-15  4.170436e-15 -3.853625e-01   \n",
       "AH_10              1.264586e-15 -1.582758e-15 -1.724716e-15 -7.014784e-02   \n",
       "MOR_10            -3.017182e-15 -2.134059e-14  8.081954e-16  1.839717e-01   \n",
       "\n",
       "                   P_STN_LEVEL_10   P_SENSOR_10         VV_10  WW_IND_CURR_10  \\\n",
       "LATITUDE            -7.268755e-14  5.967910e-15  6.864467e-15    5.778156e-16   \n",
       "LONGITUDE            7.678961e-14  2.342122e-14 -1.840457e-14   -3.947729e-15   \n",
       "ALTITUDE            -7.755412e-14 -6.415538e-16  1.751753e-15   -6.552068e-15   \n",
       "P_NAP_MSL_10         9.999999e-01  9.994201e-01  1.840632e-01   -3.137562e-01   \n",
       "P_STN_LEVEL_10       1.000000e+00  9.994198e-01  1.839556e-01   -3.137637e-01   \n",
       "P_SENSOR_10          9.994198e-01  1.000000e+00  1.836612e-01   -3.134994e-01   \n",
       "VV_10                1.839556e-01  1.836612e-01  1.000000e+00   -2.606512e-01   \n",
       "WW_IND_CURR_10      -3.137637e-01 -3.134994e-01 -2.606512e-01    1.000000e+00   \n",
       "WW_IND_PAST_10_10   -3.150158e-01 -3.144177e-01 -2.477735e-01    7.335452e-01   \n",
       "WW_CURR_10          -3.849421e-01 -3.850187e-01 -2.998729e-01    9.480405e-01   \n",
       "WW_PAST_10          -3.853786e-01 -3.852079e-01 -2.901500e-01    7.247844e-01   \n",
       "AH_10               -7.012008e-02 -7.020266e-02  1.273902e-01   -1.451940e-01   \n",
       "MOR_10               1.838643e-01  1.835668e-01  9.999863e-01   -2.610498e-01   \n",
       "\n",
       "                   WW_IND_PAST_10_10    WW_CURR_10    WW_PAST_10  \\\n",
       "LATITUDE               -4.644141e-15 -8.445710e-15 -7.397154e-15   \n",
       "LONGITUDE              -4.755874e-15 -3.396513e-15  1.199531e-15   \n",
       "ALTITUDE                4.048549e-15  4.886022e-15  4.170436e-15   \n",
       "P_NAP_MSL_10           -3.150074e-01 -3.849263e-01 -3.853625e-01   \n",
       "P_STN_LEVEL_10         -3.150158e-01 -3.849421e-01 -3.853786e-01   \n",
       "P_SENSOR_10            -3.144177e-01 -3.850187e-01 -3.852079e-01   \n",
       "VV_10                  -2.477735e-01 -2.998729e-01 -2.901500e-01   \n",
       "WW_IND_CURR_10          7.335452e-01  9.480405e-01  7.247844e-01   \n",
       "WW_IND_PAST_10_10       1.000000e+00  7.570951e-01  9.482971e-01   \n",
       "WW_CURR_10              7.570951e-01  1.000000e+00  8.248218e-01   \n",
       "WW_PAST_10              9.482971e-01  8.248218e-01  1.000000e+00   \n",
       "AH_10                  -1.360175e-01 -1.501206e-01 -1.397069e-01   \n",
       "MOR_10                 -2.481755e-01 -3.002356e-01 -2.905149e-01   \n",
       "\n",
       "                          AH_10        MOR_10  \n",
       "LATITUDE           1.264586e-15 -3.017182e-15  \n",
       "LONGITUDE         -1.582758e-15 -2.134059e-14  \n",
       "ALTITUDE          -1.724716e-15  8.081954e-16  \n",
       "P_NAP_MSL_10      -7.014784e-02  1.839717e-01  \n",
       "P_STN_LEVEL_10    -7.012008e-02  1.838643e-01  \n",
       "P_SENSOR_10       -7.020266e-02  1.835668e-01  \n",
       "VV_10              1.273902e-01  9.999863e-01  \n",
       "WW_IND_CURR_10    -1.451940e-01 -2.610498e-01  \n",
       "WW_IND_PAST_10_10 -1.360175e-01 -2.481755e-01  \n",
       "WW_CURR_10        -1.501206e-01 -3.002356e-01  \n",
       "WW_PAST_10        -1.397069e-01 -2.905149e-01  \n",
       "AH_10              1.000000e+00  1.279771e-01  \n",
       "MOR_10             1.279771e-01  1.000000e+00  "
      ],
      "text/html": "<div>\n<style scoped>\n    .dataframe tbody tr th:only-of-type {\n        vertical-align: middle;\n    }\n\n    .dataframe tbody tr th {\n        vertical-align: top;\n    }\n\n    .dataframe thead th {\n        text-align: right;\n    }\n</style>\n<table border=\"1\" class=\"dataframe\">\n  <thead>\n    <tr style=\"text-align: right;\">\n      <th></th>\n      <th>LATITUDE</th>\n      <th>LONGITUDE</th>\n      <th>ALTITUDE</th>\n      <th>P_NAP_MSL_10</th>\n      <th>P_STN_LEVEL_10</th>\n      <th>P_SENSOR_10</th>\n      <th>VV_10</th>\n      <th>WW_IND_CURR_10</th>\n      <th>WW_IND_PAST_10_10</th>\n      <th>WW_CURR_10</th>\n      <th>WW_PAST_10</th>\n      <th>AH_10</th>\n      <th>MOR_10</th>\n    </tr>\n  </thead>\n  <tbody>\n    <tr>\n      <th>LATITUDE</th>\n      <td>1.000000e+00</td>\n      <td>-1.000000e+00</td>\n      <td>1.000000e+00</td>\n      <td>-4.832899e-15</td>\n      <td>-7.268755e-14</td>\n      <td>5.967910e-15</td>\n      <td>6.864467e-15</td>\n      <td>5.778156e-16</td>\n      <td>-4.644141e-15</td>\n      <td>-8.445710e-15</td>\n      <td>-7.397154e-15</td>\n      <td>1.264586e-15</td>\n      <td>-3.017182e-15</td>\n    </tr>\n    <tr>\n      <th>LONGITUDE</th>\n      <td>-1.000000e+00</td>\n      <td>1.000000e+00</td>\n      <td>-1.000000e+00</td>\n      <td>5.781249e-15</td>\n      <td>7.678961e-14</td>\n      <td>2.342122e-14</td>\n      <td>-1.840457e-14</td>\n      <td>-3.947729e-15</td>\n      <td>-4.755874e-15</td>\n      <td>-3.396513e-15</td>\n      <td>1.199531e-15</td>\n      <td>-1.582758e-15</td>\n      <td>-2.134059e-14</td>\n    </tr>\n    <tr>\n      <th>ALTITUDE</th>\n      <td>1.000000e+00</td>\n      <td>-1.000000e+00</td>\n      <td>1.000000e+00</td>\n      <td>-5.148679e-15</td>\n      <td>-7.755412e-14</td>\n      <td>-6.415538e-16</td>\n      <td>1.751753e-15</td>\n      <td>-6.552068e-15</td>\n      <td>4.048549e-15</td>\n      <td>4.886022e-15</td>\n      <td>4.170436e-15</td>\n      <td>-1.724716e-15</td>\n      <td>8.081954e-16</td>\n    </tr>\n    <tr>\n      <th>P_NAP_MSL_10</th>\n      <td>-4.832899e-15</td>\n      <td>5.781249e-15</td>\n      <td>-5.148679e-15</td>\n      <td>1.000000e+00</td>\n      <td>9.999999e-01</td>\n      <td>9.994201e-01</td>\n      <td>1.840632e-01</td>\n      <td>-3.137562e-01</td>\n      <td>-3.150074e-01</td>\n      <td>-3.849263e-01</td>\n      <td>-3.853625e-01</td>\n      <td>-7.014784e-02</td>\n      <td>1.839717e-01</td>\n    </tr>\n    <tr>\n      <th>P_STN_LEVEL_10</th>\n      <td>-7.268755e-14</td>\n      <td>7.678961e-14</td>\n      <td>-7.755412e-14</td>\n      <td>9.999999e-01</td>\n      <td>1.000000e+00</td>\n      <td>9.994198e-01</td>\n      <td>1.839556e-01</td>\n      <td>-3.137637e-01</td>\n      <td>-3.150158e-01</td>\n      <td>-3.849421e-01</td>\n      <td>-3.853786e-01</td>\n      <td>-7.012008e-02</td>\n      <td>1.838643e-01</td>\n    </tr>\n    <tr>\n      <th>P_SENSOR_10</th>\n      <td>5.967910e-15</td>\n      <td>2.342122e-14</td>\n      <td>-6.415538e-16</td>\n      <td>9.994201e-01</td>\n      <td>9.994198e-01</td>\n      <td>1.000000e+00</td>\n      <td>1.836612e-01</td>\n      <td>-3.134994e-01</td>\n      <td>-3.144177e-01</td>\n      <td>-3.850187e-01</td>\n      <td>-3.852079e-01</td>\n      <td>-7.020266e-02</td>\n      <td>1.835668e-01</td>\n    </tr>\n    <tr>\n      <th>VV_10</th>\n      <td>6.864467e-15</td>\n      <td>-1.840457e-14</td>\n      <td>1.751753e-15</td>\n      <td>1.840632e-01</td>\n      <td>1.839556e-01</td>\n      <td>1.836612e-01</td>\n      <td>1.000000e+00</td>\n      <td>-2.606512e-01</td>\n      <td>-2.477735e-01</td>\n      <td>-2.998729e-01</td>\n      <td>-2.901500e-01</td>\n      <td>1.273902e-01</td>\n      <td>9.999863e-01</td>\n    </tr>\n    <tr>\n      <th>WW_IND_CURR_10</th>\n      <td>5.778156e-16</td>\n      <td>-3.947729e-15</td>\n      <td>-6.552068e-15</td>\n      <td>-3.137562e-01</td>\n      <td>-3.137637e-01</td>\n      <td>-3.134994e-01</td>\n      <td>-2.606512e-01</td>\n      <td>1.000000e+00</td>\n      <td>7.335452e-01</td>\n      <td>9.480405e-01</td>\n      <td>7.247844e-01</td>\n      <td>-1.451940e-01</td>\n      <td>-2.610498e-01</td>\n    </tr>\n    <tr>\n      <th>WW_IND_PAST_10_10</th>\n      <td>-4.644141e-15</td>\n      <td>-4.755874e-15</td>\n      <td>4.048549e-15</td>\n      <td>-3.150074e-01</td>\n      <td>-3.150158e-01</td>\n      <td>-3.144177e-01</td>\n      <td>-2.477735e-01</td>\n      <td>7.335452e-01</td>\n      <td>1.000000e+00</td>\n      <td>7.570951e-01</td>\n      <td>9.482971e-01</td>\n      <td>-1.360175e-01</td>\n      <td>-2.481755e-01</td>\n    </tr>\n    <tr>\n      <th>WW_CURR_10</th>\n      <td>-8.445710e-15</td>\n      <td>-3.396513e-15</td>\n      <td>4.886022e-15</td>\n      <td>-3.849263e-01</td>\n      <td>-3.849421e-01</td>\n      <td>-3.850187e-01</td>\n      <td>-2.998729e-01</td>\n      <td>9.480405e-01</td>\n      <td>7.570951e-01</td>\n      <td>1.000000e+00</td>\n      <td>8.248218e-01</td>\n      <td>-1.501206e-01</td>\n      <td>-3.002356e-01</td>\n    </tr>\n    <tr>\n      <th>WW_PAST_10</th>\n      <td>-7.397154e-15</td>\n      <td>1.199531e-15</td>\n      <td>4.170436e-15</td>\n      <td>-3.853625e-01</td>\n      <td>-3.853786e-01</td>\n      <td>-3.852079e-01</td>\n      <td>-2.901500e-01</td>\n      <td>7.247844e-01</td>\n      <td>9.482971e-01</td>\n      <td>8.248218e-01</td>\n      <td>1.000000e+00</td>\n      <td>-1.397069e-01</td>\n      <td>-2.905149e-01</td>\n    </tr>\n    <tr>\n      <th>AH_10</th>\n      <td>1.264586e-15</td>\n      <td>-1.582758e-15</td>\n      <td>-1.724716e-15</td>\n      <td>-7.014784e-02</td>\n      <td>-7.012008e-02</td>\n      <td>-7.020266e-02</td>\n      <td>1.273902e-01</td>\n      <td>-1.451940e-01</td>\n      <td>-1.360175e-01</td>\n      <td>-1.501206e-01</td>\n      <td>-1.397069e-01</td>\n      <td>1.000000e+00</td>\n      <td>1.279771e-01</td>\n    </tr>\n    <tr>\n      <th>MOR_10</th>\n      <td>-3.017182e-15</td>\n      <td>-2.134059e-14</td>\n      <td>8.081954e-16</td>\n      <td>1.839717e-01</td>\n      <td>1.838643e-01</td>\n      <td>1.835668e-01</td>\n      <td>9.999863e-01</td>\n      <td>-2.610498e-01</td>\n      <td>-2.481755e-01</td>\n      <td>-3.002356e-01</td>\n      <td>-2.905149e-01</td>\n      <td>1.279771e-01</td>\n      <td>1.000000e+00</td>\n    </tr>\n  </tbody>\n</table>\n</div>"
     },
     "metadata": {},
     "execution_count": 86
    }
   ],
   "source": [
    "df.corr()"
   ]
  },
  {
   "cell_type": "code",
   "execution_count": 87,
   "metadata": {},
   "outputs": [],
   "source": [
    "# LOCATION = identifier, NAME = identifier, LATITUDE in degrees (WGS84), LONGITUDE in degrees (WGS84), ALTITUDE in 0.1 m relative to Mean Sea Level (MSL)\n",
    "# P_NAP_MSL_10 is luchtdruk herleid naar msl of nap 10' eenheid hPa\n",
    "# P_STN_LEVEL_10 is luchtdruk herleid naar stationshoogte 10' eenheid hPa\n",
    "# P_SENSOR_10 is luchtdruk sensorhoogte 10' eenheid hPa\n",
    "# VV_10 is zicht gemiddeld 10' eenheid m\n",
    "# WW_IND_CURR_10 is weer indicator verleden weer 10' eenheid code\n",
    "# WW_IND_PAST_10_10 is weer indicator verleden weer voorgaande 10' 10' eenheid code\n",
    "# WW_CURR_10 is weer code present weather sensor 10' eenheid code\n",
    "# WW_PAST_10 is weer code voorgaande 10' 10' eenheid code\n",
    "# AH_10 is zicht helderheid achtergrond 10' eenheid Candela\n",
    "# MOR_10 is zicht meteorologisch dagzicht 10' eenheid m\n",
    "\n",
    "X = df[['P_NAP_MSL_10', 'VV_10', 'WW_PAST_10', 'AH_10', 'MOR_10']]\n",
    "y = df[['WW_CURR_10']]\n",
    "\n",
    "X_train, X_test, y_train, y_test = train_test_split(X,y, test_size= 0.2)"
   ]
  },
  {
   "cell_type": "code",
   "execution_count": 88,
   "metadata": {},
   "outputs": [
    {
     "output_type": "execute_result",
     "data": {
      "text/plain": [
       "KNeighborsClassifier(n_neighbors=3)"
      ]
     },
     "metadata": {},
     "execution_count": 88
    }
   ],
   "source": [
    "kncl = KNeighborsClassifier(n_neighbors=3)\n",
    "kncl.fit(X_train,y_train.values.ravel())"
   ]
  },
  {
   "cell_type": "code",
   "execution_count": 89,
   "metadata": {},
   "outputs": [
    {
     "output_type": "execute_result",
     "data": {
      "text/plain": [
       "0.389082462253194"
      ]
     },
     "metadata": {},
     "execution_count": 89
    }
   ],
   "source": [
    "kncl.score(X_test,y_test)"
   ]
  },
  {
   "cell_type": "code",
   "execution_count": 90,
   "metadata": {},
   "outputs": [
    {
     "output_type": "execute_result",
     "data": {
      "text/plain": [
       "array([81], dtype=int64)"
      ]
     },
     "metadata": {},
     "execution_count": 90
    }
   ],
   "source": [
    "kncl.predict([[1050.0, 300, 0, 5, 4000]])\n",
    "\n",
    "# Voor de betekenis van de weercode, zie pagina 177 van https://cdn.knmi.nl/knmi/pdf/bibliotheek/knmipubDIV/handboekwaarnemingen.pdf\n",
    "# De codes slaan op het horizontaal zicht aan het aardoppervlak (code vs. km)"
   ]
  }
 ]
}