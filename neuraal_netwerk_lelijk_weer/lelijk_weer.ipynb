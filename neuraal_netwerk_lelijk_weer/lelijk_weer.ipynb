{
 "metadata": {
  "language_info": {
   "codemirror_mode": {
    "name": "ipython",
    "version": 3
   },
   "file_extension": ".py",
   "mimetype": "text/x-python",
   "name": "python",
   "nbconvert_exporter": "python",
   "pygments_lexer": "ipython3",
   "version": "3.9.4"
  },
  "orig_nbformat": 2,
  "kernelspec": {
   "name": "python394jvsc74a57bd0aee8b7b246df8f9039afb4144a1f6fd8d2ca17a180786b69acc140d282b71a49",
   "display_name": "Python 3.9.4 64-bit"
  },
  "metadata": {
   "interpreter": {
    "hash": "6c21aa1c2e5936516fd415403a4afbdba9a634f5c964d52c661a7084a07606c1"
   }
  }
 },
 "nbformat": 4,
 "nbformat_minor": 2,
 "cells": [
  {
   "cell_type": "code",
   "execution_count": 1,
   "metadata": {},
   "outputs": [],
   "source": [
    "# Dataset naam: Daggegevens van het weer in Nederland - De Bilt\n",
    "# URL:          https://www.knmi.nl/nederland-nu/klimatologie/daggegevens\n",
    "# Doel:         Is het lelijk weer op basis van inputparameters?\n",
    "\n",
    "# YYYYMMDD  = Datum (YYYY=jaar MM=maand DD=dag) / Date (YYYY=year MM=month DD=day)\n",
    "# DDVEC     = Vectorgemiddelde windrichting in graden (360=noord, 90=oost, 180=zuid, 270=west, 0=windstil/variabel). Zie http://www.knmi.nl/kennis-en-datacentrum/achtergrond/klimatologische-brochures-en-boeken / Vector mean wind direction in degrees (360=north, 90=east, 180=south, 270=west, 0=calm/variable)\n",
    "# FHVEC     = Vectorgemiddelde windsnelheid (in 0.1 m/s). Zie http://www.knmi.nl/kennis-en-datacentrum/achtergrond/klimatologische-brochures-en-boeken / Vector mean windspeed (in 0.1 m/s)\n",
    "# FG        = Etmaalgemiddelde windsnelheid (in 0.1 m/s) / Daily mean windspeed (in 0.1 m/s) \n",
    "# FHX       = Hoogste uurgemiddelde windsnelheid (in 0.1 m/s) / Maximum hourly mean windspeed (in 0.1 m/s)\n",
    "# FHXH      = Uurvak waarin FHX is gemeten / Hourly division in which FHX was measured\n",
    "# FHN       = Laagste uurgemiddelde windsnelheid (in 0.1 m/s) / Minimum hourly mean windspeed (in 0.1 m/s)\n",
    "# FHNH      = Uurvak waarin FHN is gemeten / Hourly division in which FHN was measured\n",
    "# FXX       = Hoogste windstoot (in 0.1 m/s) / Maximum wind gust (in 0.1 m/s)\n",
    "# FXXH      = Uurvak waarin FXX is gemeten / Hourly division in which FXX was measured\n",
    "# TG        = Etmaalgemiddelde temperatuur (in 0.1 graden Celsius) / Daily mean temperature in (0.1 degrees Celsius)\n",
    "# TN        = Minimum temperatuur (in 0.1 graden Celsius) / Minimum temperature (in 0.1 degrees Celsius)\n",
    "# TNH       = Uurvak waarin TN is gemeten / Hourly division in which TN was measured\n",
    "# TX        = Maximum temperatuur (in 0.1 graden Celsius) / Maximum temperature (in 0.1 degrees Celsius)\n",
    "# TXH       = Uurvak waarin TX is gemeten / Hourly division in which TX was measured\n",
    "# T10N      = Minimum temperatuur op 10 cm hoogte (in 0.1 graden Celsius) / Minimum temperature at 10 cm above surface (in 0.1 degrees Celsius)\n",
    "# T10NH     = 6-uurs tijdvak waarin T10N is gemeten / 6-hourly division in which T10N was measured; 6=0-6 UT, 12=6-12 UT, 18=12-18 UT, 24=18-24 UT \n",
    "# SQ        = Zonneschijnduur (in 0.1 uur) berekend uit de globale straling (-1 voor <0.05 uur) / Sunshine duration (in 0.1 hour) calculated from global radiation (-1 for <0.05 hour)\n",
    "# SP        = Percentage van de langst mogelijke zonneschijnduur / Percentage of maximum potential sunshine duration\n",
    "# Q         = Globale straling (in J/cm2) / Global radiation (in J/cm2)\n",
    "# DR        = Duur van de neerslag (in 0.1 uur) / Precipitation duration (in 0.1 hour)\n",
    "# RH        = Etmaalsom van de neerslag (in 0.1 mm) (-1 voor <0.05 mm) / Daily precipitation amount (in 0.1 mm) (-1 for <0.05 mm)\n",
    "# RHX       = Hoogste uursom van de neerslag (in 0.1 mm) (-1 voor <0.05 mm) / Maximum hourly precipitation amount (in 0.1 mm) (-1 for <0.05 mm)\n",
    "# RHXH      = Uurvak waarin RHX is gemeten / Hourly division in which RHX was measured\n",
    "# PG        = Etmaalgemiddelde luchtdruk herleid tot zeeniveau (in 0.1 hPa) berekend uit 24 uurwaarden / Daily mean sea level pressure (in 0.1 hPa) calculated from 24 hourly values\n",
    "# PX        = Hoogste uurwaarde van de luchtdruk herleid tot zeeniveau (in 0.1 hPa) / Maximum hourly sea level pressure (in 0.1 hPa)\n",
    "# PXH       = Uurvak waarin PX is gemeten / Hourly division in which PX was measured\n",
    "# PN        = Laagste uurwaarde van de luchtdruk herleid tot zeeniveau (in 0.1 hPa) / Minimum hourly sea level pressure (in 0.1 hPa)\n",
    "# PNH       = Uurvak waarin PN is gemeten / Hourly division in which PN was measured\n",
    "# VVN       = Minimum opgetreden zicht / Minimum visibility; 0: <100 m, 1:100-200 m, 2:200-300 m,..., 49:4900-5000 m, 50:5-6 km, 56:6-7 km, 57:7-8 km,..., 79:29-30 km, 80:30-35 km, 81:35-40 km,..., 89: >70 km)\n",
    "# VVNH      = Uurvak waarin VVN is gemeten / Hourly division in which VVN was measured\n",
    "# VVX       = Maximum opgetreden zicht / Maximum visibility; 0: <100 m, 1:100-200 m, 2:200-300 m,..., 49:4900-5000 m, 50:5-6 km, 56:6-7 km, 57:7-8 km,..., 79:29-30 km, 80:30-35 km, 81:35-40 km,..., 89: >70 km)\n",
    "# VVXH      = Uurvak waarin VVX is gemeten / Hourly division in which VVX was measured\n",
    "# NG        = Etmaalgemiddelde bewolking (bedekkingsgraad van de bovenlucht in achtsten, 9=bovenlucht onzichtbaar) / Mean daily cloud cover (in octants, 9=sky invisible)\n",
    "# UG        = Etmaalgemiddelde relatieve vochtigheid (in procenten) / Daily mean relative atmospheric humidity (in percents)\n",
    "# UX        = Maximale relatieve vochtigheid (in procenten) / Maximum relative atmospheric humidity (in percents)\n",
    "# UXH       = Uurvak waarin UX is gemeten / Hourly division in which UX was measured\n",
    "# UN        = Minimale relatieve vochtigheid (in procenten) / Minimum relative atmospheric humidity (in percents)\n",
    "# UNH       = Uurvak waarin UN is gemeten / Hourly division in which UN was measured\n",
    "# EV24      = Referentiegewasverdamping (Makkink) (in 0.1 mm) / Potential evapotranspiration (Makkink) (in 0.1 mm)"
   ]
  },
  {
   "cell_type": "code",
   "execution_count": null,
   "metadata": {},
   "outputs": [],
   "source": [
    "pip install pandas"
   ]
  },
  {
   "cell_type": "code",
   "execution_count": null,
   "metadata": {},
   "outputs": [],
   "source": [
    "pip install sklearn"
   ]
  },
  {
   "cell_type": "code",
   "execution_count": null,
   "metadata": {},
   "outputs": [],
   "source": [
    "pip install keras"
   ]
  },
  {
   "cell_type": "code",
   "execution_count": null,
   "metadata": {},
   "outputs": [],
   "source": [
    "pip install tensorflow"
   ]
  },
  {
   "cell_type": "code",
   "execution_count": null,
   "metadata": {},
   "outputs": [],
   "source": [
    "pip install matplotlib"
   ]
  },
  {
   "cell_type": "code",
   "execution_count": 1,
   "metadata": {},
   "outputs": [
    {
     "output_type": "stream",
     "name": "stdout",
     "text": [
      "Done\n"
     ]
    }
   ],
   "source": [
    "import pandas                   as pd\n",
    "import numpy                    as np\n",
    "from sklearn                    import preprocessing\n",
    "from sklearn.model_selection    import train_test_split\n",
    "from keras.models               import Sequential\n",
    "from keras.layers               import Dense\n",
    "import matplotlib.pyplot        as plt\n",
    "\n",
    "df = pd.read_csv(\"data/lelijk_weer_MvL_no_spaces.csv\")\n",
    "pd.set_option('display.max_rows', df.shape[0]+1)\n",
    "# replace NaN values with column average\n",
    "df = df.fillna(df.mean())\n",
    "print(\"Done\")"
   ]
  },
  {
   "cell_type": "code",
   "execution_count": 2,
   "metadata": {},
   "outputs": [
    {
     "output_type": "stream",
     "name": "stdout",
     "text": [
      "Done\n"
     ]
    }
   ],
   "source": [
    "# Voeg slecht-weer-indicator toe aan de bestaande data.\n",
    "# Bepalend zijn:\n",
    "\n",
    "# +--------+-------------------------------------------------------+-----------+\n",
    "# |Code    |Beschrijving                                           |Eenheid    |\n",
    "# +--------+-------------------------------------------------------+-----------+\n",
    "# |FG:     |gemiddelde windselheid\t\t\t\t\t\t\t\t   |0.1 m/s    |\n",
    "# |FXX:    |hoogste windstoot\t\t\t\t\t\t\t\t\t   |0.1 m/s    |\n",
    "# |TG:     |gemiddelde temperatuur\t\t\t\t\t\t\t\t   |0.1 C      |\n",
    "# |SP:     |percentage van langst mogelijke zonneschijnsduur\t   |%          |\n",
    "# |DR:     |duur neerslag\t\t\t\t\t\t\t\t\t\t   |0.1 h      |\n",
    "# |RH:     |etmaalsom neerslag\t\t\t\t\t\t\t\t\t   |0.1 mm     |\n",
    "# +--------+-------------------------------------------------------+-----------+\n",
    "\n",
    "# Wanneer deze variabelen boven een bepaalde waarde komen, scoren ze een punt.\n",
    "# Bij een score van 50% van de maximale score, krijgt het weer de classificatie \"slect weer\".\n",
    "# 0 = geen slecht weer\n",
    "# 1 = slecht weer\n",
    "\n",
    "def setClassification (row):\n",
    "    weatherScore = 0 # score is een weging op basis van irritatie factor (1 minst irritant 3 meest irritant)\n",
    "    if row['FG'] >= 80: # Windkracht 5 of meer\n",
    "        weatherScore += 2\n",
    "    if row['FXX'] >= 172: # Windkracht 8 of meer\n",
    "        weatherScore += 1\n",
    "    if row['TG'] <= 100: # 10 graden C of kouder\n",
    "        weatherScore += 1\n",
    "    if row['SP'] <= 20: # zon scheen niet meer dan 20% van mogeijke maximale zonneschijnduur\n",
    "        weatherScore += 3\n",
    "    if row['DR'] >= 40: # regenduur 4 uur of langer\n",
    "        weatherScore += 2\n",
    "    if row['RH'] >= 400: # regensom 40 mm of meer\n",
    "        weatherScore += 3\n",
    "\n",
    "    scoreMax = 12 # score van de totaal aantal punten die gegeven kan worden (zie boven)\n",
    "    weatherClassifier = 0\n",
    "    if weatherScore >= (0.5 * scoreMax): #wanneer score de helft is van maxScore is het slecht weer\n",
    "        weatherClassifier = 1\n",
    "    return weatherClassifier\n",
    "\n",
    "df['Classification'] = df.apply (lambda row: setClassification(row), axis=1)\n",
    "print(\"Done\")"
   ]
  },
  {
   "cell_type": "code",
   "execution_count": 3,
   "metadata": {},
   "outputs": [
    {
     "output_type": "execute_result",
     "data": {
      "text/plain": [
       "0    40336\n",
       "1     3650\n",
       "Name: Classification, dtype: int64"
      ]
     },
     "metadata": {},
     "execution_count": 3
    }
   ],
   "source": [
    "# pak alleen de kolomen waar wij naar kijken\n",
    "newdf = df[['FG', 'FXX', 'TG', 'SP', 'DR', 'RH', 'Classification']]\n",
    "dataset = newdf.values\n",
    "newdf['Classification'].value_counts()"
   ]
  },
  {
   "cell_type": "code",
   "execution_count": 4,
   "metadata": {},
   "outputs": [
    {
     "output_type": "stream",
     "name": "stdout",
     "text": [
      "Done\n"
     ]
    }
   ],
   "source": [
    "#zet de eerste 6 kolomen in de X as (alles behalve Classification die komt in Y as)\n",
    "X = dataset[:,0:6]\n",
    "y = dataset[:,6]\n",
    "print(\"Done\")"
   ]
  },
  {
   "cell_type": "code",
   "execution_count": 5,
   "metadata": {},
   "outputs": [
    {
     "output_type": "stream",
     "name": "stdout",
     "text": [
      "Done\n"
     ]
    }
   ],
   "source": [
    "# create training set\n",
    "X_train, X_val_and_test, Y_train, Y_val_and_test = train_test_split(X, y, test_size=0.3)\n",
    "print(\"Done\")"
   ]
  },
  {
   "cell_type": "code",
   "execution_count": 6,
   "metadata": {},
   "outputs": [
    {
     "output_type": "stream",
     "name": "stdout",
     "text": [
      "Done\n"
     ]
    }
   ],
   "source": [
    "#create the validation and test set\n",
    "X_val, X_test, Y_val, Y_test = train_test_split(X_val_and_test, Y_val_and_test, test_size=0.5)\n",
    "print(\"Done\")"
   ]
  },
  {
   "cell_type": "code",
   "execution_count": 7,
   "metadata": {},
   "outputs": [
    {
     "output_type": "stream",
     "name": "stdout",
     "text": [
      "Done\n"
     ]
    }
   ],
   "source": [
    "# Maakt euraal netwerk\n",
    "m = Sequential()\n",
    "m.add(Dense(16, activation='relu', input_dim=6))\n",
    "m.add(Dense(16, activation='relu'))\n",
    "m.add(Dense(16, activation='relu'))\n",
    "m.add(Dense(16, activation='relu'))\n",
    "m.add(Dense(1, activation='sigmoid'))\n",
    "print(\"Done\")"
   ]
  },
  {
   "cell_type": "code",
   "execution_count": 8,
   "metadata": {},
   "outputs": [
    {
     "output_type": "stream",
     "name": "stdout",
     "text": [
      "Done\n"
     ]
    }
   ],
   "source": [
    "m.compile(optimizer='adam', loss='binary_crossentropy', metrics= ['accuracy'])\n",
    "print(\"Done\")"
   ]
  },
  {
   "cell_type": "code",
   "execution_count": 9,
   "metadata": {
    "tags": [
     "outputPrepend"
    ]
   },
   "outputs": [
    {
     "output_type": "stream",
     "name": "stdout",
     "text": [
      "] - 1s 887us/step - loss: 0.0582 - accuracy: 0.9769 - val_loss: 0.0623 - val_accuracy: 0.9758\n",
      "Epoch 15/150\n",
      "963/963 [==============================] - 1s 1ms/step - loss: 0.0556 - accuracy: 0.9784 - val_loss: 0.0622 - val_accuracy: 0.9751\n",
      "Epoch 16/150\n",
      "963/963 [==============================] - 1s 895us/step - loss: 0.0576 - accuracy: 0.9765 - val_loss: 0.0605 - val_accuracy: 0.9758\n",
      "Epoch 17/150\n",
      "963/963 [==============================] - 1s 907us/step - loss: 0.0525 - accuracy: 0.9801 - val_loss: 0.0561 - val_accuracy: 0.9771\n",
      "Epoch 18/150\n",
      "963/963 [==============================] - 1s 877us/step - loss: 0.0543 - accuracy: 0.9771 - val_loss: 0.0643 - val_accuracy: 0.9707\n",
      "Epoch 19/150\n",
      "963/963 [==============================] - 1s 915us/step - loss: 0.0524 - accuracy: 0.9774 - val_loss: 0.0538 - val_accuracy: 0.9765\n",
      "Epoch 20/150\n",
      "963/963 [==============================] - 1s 839us/step - loss: 0.0504 - accuracy: 0.9783 - val_loss: 0.0580 - val_accuracy: 0.9761\n",
      "Epoch 21/150\n",
      "963/963 [==============================] - 1s 849us/step - loss: 0.0492 - accuracy: 0.9794 - val_loss: 0.0572 - val_accuracy: 0.9759\n",
      "Epoch 22/150\n",
      "963/963 [==============================] - 1s 839us/step - loss: 0.0487 - accuracy: 0.9805 - val_loss: 0.0595 - val_accuracy: 0.9736\n",
      "Epoch 23/150\n",
      "963/963 [==============================] - 1s 851us/step - loss: 0.0476 - accuracy: 0.9804 - val_loss: 0.0506 - val_accuracy: 0.9776\n",
      "Epoch 24/150\n",
      "963/963 [==============================] - 1s 971us/step - loss: 0.0476 - accuracy: 0.9804 - val_loss: 0.0535 - val_accuracy: 0.9785\n",
      "Epoch 25/150\n",
      "963/963 [==============================] - 1s 859us/step - loss: 0.0443 - accuracy: 0.9808 - val_loss: 0.0493 - val_accuracy: 0.9821\n",
      "Epoch 26/150\n",
      "963/963 [==============================] - 1s 862us/step - loss: 0.0439 - accuracy: 0.9811 - val_loss: 0.0530 - val_accuracy: 0.9776\n",
      "Epoch 27/150\n",
      "963/963 [==============================] - 1s 864us/step - loss: 0.0431 - accuracy: 0.9813 - val_loss: 0.0566 - val_accuracy: 0.9779\n",
      "Epoch 28/150\n",
      "963/963 [==============================] - 1s 837us/step - loss: 0.0411 - accuracy: 0.9818 - val_loss: 0.0493 - val_accuracy: 0.9812\n",
      "Epoch 29/150\n",
      "963/963 [==============================] - 1s 837us/step - loss: 0.0416 - accuracy: 0.9824 - val_loss: 0.0502 - val_accuracy: 0.9788\n",
      "Epoch 30/150\n",
      "963/963 [==============================] - 1s 834us/step - loss: 0.0390 - accuracy: 0.9840 - val_loss: 0.0449 - val_accuracy: 0.9818\n",
      "Epoch 31/150\n",
      "963/963 [==============================] - 1s 863us/step - loss: 0.0394 - accuracy: 0.9833 - val_loss: 0.0706 - val_accuracy: 0.9735\n",
      "Epoch 32/150\n",
      "963/963 [==============================] - 1s 846us/step - loss: 0.0376 - accuracy: 0.9847 - val_loss: 0.0611 - val_accuracy: 0.9753\n",
      "Epoch 33/150\n",
      "963/963 [==============================] - 1s 853us/step - loss: 0.0360 - accuracy: 0.9858 - val_loss: 0.0426 - val_accuracy: 0.9830\n",
      "Epoch 34/150\n",
      "963/963 [==============================] - 1s 828us/step - loss: 0.0368 - accuracy: 0.9846 - val_loss: 0.0477 - val_accuracy: 0.9823\n",
      "Epoch 35/150\n",
      "963/963 [==============================] - 1s 819us/step - loss: 0.0336 - accuracy: 0.9869 - val_loss: 0.0408 - val_accuracy: 0.9830\n",
      "Epoch 36/150\n",
      "963/963 [==============================] - 1s 892us/step - loss: 0.0324 - accuracy: 0.9858 - val_loss: 0.0401 - val_accuracy: 0.9824\n",
      "Epoch 37/150\n",
      "963/963 [==============================] - 1s 851us/step - loss: 0.0329 - accuracy: 0.9862 - val_loss: 0.0402 - val_accuracy: 0.9832\n",
      "Epoch 38/150\n",
      "963/963 [==============================] - 1s 830us/step - loss: 0.0316 - accuracy: 0.9871 - val_loss: 0.0407 - val_accuracy: 0.9841\n",
      "Epoch 39/150\n",
      "963/963 [==============================] - 1s 854us/step - loss: 0.0302 - accuracy: 0.9872 - val_loss: 0.0518 - val_accuracy: 0.9770\n",
      "Epoch 40/150\n",
      "963/963 [==============================] - 1s 856us/step - loss: 0.0331 - accuracy: 0.9861 - val_loss: 0.0390 - val_accuracy: 0.9838\n",
      "Epoch 41/150\n",
      "963/963 [==============================] - 1s 825us/step - loss: 0.0306 - accuracy: 0.9878 - val_loss: 0.0384 - val_accuracy: 0.9845\n",
      "Epoch 42/150\n",
      "963/963 [==============================] - 1s 859us/step - loss: 0.0290 - accuracy: 0.9888 - val_loss: 0.0378 - val_accuracy: 0.9864\n",
      "Epoch 43/150\n",
      "963/963 [==============================] - 1s 839us/step - loss: 0.0318 - accuracy: 0.9870 - val_loss: 0.0351 - val_accuracy: 0.9871\n",
      "Epoch 44/150\n",
      "963/963 [==============================] - 1s 844us/step - loss: 0.0289 - accuracy: 0.9879 - val_loss: 0.0372 - val_accuracy: 0.9848\n",
      "Epoch 45/150\n",
      "963/963 [==============================] - 1s 873us/step - loss: 0.0272 - accuracy: 0.9886 - val_loss: 0.0441 - val_accuracy: 0.9811\n",
      "Epoch 46/150\n",
      "963/963 [==============================] - 1s 850us/step - loss: 0.0263 - accuracy: 0.9883 - val_loss: 0.0334 - val_accuracy: 0.9874\n",
      "Epoch 47/150\n",
      "963/963 [==============================] - 1s 825us/step - loss: 0.0262 - accuracy: 0.9894 - val_loss: 0.0351 - val_accuracy: 0.9865\n",
      "Epoch 48/150\n",
      "963/963 [==============================] - 1s 827us/step - loss: 0.0253 - accuracy: 0.9895 - val_loss: 0.0295 - val_accuracy: 0.9888\n",
      "Epoch 49/150\n",
      "963/963 [==============================] - 1s 821us/step - loss: 0.0286 - accuracy: 0.9884 - val_loss: 0.0345 - val_accuracy: 0.9870\n",
      "Epoch 50/150\n",
      "963/963 [==============================] - 1s 847us/step - loss: 0.0308 - accuracy: 0.9870 - val_loss: 0.0400 - val_accuracy: 0.9832\n",
      "Epoch 51/150\n",
      "963/963 [==============================] - 1s 969us/step - loss: 0.0276 - accuracy: 0.9892 - val_loss: 0.0316 - val_accuracy: 0.9883\n",
      "Epoch 52/150\n",
      "963/963 [==============================] - 1s 903us/step - loss: 0.0253 - accuracy: 0.9893 - val_loss: 0.0337 - val_accuracy: 0.9889\n",
      "Epoch 53/150\n",
      "963/963 [==============================] - 1s 904us/step - loss: 0.0278 - accuracy: 0.9875 - val_loss: 0.0348 - val_accuracy: 0.9868\n",
      "Epoch 54/150\n",
      "963/963 [==============================] - 1s 868us/step - loss: 0.0259 - accuracy: 0.9887 - val_loss: 0.0328 - val_accuracy: 0.9867\n",
      "Epoch 55/150\n",
      "963/963 [==============================] - 1s 913us/step - loss: 0.0250 - accuracy: 0.9896 - val_loss: 0.0361 - val_accuracy: 0.9862\n",
      "Epoch 56/150\n",
      "963/963 [==============================] - 1s 865us/step - loss: 0.0314 - accuracy: 0.9887 - val_loss: 0.0338 - val_accuracy: 0.9859\n",
      "Epoch 57/150\n",
      "963/963 [==============================] - 1s 854us/step - loss: 0.0243 - accuracy: 0.9889 - val_loss: 0.0441 - val_accuracy: 0.9839\n",
      "Epoch 58/150\n",
      "963/963 [==============================] - 1s 857us/step - loss: 0.0257 - accuracy: 0.9889 - val_loss: 0.0307 - val_accuracy: 0.9879\n",
      "Epoch 59/150\n",
      "963/963 [==============================] - 1s 852us/step - loss: 0.0258 - accuracy: 0.9888 - val_loss: 0.0289 - val_accuracy: 0.9892\n",
      "Epoch 60/150\n",
      "963/963 [==============================] - 1s 867us/step - loss: 0.0236 - accuracy: 0.9908 - val_loss: 0.0304 - val_accuracy: 0.9885\n",
      "Epoch 61/150\n",
      "963/963 [==============================] - 1s 838us/step - loss: 0.0241 - accuracy: 0.9902 - val_loss: 0.0326 - val_accuracy: 0.9894\n",
      "Epoch 62/150\n",
      "963/963 [==============================] - 1s 858us/step - loss: 0.0231 - accuracy: 0.9894 - val_loss: 0.0344 - val_accuracy: 0.9876\n",
      "Epoch 63/150\n",
      "963/963 [==============================] - 1s 857us/step - loss: 0.0223 - accuracy: 0.9912 - val_loss: 0.0311 - val_accuracy: 0.9886\n",
      "Epoch 64/150\n",
      "963/963 [==============================] - 1s 864us/step - loss: 0.0241 - accuracy: 0.9896 - val_loss: 0.0301 - val_accuracy: 0.9885\n",
      "Epoch 65/150\n",
      "963/963 [==============================] - 1s 856us/step - loss: 0.0245 - accuracy: 0.9904 - val_loss: 0.0351 - val_accuracy: 0.9871\n",
      "Epoch 66/150\n",
      "963/963 [==============================] - 1s 840us/step - loss: 0.0236 - accuracy: 0.9909 - val_loss: 0.0401 - val_accuracy: 0.9850\n",
      "Epoch 67/150\n",
      "963/963 [==============================] - 1s 834us/step - loss: 0.0219 - accuracy: 0.9914 - val_loss: 0.0285 - val_accuracy: 0.9895\n",
      "Epoch 68/150\n",
      "963/963 [==============================] - 1s 872us/step - loss: 0.0218 - accuracy: 0.9914 - val_loss: 0.0361 - val_accuracy: 0.9855\n",
      "Epoch 69/150\n",
      "963/963 [==============================] - 1s 867us/step - loss: 0.0226 - accuracy: 0.9906 - val_loss: 0.0281 - val_accuracy: 0.9908\n",
      "Epoch 70/150\n",
      "963/963 [==============================] - 1s 866us/step - loss: 0.0245 - accuracy: 0.9901 - val_loss: 0.0324 - val_accuracy: 0.9868\n",
      "Epoch 71/150\n",
      "963/963 [==============================] - 1s 854us/step - loss: 0.0202 - accuracy: 0.9913 - val_loss: 0.0317 - val_accuracy: 0.9885\n",
      "Epoch 72/150\n",
      "963/963 [==============================] - 1s 852us/step - loss: 0.0217 - accuracy: 0.9902 - val_loss: 0.0323 - val_accuracy: 0.9876\n",
      "Epoch 73/150\n",
      "963/963 [==============================] - 1s 853us/step - loss: 0.0218 - accuracy: 0.9913 - val_loss: 0.0357 - val_accuracy: 0.9873\n",
      "Epoch 74/150\n",
      "963/963 [==============================] - 1s 867us/step - loss: 0.0204 - accuracy: 0.9921 - val_loss: 0.0360 - val_accuracy: 0.9867\n",
      "Epoch 75/150\n",
      "963/963 [==============================] - 1s 865us/step - loss: 0.0211 - accuracy: 0.9916 - val_loss: 0.0310 - val_accuracy: 0.9888\n",
      "Epoch 76/150\n",
      "963/963 [==============================] - 1s 840us/step - loss: 0.0226 - accuracy: 0.9907 - val_loss: 0.0320 - val_accuracy: 0.9880\n",
      "Epoch 77/150\n",
      "963/963 [==============================] - 1s 871us/step - loss: 0.0215 - accuracy: 0.9914 - val_loss: 0.0467 - val_accuracy: 0.9839\n",
      "Epoch 78/150\n",
      "963/963 [==============================] - 1s 821us/step - loss: 0.0206 - accuracy: 0.9915 - val_loss: 0.0292 - val_accuracy: 0.9901\n",
      "Epoch 79/150\n",
      "963/963 [==============================] - 1s 823us/step - loss: 0.0234 - accuracy: 0.9903 - val_loss: 0.0282 - val_accuracy: 0.9911\n",
      "Epoch 80/150\n",
      "963/963 [==============================] - 1s 859us/step - loss: 0.0212 - accuracy: 0.9909 - val_loss: 0.0331 - val_accuracy: 0.9880\n",
      "Epoch 81/150\n",
      "963/963 [==============================] - 1s 842us/step - loss: 0.0231 - accuracy: 0.9907 - val_loss: 0.0353 - val_accuracy: 0.9871\n",
      "Epoch 82/150\n",
      "963/963 [==============================] - 1s 839us/step - loss: 0.0218 - accuracy: 0.9904 - val_loss: 0.0241 - val_accuracy: 0.9923\n",
      "Epoch 83/150\n",
      "963/963 [==============================] - 1s 859us/step - loss: 0.0191 - accuracy: 0.9920 - val_loss: 0.0449 - val_accuracy: 0.9830\n",
      "Epoch 84/150\n",
      "963/963 [==============================] - 1s 847us/step - loss: 0.0236 - accuracy: 0.9906 - val_loss: 0.0314 - val_accuracy: 0.9891\n",
      "Epoch 85/150\n",
      "963/963 [==============================] - 1s 841us/step - loss: 0.0226 - accuracy: 0.9914 - val_loss: 0.0339 - val_accuracy: 0.9888\n",
      "Epoch 86/150\n",
      "963/963 [==============================] - 1s 862us/step - loss: 0.0198 - accuracy: 0.9920 - val_loss: 0.0260 - val_accuracy: 0.9929\n",
      "Epoch 87/150\n",
      "963/963 [==============================] - 1s 849us/step - loss: 0.0183 - accuracy: 0.9925 - val_loss: 0.0282 - val_accuracy: 0.9911\n",
      "Epoch 88/150\n",
      "963/963 [==============================] - 1s 863us/step - loss: 0.0182 - accuracy: 0.9921 - val_loss: 0.0320 - val_accuracy: 0.9897\n",
      "Epoch 89/150\n",
      "963/963 [==============================] - 1s 896us/step - loss: 0.0214 - accuracy: 0.9907 - val_loss: 0.0306 - val_accuracy: 0.9901\n",
      "Epoch 90/150\n",
      "963/963 [==============================] - 1s 857us/step - loss: 0.0175 - accuracy: 0.9931 - val_loss: 0.0303 - val_accuracy: 0.9900\n",
      "Epoch 91/150\n",
      "963/963 [==============================] - 1s 856us/step - loss: 0.0179 - accuracy: 0.9933 - val_loss: 0.0302 - val_accuracy: 0.9903\n",
      "Epoch 92/150\n",
      "963/963 [==============================] - 1s 853us/step - loss: 0.0170 - accuracy: 0.9928 - val_loss: 0.0507 - val_accuracy: 0.9827\n",
      "Epoch 93/150\n",
      "963/963 [==============================] - 1s 866us/step - loss: 0.0190 - accuracy: 0.9917 - val_loss: 0.0333 - val_accuracy: 0.9877\n",
      "Epoch 94/150\n",
      "963/963 [==============================] - 1s 810us/step - loss: 0.0180 - accuracy: 0.9934 - val_loss: 0.0312 - val_accuracy: 0.9889\n",
      "Epoch 95/150\n",
      "963/963 [==============================] - 1s 807us/step - loss: 0.0182 - accuracy: 0.9926 - val_loss: 0.0311 - val_accuracy: 0.9883\n",
      "Epoch 96/150\n",
      "963/963 [==============================] - 1s 825us/step - loss: 0.0173 - accuracy: 0.9924 - val_loss: 0.0430 - val_accuracy: 0.9838\n",
      "Epoch 97/150\n",
      "963/963 [==============================] - 1s 823us/step - loss: 0.0243 - accuracy: 0.9898 - val_loss: 0.0291 - val_accuracy: 0.9894\n",
      "Epoch 98/150\n",
      "963/963 [==============================] - 1s 856us/step - loss: 0.0207 - accuracy: 0.9911 - val_loss: 0.0318 - val_accuracy: 0.9900\n",
      "Epoch 99/150\n",
      "963/963 [==============================] - 1s 855us/step - loss: 0.0172 - accuracy: 0.9935 - val_loss: 0.0324 - val_accuracy: 0.9905\n",
      "Epoch 100/150\n",
      "963/963 [==============================] - 1s 813us/step - loss: 0.0200 - accuracy: 0.9912 - val_loss: 0.0294 - val_accuracy: 0.9917\n",
      "Epoch 101/150\n",
      "963/963 [==============================] - 1s 825us/step - loss: 0.0208 - accuracy: 0.9910 - val_loss: 0.0274 - val_accuracy: 0.9906\n",
      "Epoch 102/150\n",
      "963/963 [==============================] - 1s 846us/step - loss: 0.0190 - accuracy: 0.9923 - val_loss: 0.0361 - val_accuracy: 0.9876\n",
      "Epoch 103/150\n",
      "963/963 [==============================] - 1s 885us/step - loss: 0.0174 - accuracy: 0.9927 - val_loss: 0.0291 - val_accuracy: 0.9895\n",
      "Epoch 104/150\n",
      "963/963 [==============================] - 1s 857us/step - loss: 0.0206 - accuracy: 0.9917 - val_loss: 0.0290 - val_accuracy: 0.9901\n",
      "Epoch 105/150\n",
      "963/963 [==============================] - 1s 867us/step - loss: 0.0185 - accuracy: 0.9921 - val_loss: 0.0329 - val_accuracy: 0.9880\n",
      "Epoch 106/150\n",
      "963/963 [==============================] - 1s 825us/step - loss: 0.0167 - accuracy: 0.9930 - val_loss: 0.0271 - val_accuracy: 0.9912\n",
      "Epoch 107/150\n",
      "963/963 [==============================] - 1s 840us/step - loss: 0.0218 - accuracy: 0.9912 - val_loss: 0.0312 - val_accuracy: 0.9885\n",
      "Epoch 108/150\n",
      "963/963 [==============================] - 1s 843us/step - loss: 0.0195 - accuracy: 0.9918 - val_loss: 0.0316 - val_accuracy: 0.9886\n",
      "Epoch 109/150\n",
      "963/963 [==============================] - 1s 822us/step - loss: 0.0169 - accuracy: 0.9932 - val_loss: 0.0285 - val_accuracy: 0.9889\n",
      "Epoch 110/150\n",
      "963/963 [==============================] - 1s 835us/step - loss: 0.0192 - accuracy: 0.9916 - val_loss: 0.0238 - val_accuracy: 0.9920\n",
      "Epoch 111/150\n",
      "963/963 [==============================] - 1s 840us/step - loss: 0.0155 - accuracy: 0.9937 - val_loss: 0.0349 - val_accuracy: 0.9871\n",
      "Epoch 112/150\n",
      "963/963 [==============================] - 1s 840us/step - loss: 0.0198 - accuracy: 0.9913 - val_loss: 0.0265 - val_accuracy: 0.9895\n",
      "Epoch 113/150\n",
      "963/963 [==============================] - 1s 851us/step - loss: 0.0193 - accuracy: 0.9919 - val_loss: 0.0260 - val_accuracy: 0.9908\n",
      "Epoch 114/150\n",
      "963/963 [==============================] - 1s 913us/step - loss: 0.0162 - accuracy: 0.9928 - val_loss: 0.0230 - val_accuracy: 0.9917\n",
      "Epoch 115/150\n",
      "963/963 [==============================] - 1s 850us/step - loss: 0.0167 - accuracy: 0.9935 - val_loss: 0.0243 - val_accuracy: 0.9901\n",
      "Epoch 116/150\n",
      "963/963 [==============================] - 1s 857us/step - loss: 0.0187 - accuracy: 0.9919 - val_loss: 0.0313 - val_accuracy: 0.9862\n",
      "Epoch 117/150\n",
      "963/963 [==============================] - 1s 830us/step - loss: 0.0203 - accuracy: 0.9915 - val_loss: 0.0261 - val_accuracy: 0.9906\n",
      "Epoch 118/150\n",
      "963/963 [==============================] - 1s 841us/step - loss: 0.0153 - accuracy: 0.9939 - val_loss: 0.0362 - val_accuracy: 0.9877\n",
      "Epoch 119/150\n",
      "963/963 [==============================] - 1s 824us/step - loss: 0.0182 - accuracy: 0.9919 - val_loss: 0.0429 - val_accuracy: 0.9873\n",
      "Epoch 120/150\n",
      "963/963 [==============================] - 1s 842us/step - loss: 0.0249 - accuracy: 0.9897 - val_loss: 0.0314 - val_accuracy: 0.9888\n",
      "Epoch 121/150\n",
      "963/963 [==============================] - 1s 828us/step - loss: 0.0162 - accuracy: 0.9932 - val_loss: 0.0311 - val_accuracy: 0.9885\n",
      "Epoch 122/150\n",
      "963/963 [==============================] - 1s 812us/step - loss: 0.0159 - accuracy: 0.9939 - val_loss: 0.0250 - val_accuracy: 0.9906\n",
      "Epoch 123/150\n",
      "963/963 [==============================] - 1s 825us/step - loss: 0.0186 - accuracy: 0.9923 - val_loss: 0.0225 - val_accuracy: 0.9908\n",
      "Epoch 124/150\n",
      "963/963 [==============================] - 1s 855us/step - loss: 0.0152 - accuracy: 0.9933 - val_loss: 0.0278 - val_accuracy: 0.9891\n",
      "Epoch 125/150\n",
      "963/963 [==============================] - 1s 871us/step - loss: 0.0168 - accuracy: 0.9938 - val_loss: 0.0181 - val_accuracy: 0.9923\n",
      "Epoch 126/150\n",
      "963/963 [==============================] - 1s 829us/step - loss: 0.0177 - accuracy: 0.9931 - val_loss: 0.0196 - val_accuracy: 0.9923\n",
      "Epoch 127/150\n",
      "963/963 [==============================] - 1s 815us/step - loss: 0.0162 - accuracy: 0.9929 - val_loss: 0.0233 - val_accuracy: 0.9908\n",
      "Epoch 128/150\n",
      "963/963 [==============================] - 1s 823us/step - loss: 0.0146 - accuracy: 0.9938 - val_loss: 0.0247 - val_accuracy: 0.9903\n",
      "Epoch 129/150\n",
      "963/963 [==============================] - 1s 826us/step - loss: 0.0173 - accuracy: 0.9931 - val_loss: 0.0272 - val_accuracy: 0.9883\n",
      "Epoch 130/150\n",
      "963/963 [==============================] - 1s 1ms/step - loss: 0.0184 - accuracy: 0.9925 - val_loss: 0.0216 - val_accuracy: 0.9909\n",
      "Epoch 131/150\n",
      "963/963 [==============================] - 1s 882us/step - loss: 0.0166 - accuracy: 0.9934 - val_loss: 0.0253 - val_accuracy: 0.9920\n",
      "Epoch 132/150\n",
      "963/963 [==============================] - 1s 851us/step - loss: 0.0153 - accuracy: 0.9940 - val_loss: 0.0190 - val_accuracy: 0.9921\n",
      "Epoch 133/150\n",
      "963/963 [==============================] - 1s 839us/step - loss: 0.0203 - accuracy: 0.9927 - val_loss: 0.0215 - val_accuracy: 0.9921\n",
      "Epoch 134/150\n",
      "963/963 [==============================] - 1s 829us/step - loss: 0.0156 - accuracy: 0.9935 - val_loss: 0.0274 - val_accuracy: 0.9886\n",
      "Epoch 135/150\n",
      "963/963 [==============================] - 1s 844us/step - loss: 0.0187 - accuracy: 0.9926 - val_loss: 0.0307 - val_accuracy: 0.9882\n",
      "Epoch 136/150\n",
      "963/963 [==============================] - 1s 870us/step - loss: 0.0164 - accuracy: 0.9931 - val_loss: 0.0256 - val_accuracy: 0.9898\n",
      "Epoch 137/150\n",
      "963/963 [==============================] - 1s 852us/step - loss: 0.0123 - accuracy: 0.9956 - val_loss: 0.0304 - val_accuracy: 0.9892\n",
      "Epoch 138/150\n",
      "963/963 [==============================] - 1s 847us/step - loss: 0.0140 - accuracy: 0.9939 - val_loss: 0.0224 - val_accuracy: 0.9915\n",
      "Epoch 139/150\n",
      "963/963 [==============================] - 1s 862us/step - loss: 0.0155 - accuracy: 0.9940 - val_loss: 0.0205 - val_accuracy: 0.9930\n",
      "Epoch 140/150\n",
      "963/963 [==============================] - 1s 843us/step - loss: 0.0171 - accuracy: 0.9932 - val_loss: 0.0194 - val_accuracy: 0.9938\n",
      "Epoch 141/150\n",
      "963/963 [==============================] - 1s 968us/step - loss: 0.0142 - accuracy: 0.9935 - val_loss: 0.0356 - val_accuracy: 0.9880\n",
      "Epoch 142/150\n",
      "963/963 [==============================] - 1s 1ms/step - loss: 0.0163 - accuracy: 0.9932 - val_loss: 0.0267 - val_accuracy: 0.9909\n",
      "Epoch 143/150\n",
      "963/963 [==============================] - 1s 980us/step - loss: 0.0200 - accuracy: 0.9916 - val_loss: 0.0216 - val_accuracy: 0.9909\n",
      "Epoch 144/150\n",
      "963/963 [==============================] - 1s 979us/step - loss: 0.0135 - accuracy: 0.9948 - val_loss: 0.0166 - val_accuracy: 0.9932\n",
      "Epoch 145/150\n",
      "963/963 [==============================] - 1s 864us/step - loss: 0.0137 - accuracy: 0.9941 - val_loss: 0.0324 - val_accuracy: 0.9888\n",
      "Epoch 146/150\n",
      "963/963 [==============================] - 1s 846us/step - loss: 0.0170 - accuracy: 0.9930 - val_loss: 0.0345 - val_accuracy: 0.9876\n",
      "Epoch 147/150\n",
      "963/963 [==============================] - 1s 870us/step - loss: 0.0238 - accuracy: 0.9909 - val_loss: 0.0184 - val_accuracy: 0.9927\n",
      "Epoch 148/150\n",
      "963/963 [==============================] - 1s 854us/step - loss: 0.0158 - accuracy: 0.9934 - val_loss: 0.0228 - val_accuracy: 0.9908\n",
      "Epoch 149/150\n",
      "963/963 [==============================] - 1s 827us/step - loss: 0.0137 - accuracy: 0.9945 - val_loss: 0.0222 - val_accuracy: 0.9924\n",
      "Epoch 150/150\n",
      "963/963 [==============================] - 1s 817us/step - loss: 0.0146 - accuracy: 0.9934 - val_loss: 0.0276 - val_accuracy: 0.9905\n",
      "Done\n"
     ]
    }
   ],
   "source": [
    "#train the data\n",
    "fitted = m.fit(X_train, Y_train, epochs=150, validation_data=(X_val, Y_val))\n",
    "print(\"Done\")"
   ]
  },
  {
   "cell_type": "code",
   "execution_count": 10,
   "metadata": {},
   "outputs": [
    {
     "output_type": "stream",
     "name": "stdout",
     "text": [
      "207/207 [==============================] - 0s 626us/step - loss: 0.0324 - accuracy: 0.9880\n"
     ]
    },
    {
     "output_type": "execute_result",
     "data": {
      "text/plain": [
       "0.9880266785621643"
      ]
     },
     "metadata": {},
     "execution_count": 10
    }
   ],
   "source": [
    "# Accuracy of our test set\n",
    "m.evaluate(X_test, Y_test)[1]"
   ]
  },
  {
   "cell_type": "code",
   "execution_count": 11,
   "metadata": {},
   "outputs": [
    {
     "output_type": "display_data",
     "data": {
      "text/plain": "<Figure size 432x288 with 1 Axes>",
      "image/svg+xml": "<?xml version=\"1.0\" encoding=\"utf-8\" standalone=\"no\"?>\n<!DOCTYPE svg PUBLIC \"-//W3C//DTD SVG 1.1//EN\"\n  \"http://www.w3.org/Graphics/SVG/1.1/DTD/svg11.dtd\">\n<svg height=\"277.314375pt\" version=\"1.1\" viewBox=\"0 0 392.14375 277.314375\" width=\"392.14375pt\" xmlns=\"http://www.w3.org/2000/svg\" xmlns:xlink=\"http://www.w3.org/1999/xlink\">\n <metadata>\n  <rdf:RDF xmlns:cc=\"http://creativecommons.org/ns#\" xmlns:dc=\"http://purl.org/dc/elements/1.1/\" xmlns:rdf=\"http://www.w3.org/1999/02/22-rdf-syntax-ns#\">\n   <cc:Work>\n    <dc:type rdf:resource=\"http://purl.org/dc/dcmitype/StillImage\"/>\n    <dc:date>2021-06-07T00:03:06.416767</dc:date>\n    <dc:format>image/svg+xml</dc:format>\n    <dc:creator>\n     <cc:Agent>\n      <dc:title>Matplotlib v3.4.2, https://matplotlib.org/</dc:title>\n     </cc:Agent>\n    </dc:creator>\n   </cc:Work>\n  </rdf:RDF>\n </metadata>\n <defs>\n  <style type=\"text/css\">*{stroke-linecap:butt;stroke-linejoin:round;}</style>\n </defs>\n <g id=\"figure_1\">\n  <g id=\"patch_1\">\n   <path d=\"M 0 277.314375 \nL 392.14375 277.314375 \nL 392.14375 0 \nL 0 0 \nz\n\" style=\"fill:none;\"/>\n  </g>\n  <g id=\"axes_1\">\n   <g id=\"patch_2\">\n    <path d=\"M 50.14375 239.758125 \nL 384.94375 239.758125 \nL 384.94375 22.318125 \nL 50.14375 22.318125 \nz\n\" style=\"fill:#ffffff;\"/>\n   </g>\n   <g id=\"matplotlib.axis_1\">\n    <g id=\"xtick_1\">\n     <g id=\"line2d_1\">\n      <defs>\n       <path d=\"M 0 0 \nL 0 3.5 \n\" id=\"m3527a3039e\" style=\"stroke:#000000;stroke-width:0.8;\"/>\n      </defs>\n      <g>\n       <use style=\"stroke:#000000;stroke-width:0.8;\" x=\"65.361932\" xlink:href=\"#m3527a3039e\" y=\"239.758125\"/>\n      </g>\n     </g>\n     <g id=\"text_1\">\n      <!-- 0 -->\n      <g transform=\"translate(62.180682 254.356562)scale(0.1 -0.1)\">\n       <defs>\n        <path d=\"M 2034 4250 \nQ 1547 4250 1301 3770 \nQ 1056 3291 1056 2328 \nQ 1056 1369 1301 889 \nQ 1547 409 2034 409 \nQ 2525 409 2770 889 \nQ 3016 1369 3016 2328 \nQ 3016 3291 2770 3770 \nQ 2525 4250 2034 4250 \nz\nM 2034 4750 \nQ 2819 4750 3233 4129 \nQ 3647 3509 3647 2328 \nQ 3647 1150 3233 529 \nQ 2819 -91 2034 -91 \nQ 1250 -91 836 529 \nQ 422 1150 422 2328 \nQ 422 3509 836 4129 \nQ 1250 4750 2034 4750 \nz\n\" id=\"DejaVuSans-30\" transform=\"scale(0.015625)\"/>\n       </defs>\n       <use xlink:href=\"#DejaVuSans-30\"/>\n      </g>\n     </g>\n    </g>\n    <g id=\"xtick_2\">\n     <g id=\"line2d_2\">\n      <g>\n       <use style=\"stroke:#000000;stroke-width:0.8;\" x=\"106.216111\" xlink:href=\"#m3527a3039e\" y=\"239.758125\"/>\n      </g>\n     </g>\n     <g id=\"text_2\">\n      <!-- 20 -->\n      <g transform=\"translate(99.853611 254.356562)scale(0.1 -0.1)\">\n       <defs>\n        <path d=\"M 1228 531 \nL 3431 531 \nL 3431 0 \nL 469 0 \nL 469 531 \nQ 828 903 1448 1529 \nQ 2069 2156 2228 2338 \nQ 2531 2678 2651 2914 \nQ 2772 3150 2772 3378 \nQ 2772 3750 2511 3984 \nQ 2250 4219 1831 4219 \nQ 1534 4219 1204 4116 \nQ 875 4013 500 3803 \nL 500 4441 \nQ 881 4594 1212 4672 \nQ 1544 4750 1819 4750 \nQ 2544 4750 2975 4387 \nQ 3406 4025 3406 3419 \nQ 3406 3131 3298 2873 \nQ 3191 2616 2906 2266 \nQ 2828 2175 2409 1742 \nQ 1991 1309 1228 531 \nz\n\" id=\"DejaVuSans-32\" transform=\"scale(0.015625)\"/>\n       </defs>\n       <use xlink:href=\"#DejaVuSans-32\"/>\n       <use x=\"63.623047\" xlink:href=\"#DejaVuSans-30\"/>\n      </g>\n     </g>\n    </g>\n    <g id=\"xtick_3\">\n     <g id=\"line2d_3\">\n      <g>\n       <use style=\"stroke:#000000;stroke-width:0.8;\" x=\"147.070291\" xlink:href=\"#m3527a3039e\" y=\"239.758125\"/>\n      </g>\n     </g>\n     <g id=\"text_3\">\n      <!-- 40 -->\n      <g transform=\"translate(140.707791 254.356562)scale(0.1 -0.1)\">\n       <defs>\n        <path d=\"M 2419 4116 \nL 825 1625 \nL 2419 1625 \nL 2419 4116 \nz\nM 2253 4666 \nL 3047 4666 \nL 3047 1625 \nL 3713 1625 \nL 3713 1100 \nL 3047 1100 \nL 3047 0 \nL 2419 0 \nL 2419 1100 \nL 313 1100 \nL 313 1709 \nL 2253 4666 \nz\n\" id=\"DejaVuSans-34\" transform=\"scale(0.015625)\"/>\n       </defs>\n       <use xlink:href=\"#DejaVuSans-34\"/>\n       <use x=\"63.623047\" xlink:href=\"#DejaVuSans-30\"/>\n      </g>\n     </g>\n    </g>\n    <g id=\"xtick_4\">\n     <g id=\"line2d_4\">\n      <g>\n       <use style=\"stroke:#000000;stroke-width:0.8;\" x=\"187.92447\" xlink:href=\"#m3527a3039e\" y=\"239.758125\"/>\n      </g>\n     </g>\n     <g id=\"text_4\">\n      <!-- 60 -->\n      <g transform=\"translate(181.56197 254.356562)scale(0.1 -0.1)\">\n       <defs>\n        <path d=\"M 2113 2584 \nQ 1688 2584 1439 2293 \nQ 1191 2003 1191 1497 \nQ 1191 994 1439 701 \nQ 1688 409 2113 409 \nQ 2538 409 2786 701 \nQ 3034 994 3034 1497 \nQ 3034 2003 2786 2293 \nQ 2538 2584 2113 2584 \nz\nM 3366 4563 \nL 3366 3988 \nQ 3128 4100 2886 4159 \nQ 2644 4219 2406 4219 \nQ 1781 4219 1451 3797 \nQ 1122 3375 1075 2522 \nQ 1259 2794 1537 2939 \nQ 1816 3084 2150 3084 \nQ 2853 3084 3261 2657 \nQ 3669 2231 3669 1497 \nQ 3669 778 3244 343 \nQ 2819 -91 2113 -91 \nQ 1303 -91 875 529 \nQ 447 1150 447 2328 \nQ 447 3434 972 4092 \nQ 1497 4750 2381 4750 \nQ 2619 4750 2861 4703 \nQ 3103 4656 3366 4563 \nz\n\" id=\"DejaVuSans-36\" transform=\"scale(0.015625)\"/>\n       </defs>\n       <use xlink:href=\"#DejaVuSans-36\"/>\n       <use x=\"63.623047\" xlink:href=\"#DejaVuSans-30\"/>\n      </g>\n     </g>\n    </g>\n    <g id=\"xtick_5\">\n     <g id=\"line2d_5\">\n      <g>\n       <use style=\"stroke:#000000;stroke-width:0.8;\" x=\"228.778649\" xlink:href=\"#m3527a3039e\" y=\"239.758125\"/>\n      </g>\n     </g>\n     <g id=\"text_5\">\n      <!-- 80 -->\n      <g transform=\"translate(222.416149 254.356562)scale(0.1 -0.1)\">\n       <defs>\n        <path d=\"M 2034 2216 \nQ 1584 2216 1326 1975 \nQ 1069 1734 1069 1313 \nQ 1069 891 1326 650 \nQ 1584 409 2034 409 \nQ 2484 409 2743 651 \nQ 3003 894 3003 1313 \nQ 3003 1734 2745 1975 \nQ 2488 2216 2034 2216 \nz\nM 1403 2484 \nQ 997 2584 770 2862 \nQ 544 3141 544 3541 \nQ 544 4100 942 4425 \nQ 1341 4750 2034 4750 \nQ 2731 4750 3128 4425 \nQ 3525 4100 3525 3541 \nQ 3525 3141 3298 2862 \nQ 3072 2584 2669 2484 \nQ 3125 2378 3379 2068 \nQ 3634 1759 3634 1313 \nQ 3634 634 3220 271 \nQ 2806 -91 2034 -91 \nQ 1263 -91 848 271 \nQ 434 634 434 1313 \nQ 434 1759 690 2068 \nQ 947 2378 1403 2484 \nz\nM 1172 3481 \nQ 1172 3119 1398 2916 \nQ 1625 2713 2034 2713 \nQ 2441 2713 2670 2916 \nQ 2900 3119 2900 3481 \nQ 2900 3844 2670 4047 \nQ 2441 4250 2034 4250 \nQ 1625 4250 1398 4047 \nQ 1172 3844 1172 3481 \nz\n\" id=\"DejaVuSans-38\" transform=\"scale(0.015625)\"/>\n       </defs>\n       <use xlink:href=\"#DejaVuSans-38\"/>\n       <use x=\"63.623047\" xlink:href=\"#DejaVuSans-30\"/>\n      </g>\n     </g>\n    </g>\n    <g id=\"xtick_6\">\n     <g id=\"line2d_6\">\n      <g>\n       <use style=\"stroke:#000000;stroke-width:0.8;\" x=\"269.632829\" xlink:href=\"#m3527a3039e\" y=\"239.758125\"/>\n      </g>\n     </g>\n     <g id=\"text_6\">\n      <!-- 100 -->\n      <g transform=\"translate(260.089079 254.356562)scale(0.1 -0.1)\">\n       <defs>\n        <path d=\"M 794 531 \nL 1825 531 \nL 1825 4091 \nL 703 3866 \nL 703 4441 \nL 1819 4666 \nL 2450 4666 \nL 2450 531 \nL 3481 531 \nL 3481 0 \nL 794 0 \nL 794 531 \nz\n\" id=\"DejaVuSans-31\" transform=\"scale(0.015625)\"/>\n       </defs>\n       <use xlink:href=\"#DejaVuSans-31\"/>\n       <use x=\"63.623047\" xlink:href=\"#DejaVuSans-30\"/>\n       <use x=\"127.246094\" xlink:href=\"#DejaVuSans-30\"/>\n      </g>\n     </g>\n    </g>\n    <g id=\"xtick_7\">\n     <g id=\"line2d_7\">\n      <g>\n       <use style=\"stroke:#000000;stroke-width:0.8;\" x=\"310.487008\" xlink:href=\"#m3527a3039e\" y=\"239.758125\"/>\n      </g>\n     </g>\n     <g id=\"text_7\">\n      <!-- 120 -->\n      <g transform=\"translate(300.943258 254.356562)scale(0.1 -0.1)\">\n       <use xlink:href=\"#DejaVuSans-31\"/>\n       <use x=\"63.623047\" xlink:href=\"#DejaVuSans-32\"/>\n       <use x=\"127.246094\" xlink:href=\"#DejaVuSans-30\"/>\n      </g>\n     </g>\n    </g>\n    <g id=\"xtick_8\">\n     <g id=\"line2d_8\">\n      <g>\n       <use style=\"stroke:#000000;stroke-width:0.8;\" x=\"351.341187\" xlink:href=\"#m3527a3039e\" y=\"239.758125\"/>\n      </g>\n     </g>\n     <g id=\"text_8\">\n      <!-- 140 -->\n      <g transform=\"translate(341.797437 254.356562)scale(0.1 -0.1)\">\n       <use xlink:href=\"#DejaVuSans-31\"/>\n       <use x=\"63.623047\" xlink:href=\"#DejaVuSans-34\"/>\n       <use x=\"127.246094\" xlink:href=\"#DejaVuSans-30\"/>\n      </g>\n     </g>\n    </g>\n    <g id=\"text_9\">\n     <!-- Epoch -->\n     <g transform=\"translate(202.232813 268.034687)scale(0.1 -0.1)\">\n      <defs>\n       <path d=\"M 628 4666 \nL 3578 4666 \nL 3578 4134 \nL 1259 4134 \nL 1259 2753 \nL 3481 2753 \nL 3481 2222 \nL 1259 2222 \nL 1259 531 \nL 3634 531 \nL 3634 0 \nL 628 0 \nL 628 4666 \nz\n\" id=\"DejaVuSans-45\" transform=\"scale(0.015625)\"/>\n       <path d=\"M 1159 525 \nL 1159 -1331 \nL 581 -1331 \nL 581 3500 \nL 1159 3500 \nL 1159 2969 \nQ 1341 3281 1617 3432 \nQ 1894 3584 2278 3584 \nQ 2916 3584 3314 3078 \nQ 3713 2572 3713 1747 \nQ 3713 922 3314 415 \nQ 2916 -91 2278 -91 \nQ 1894 -91 1617 61 \nQ 1341 213 1159 525 \nz\nM 3116 1747 \nQ 3116 2381 2855 2742 \nQ 2594 3103 2138 3103 \nQ 1681 3103 1420 2742 \nQ 1159 2381 1159 1747 \nQ 1159 1113 1420 752 \nQ 1681 391 2138 391 \nQ 2594 391 2855 752 \nQ 3116 1113 3116 1747 \nz\n\" id=\"DejaVuSans-70\" transform=\"scale(0.015625)\"/>\n       <path d=\"M 1959 3097 \nQ 1497 3097 1228 2736 \nQ 959 2375 959 1747 \nQ 959 1119 1226 758 \nQ 1494 397 1959 397 \nQ 2419 397 2687 759 \nQ 2956 1122 2956 1747 \nQ 2956 2369 2687 2733 \nQ 2419 3097 1959 3097 \nz\nM 1959 3584 \nQ 2709 3584 3137 3096 \nQ 3566 2609 3566 1747 \nQ 3566 888 3137 398 \nQ 2709 -91 1959 -91 \nQ 1206 -91 779 398 \nQ 353 888 353 1747 \nQ 353 2609 779 3096 \nQ 1206 3584 1959 3584 \nz\n\" id=\"DejaVuSans-6f\" transform=\"scale(0.015625)\"/>\n       <path d=\"M 3122 3366 \nL 3122 2828 \nQ 2878 2963 2633 3030 \nQ 2388 3097 2138 3097 \nQ 1578 3097 1268 2742 \nQ 959 2388 959 1747 \nQ 959 1106 1268 751 \nQ 1578 397 2138 397 \nQ 2388 397 2633 464 \nQ 2878 531 3122 666 \nL 3122 134 \nQ 2881 22 2623 -34 \nQ 2366 -91 2075 -91 \nQ 1284 -91 818 406 \nQ 353 903 353 1747 \nQ 353 2603 823 3093 \nQ 1294 3584 2113 3584 \nQ 2378 3584 2631 3529 \nQ 2884 3475 3122 3366 \nz\n\" id=\"DejaVuSans-63\" transform=\"scale(0.015625)\"/>\n       <path d=\"M 3513 2113 \nL 3513 0 \nL 2938 0 \nL 2938 2094 \nQ 2938 2591 2744 2837 \nQ 2550 3084 2163 3084 \nQ 1697 3084 1428 2787 \nQ 1159 2491 1159 1978 \nL 1159 0 \nL 581 0 \nL 581 4863 \nL 1159 4863 \nL 1159 2956 \nQ 1366 3272 1645 3428 \nQ 1925 3584 2291 3584 \nQ 2894 3584 3203 3211 \nQ 3513 2838 3513 2113 \nz\n\" id=\"DejaVuSans-68\" transform=\"scale(0.015625)\"/>\n      </defs>\n      <use xlink:href=\"#DejaVuSans-45\"/>\n      <use x=\"63.183594\" xlink:href=\"#DejaVuSans-70\"/>\n      <use x=\"126.660156\" xlink:href=\"#DejaVuSans-6f\"/>\n      <use x=\"187.841797\" xlink:href=\"#DejaVuSans-63\"/>\n      <use x=\"242.822266\" xlink:href=\"#DejaVuSans-68\"/>\n     </g>\n    </g>\n   </g>\n   <g id=\"matplotlib.axis_2\">\n    <g id=\"ytick_1\">\n     <g id=\"line2d_9\">\n      <defs>\n       <path d=\"M 0 0 \nL -3.5 0 \n\" id=\"mb002f1498f\" style=\"stroke:#000000;stroke-width:0.8;\"/>\n      </defs>\n      <g>\n       <use style=\"stroke:#000000;stroke-width:0.8;\" x=\"50.14375\" xlink:href=\"#mb002f1498f\" y=\"221.313415\"/>\n      </g>\n     </g>\n     <g id=\"text_10\">\n      <!-- 0.02 -->\n      <g transform=\"translate(20.878125 225.112634)scale(0.1 -0.1)\">\n       <defs>\n        <path d=\"M 684 794 \nL 1344 794 \nL 1344 0 \nL 684 0 \nL 684 794 \nz\n\" id=\"DejaVuSans-2e\" transform=\"scale(0.015625)\"/>\n       </defs>\n       <use xlink:href=\"#DejaVuSans-30\"/>\n       <use x=\"63.623047\" xlink:href=\"#DejaVuSans-2e\"/>\n       <use x=\"95.410156\" xlink:href=\"#DejaVuSans-30\"/>\n       <use x=\"159.033203\" xlink:href=\"#DejaVuSans-32\"/>\n      </g>\n     </g>\n    </g>\n    <g id=\"ytick_2\">\n     <g id=\"line2d_10\">\n      <g>\n       <use style=\"stroke:#000000;stroke-width:0.8;\" x=\"50.14375\" xlink:href=\"#mb002f1498f\" y=\"191.441295\"/>\n      </g>\n     </g>\n     <g id=\"text_11\">\n      <!-- 0.04 -->\n      <g transform=\"translate(20.878125 195.240514)scale(0.1 -0.1)\">\n       <use xlink:href=\"#DejaVuSans-30\"/>\n       <use x=\"63.623047\" xlink:href=\"#DejaVuSans-2e\"/>\n       <use x=\"95.410156\" xlink:href=\"#DejaVuSans-30\"/>\n       <use x=\"159.033203\" xlink:href=\"#DejaVuSans-34\"/>\n      </g>\n     </g>\n    </g>\n    <g id=\"ytick_3\">\n     <g id=\"line2d_11\">\n      <g>\n       <use style=\"stroke:#000000;stroke-width:0.8;\" x=\"50.14375\" xlink:href=\"#mb002f1498f\" y=\"161.569175\"/>\n      </g>\n     </g>\n     <g id=\"text_12\">\n      <!-- 0.06 -->\n      <g transform=\"translate(20.878125 165.368394)scale(0.1 -0.1)\">\n       <use xlink:href=\"#DejaVuSans-30\"/>\n       <use x=\"63.623047\" xlink:href=\"#DejaVuSans-2e\"/>\n       <use x=\"95.410156\" xlink:href=\"#DejaVuSans-30\"/>\n       <use x=\"159.033203\" xlink:href=\"#DejaVuSans-36\"/>\n      </g>\n     </g>\n    </g>\n    <g id=\"ytick_4\">\n     <g id=\"line2d_12\">\n      <g>\n       <use style=\"stroke:#000000;stroke-width:0.8;\" x=\"50.14375\" xlink:href=\"#mb002f1498f\" y=\"131.697055\"/>\n      </g>\n     </g>\n     <g id=\"text_13\">\n      <!-- 0.08 -->\n      <g transform=\"translate(20.878125 135.496274)scale(0.1 -0.1)\">\n       <use xlink:href=\"#DejaVuSans-30\"/>\n       <use x=\"63.623047\" xlink:href=\"#DejaVuSans-2e\"/>\n       <use x=\"95.410156\" xlink:href=\"#DejaVuSans-30\"/>\n       <use x=\"159.033203\" xlink:href=\"#DejaVuSans-38\"/>\n      </g>\n     </g>\n    </g>\n    <g id=\"ytick_5\">\n     <g id=\"line2d_13\">\n      <g>\n       <use style=\"stroke:#000000;stroke-width:0.8;\" x=\"50.14375\" xlink:href=\"#mb002f1498f\" y=\"101.824935\"/>\n      </g>\n     </g>\n     <g id=\"text_14\">\n      <!-- 0.10 -->\n      <g transform=\"translate(20.878125 105.624153)scale(0.1 -0.1)\">\n       <use xlink:href=\"#DejaVuSans-30\"/>\n       <use x=\"63.623047\" xlink:href=\"#DejaVuSans-2e\"/>\n       <use x=\"95.410156\" xlink:href=\"#DejaVuSans-31\"/>\n       <use x=\"159.033203\" xlink:href=\"#DejaVuSans-30\"/>\n      </g>\n     </g>\n    </g>\n    <g id=\"ytick_6\">\n     <g id=\"line2d_14\">\n      <g>\n       <use style=\"stroke:#000000;stroke-width:0.8;\" x=\"50.14375\" xlink:href=\"#mb002f1498f\" y=\"71.952815\"/>\n      </g>\n     </g>\n     <g id=\"text_15\">\n      <!-- 0.12 -->\n      <g transform=\"translate(20.878125 75.752033)scale(0.1 -0.1)\">\n       <use xlink:href=\"#DejaVuSans-30\"/>\n       <use x=\"63.623047\" xlink:href=\"#DejaVuSans-2e\"/>\n       <use x=\"95.410156\" xlink:href=\"#DejaVuSans-31\"/>\n       <use x=\"159.033203\" xlink:href=\"#DejaVuSans-32\"/>\n      </g>\n     </g>\n    </g>\n    <g id=\"ytick_7\">\n     <g id=\"line2d_15\">\n      <g>\n       <use style=\"stroke:#000000;stroke-width:0.8;\" x=\"50.14375\" xlink:href=\"#mb002f1498f\" y=\"42.080694\"/>\n      </g>\n     </g>\n     <g id=\"text_16\">\n      <!-- 0.14 -->\n      <g transform=\"translate(20.878125 45.879913)scale(0.1 -0.1)\">\n       <use xlink:href=\"#DejaVuSans-30\"/>\n       <use x=\"63.623047\" xlink:href=\"#DejaVuSans-2e\"/>\n       <use x=\"95.410156\" xlink:href=\"#DejaVuSans-31\"/>\n       <use x=\"159.033203\" xlink:href=\"#DejaVuSans-34\"/>\n      </g>\n     </g>\n    </g>\n    <g id=\"text_17\">\n     <!-- Loss -->\n     <g transform=\"translate(14.798438 142.005312)rotate(-90)scale(0.1 -0.1)\">\n      <defs>\n       <path d=\"M 628 4666 \nL 1259 4666 \nL 1259 531 \nL 3531 531 \nL 3531 0 \nL 628 0 \nL 628 4666 \nz\n\" id=\"DejaVuSans-4c\" transform=\"scale(0.015625)\"/>\n       <path d=\"M 2834 3397 \nL 2834 2853 \nQ 2591 2978 2328 3040 \nQ 2066 3103 1784 3103 \nQ 1356 3103 1142 2972 \nQ 928 2841 928 2578 \nQ 928 2378 1081 2264 \nQ 1234 2150 1697 2047 \nL 1894 2003 \nQ 2506 1872 2764 1633 \nQ 3022 1394 3022 966 \nQ 3022 478 2636 193 \nQ 2250 -91 1575 -91 \nQ 1294 -91 989 -36 \nQ 684 19 347 128 \nL 347 722 \nQ 666 556 975 473 \nQ 1284 391 1588 391 \nQ 1994 391 2212 530 \nQ 2431 669 2431 922 \nQ 2431 1156 2273 1281 \nQ 2116 1406 1581 1522 \nL 1381 1569 \nQ 847 1681 609 1914 \nQ 372 2147 372 2553 \nQ 372 3047 722 3315 \nQ 1072 3584 1716 3584 \nQ 2034 3584 2315 3537 \nQ 2597 3491 2834 3397 \nz\n\" id=\"DejaVuSans-73\" transform=\"scale(0.015625)\"/>\n      </defs>\n      <use xlink:href=\"#DejaVuSans-4c\"/>\n      <use x=\"53.962891\" xlink:href=\"#DejaVuSans-6f\"/>\n      <use x=\"115.144531\" xlink:href=\"#DejaVuSans-73\"/>\n      <use x=\"167.244141\" xlink:href=\"#DejaVuSans-73\"/>\n     </g>\n    </g>\n   </g>\n   <g id=\"line2d_16\">\n    <path clip-path=\"url(#pf00df89ec3)\" d=\"M 65.361932 32.201761 \nL 67.404641 107.152262 \nL 69.44735 115.021714 \nL 71.490059 124.15876 \nL 73.532768 130.232426 \nL 75.575477 134.947302 \nL 77.618186 140.377379 \nL 79.660895 147.049845 \nL 81.703604 148.752631 \nL 83.746313 152.397427 \nL 85.789022 154.658539 \nL 87.83173 159.769347 \nL 89.874439 161.999394 \nL 91.917148 162.410171 \nL 93.959857 166.104032 \nL 96.002566 166.923832 \nL 98.045275 169.594129 \nL 100.087984 172.511662 \nL 102.130693 172.809109 \nL 104.173402 176.900915 \nL 106.216111 177.552901 \nL 110.301529 179.666403 \nL 112.344238 183.372894 \nL 114.386947 182.631693 \nL 116.429656 188.059432 \nL 118.472365 187.546026 \nL 122.557783 192.843387 \nL 124.600492 194.514146 \nL 126.643201 195.144338 \nL 128.68591 194.303795 \nL 130.728619 197.971549 \nL 132.771328 196.367114 \nL 134.814037 200.51164 \nL 136.856746 201.510149 \nL 138.899455 203.518004 \nL 140.942164 203.433886 \nL 142.984873 204.469613 \nL 145.027582 202.038651 \nL 147.070291 206.063368 \nL 149.113 206.312039 \nL 151.155709 205.761142 \nL 153.198417 207.626584 \nL 155.241126 208.425065 \nL 157.283835 210.591637 \nL 159.326544 210.362167 \nL 161.369253 211.378047 \nL 163.411962 209.309081 \nL 165.454671 201.084789 \nL 167.49738 211.251711 \nL 169.540089 211.805391 \nL 171.582798 211.935071 \nL 173.625507 213.815542 \nL 175.668216 210.881458 \nL 177.710925 211.744046 \nL 179.753634 213.615275 \nL 181.796343 215.00052 \nL 183.839052 213.005609 \nL 185.881761 214.70084 \nL 187.92447 213.779097 \nL 189.967179 215.651394 \nL 192.009888 215.314551 \nL 194.052597 215.742523 \nL 196.095306 209.60979 \nL 198.138015 214.080338 \nL 200.180724 215.253991 \nL 202.223433 216.56875 \nL 204.266142 216.777474 \nL 206.308851 214.337867 \nL 208.35156 218.749215 \nL 210.394269 217.636604 \nL 212.436978 216.769311 \nL 214.479687 220.091419 \nL 216.522396 218.314246 \nL 218.565104 215.011092 \nL 220.607813 218.647114 \nL 222.650522 220.352688 \nL 224.693231 217.018052 \nL 226.73594 221.956327 \nL 228.778649 216.541691 \nL 230.821358 219.643335 \nL 232.864067 221.927486 \nL 234.906776 217.24627 \nL 236.949485 219.767883 \nL 238.992194 221.418275 \nL 241.034903 219.176353 \nL 243.077612 221.598677 \nL 245.120321 220.530467 \nL 247.16303 222.36337 \nL 249.205739 221.530698 \nL 251.248448 221.094732 \nL 253.291157 220.004792 \nL 255.333866 223.225185 \nL 257.376575 222.239541 \nL 261.461993 218.56573 \nL 263.504702 222.467511 \nL 265.547411 222.896593 \nL 267.59012 220.337668 \nL 269.632829 222.291935 \nL 271.675538 220.703859 \nL 273.718247 221.651255 \nL 275.760956 220.284274 \nL 277.803665 222.660986 \nL 279.846374 224.112044 \nL 281.889083 221.632031 \nL 283.931791 221.25568 \nL 285.9745 223.983927 \nL 288.017209 222.535897 \nL 290.059918 225.358459 \nL 292.102627 221.679337 \nL 294.145336 224.291008 \nL 296.188045 225.516279 \nL 298.230754 223.517195 \nL 300.273463 219.85273 \nL 302.316172 223.800284 \nL 304.358881 226.657847 \nL 306.40159 223.203994 \nL 308.444299 220.385185 \nL 310.487008 226.544956 \nL 312.529717 224.150158 \nL 316.615135 226.419602 \nL 318.657844 226.162557 \nL 320.700553 222.163479 \nL 322.743262 226.64474 \nL 324.785971 226.297534 \nL 326.82868 222.981635 \nL 328.871389 223.899918 \nL 330.914098 225.602067 \nL 332.956807 225.984491 \nL 334.999516 222.963841 \nL 337.042225 227.908275 \nL 339.084934 225.872633 \nL 341.127643 226.99861 \nL 343.170352 228.560395 \nL 345.213061 227.369372 \nL 347.25577 226.697499 \nL 349.298478 225.721181 \nL 351.341187 229.262891 \nL 353.383896 225.757857 \nL 355.426605 222.919793 \nL 357.469314 227.057823 \nL 359.512023 229.874489 \nL 361.554732 227.068804 \nL 363.597441 224.701492 \nL 365.64015 229.162977 \nL 367.682859 227.87356 \nL 369.725568 228.985567 \nL 369.725568 228.985567 \n\" style=\"fill:none;stroke:#1f77b4;stroke-linecap:square;stroke-width:1.5;\"/>\n   </g>\n   <g id=\"line2d_17\">\n    <path clip-path=\"url(#pf00df89ec3)\" d=\"M 65.361932 86.037143 \nL 69.44735 112.265406 \nL 71.490059 108.943006 \nL 73.532768 124.933307 \nL 75.575477 130.421439 \nL 77.618186 140.256148 \nL 79.660895 130.269316 \nL 81.703604 139.293445 \nL 83.746313 140.451871 \nL 85.789022 146.318887 \nL 87.83173 151.812973 \nL 89.874439 153.916932 \nL 91.917148 158.107562 \nL 93.959857 158.3125 \nL 96.002566 160.853504 \nL 98.045275 167.339132 \nL 100.087984 155.097927 \nL 102.130693 170.796874 \nL 104.173402 164.602483 \nL 106.216111 165.7981 \nL 108.25882 162.24613 \nL 110.301529 175.535091 \nL 112.344238 171.289437 \nL 114.386947 177.566378 \nL 118.472365 166.625122 \nL 120.515074 177.592062 \nL 122.557783 176.27242 \nL 124.600492 184.160089 \nL 126.643201 145.67109 \nL 128.68591 159.999073 \nL 130.728619 187.60806 \nL 132.771328 179.94087 \nL 134.814037 190.249029 \nL 136.856746 191.258443 \nL 138.899455 191.20165 \nL 140.942164 190.356878 \nL 142.984873 173.852191 \nL 145.027582 192.995081 \nL 149.113 194.712791 \nL 151.155709 198.800274 \nL 153.198417 195.601119 \nL 155.241126 185.258045 \nL 157.283835 201.369738 \nL 159.326544 198.797453 \nL 161.369253 207.188215 \nL 163.411962 199.634352 \nL 165.454671 191.512834 \nL 167.49738 203.942274 \nL 169.540089 200.903844 \nL 171.582798 199.270586 \nL 173.625507 202.147679 \nL 175.668216 197.271233 \nL 177.710925 200.730594 \nL 179.753634 185.319539 \nL 181.796343 205.379785 \nL 183.839052 207.949812 \nL 185.881761 205.799448 \nL 187.92447 202.476535 \nL 189.967179 199.847329 \nL 192.009888 204.701094 \nL 194.052597 206.191006 \nL 198.138015 191.315703 \nL 200.180724 208.628283 \nL 202.223433 197.233714 \nL 204.266142 209.217582 \nL 206.308851 202.822423 \nL 208.35156 203.853565 \nL 210.394269 202.867559 \nL 212.436978 197.869158 \nL 214.479687 197.351111 \nL 216.522396 204.941077 \nL 218.565104 203.44625 \nL 220.607813 181.44406 \nL 222.650522 207.643168 \nL 224.693231 208.995701 \nL 226.73594 201.815357 \nL 228.778649 198.390254 \nL 230.821358 215.125888 \nL 232.864067 184.142423 \nL 234.906776 204.329291 \nL 236.949485 200.584708 \nL 238.992194 212.373924 \nL 241.034903 209.037212 \nL 243.077612 203.437019 \nL 245.120321 205.424977 \nL 247.16303 205.92977 \nL 249.205739 206.054629 \nL 251.248448 175.404641 \nL 253.291157 201.414362 \nL 255.333866 204.557161 \nL 257.376575 204.680078 \nL 259.419284 186.932254 \nL 261.461993 207.76044 \nL 263.504702 203.68855 \nL 265.547411 202.823024 \nL 267.59012 207.291465 \nL 269.632829 210.28341 \nL 271.675538 197.336967 \nL 273.718247 207.773972 \nL 275.760956 207.809415 \nL 277.803665 202.058353 \nL 279.846374 210.729293 \nL 281.889083 204.577771 \nL 283.931791 203.942474 \nL 285.9745 208.642422 \nL 288.017209 215.656685 \nL 290.059918 198.998262 \nL 292.102627 211.643608 \nL 294.145336 212.361802 \nL 296.188045 216.888172 \nL 298.230754 214.869627 \nL 300.273463 204.500594 \nL 302.316172 212.236621 \nL 304.358881 197.051762 \nL 306.40159 187.063634 \nL 308.444299 204.25905 \nL 310.487008 204.675176 \nL 312.529717 213.794025 \nL 314.572426 217.524951 \nL 316.615135 209.657912 \nL 318.657844 224.211792 \nL 320.700553 221.896858 \nL 322.743262 216.399506 \nL 324.785971 214.347802 \nL 326.82868 210.626071 \nL 328.871389 218.870235 \nL 330.914098 213.341713 \nL 332.956807 222.838574 \nL 334.999516 219.048704 \nL 337.042225 210.279696 \nL 339.084934 205.259467 \nL 341.127643 213.007242 \nL 343.170352 205.717447 \nL 345.213061 217.730946 \nL 347.25577 220.603618 \nL 349.298478 222.282365 \nL 351.341187 198.043754 \nL 353.383896 211.377062 \nL 357.469314 226.337267 \nL 359.512023 202.770187 \nL 361.554732 199.604578 \nL 363.597441 223.64342 \nL 365.64015 217.08089 \nL 367.682859 218.089487 \nL 369.725568 210.032296 \nL 369.725568 210.032296 \n\" style=\"fill:none;stroke:#ff7f0e;stroke-linecap:square;stroke-width:1.5;\"/>\n   </g>\n   <g id=\"patch_3\">\n    <path d=\"M 50.14375 239.758125 \nL 50.14375 22.318125 \n\" style=\"fill:none;stroke:#000000;stroke-linecap:square;stroke-linejoin:miter;stroke-width:0.8;\"/>\n   </g>\n   <g id=\"patch_4\">\n    <path d=\"M 384.94375 239.758125 \nL 384.94375 22.318125 \n\" style=\"fill:none;stroke:#000000;stroke-linecap:square;stroke-linejoin:miter;stroke-width:0.8;\"/>\n   </g>\n   <g id=\"patch_5\">\n    <path d=\"M 50.14375 239.758125 \nL 384.94375 239.758125 \n\" style=\"fill:none;stroke:#000000;stroke-linecap:square;stroke-linejoin:miter;stroke-width:0.8;\"/>\n   </g>\n   <g id=\"patch_6\">\n    <path d=\"M 50.14375 22.318125 \nL 384.94375 22.318125 \n\" style=\"fill:none;stroke:#000000;stroke-linecap:square;stroke-linejoin:miter;stroke-width:0.8;\"/>\n   </g>\n   <g id=\"text_18\">\n    <!-- Model loss -->\n    <g transform=\"translate(186.031563 16.318125)scale(0.12 -0.12)\">\n     <defs>\n      <path d=\"M 628 4666 \nL 1569 4666 \nL 2759 1491 \nL 3956 4666 \nL 4897 4666 \nL 4897 0 \nL 4281 0 \nL 4281 4097 \nL 3078 897 \nL 2444 897 \nL 1241 4097 \nL 1241 0 \nL 628 0 \nL 628 4666 \nz\n\" id=\"DejaVuSans-4d\" transform=\"scale(0.015625)\"/>\n      <path d=\"M 2906 2969 \nL 2906 4863 \nL 3481 4863 \nL 3481 0 \nL 2906 0 \nL 2906 525 \nQ 2725 213 2448 61 \nQ 2172 -91 1784 -91 \nQ 1150 -91 751 415 \nQ 353 922 353 1747 \nQ 353 2572 751 3078 \nQ 1150 3584 1784 3584 \nQ 2172 3584 2448 3432 \nQ 2725 3281 2906 2969 \nz\nM 947 1747 \nQ 947 1113 1208 752 \nQ 1469 391 1925 391 \nQ 2381 391 2643 752 \nQ 2906 1113 2906 1747 \nQ 2906 2381 2643 2742 \nQ 2381 3103 1925 3103 \nQ 1469 3103 1208 2742 \nQ 947 2381 947 1747 \nz\n\" id=\"DejaVuSans-64\" transform=\"scale(0.015625)\"/>\n      <path d=\"M 3597 1894 \nL 3597 1613 \nL 953 1613 \nQ 991 1019 1311 708 \nQ 1631 397 2203 397 \nQ 2534 397 2845 478 \nQ 3156 559 3463 722 \nL 3463 178 \nQ 3153 47 2828 -22 \nQ 2503 -91 2169 -91 \nQ 1331 -91 842 396 \nQ 353 884 353 1716 \nQ 353 2575 817 3079 \nQ 1281 3584 2069 3584 \nQ 2775 3584 3186 3129 \nQ 3597 2675 3597 1894 \nz\nM 3022 2063 \nQ 3016 2534 2758 2815 \nQ 2500 3097 2075 3097 \nQ 1594 3097 1305 2825 \nQ 1016 2553 972 2059 \nL 3022 2063 \nz\n\" id=\"DejaVuSans-65\" transform=\"scale(0.015625)\"/>\n      <path d=\"M 603 4863 \nL 1178 4863 \nL 1178 0 \nL 603 0 \nL 603 4863 \nz\n\" id=\"DejaVuSans-6c\" transform=\"scale(0.015625)\"/>\n      <path id=\"DejaVuSans-20\" transform=\"scale(0.015625)\"/>\n     </defs>\n     <use xlink:href=\"#DejaVuSans-4d\"/>\n     <use x=\"86.279297\" xlink:href=\"#DejaVuSans-6f\"/>\n     <use x=\"147.460938\" xlink:href=\"#DejaVuSans-64\"/>\n     <use x=\"210.9375\" xlink:href=\"#DejaVuSans-65\"/>\n     <use x=\"272.460938\" xlink:href=\"#DejaVuSans-6c\"/>\n     <use x=\"300.244141\" xlink:href=\"#DejaVuSans-20\"/>\n     <use x=\"332.03125\" xlink:href=\"#DejaVuSans-6c\"/>\n     <use x=\"359.814453\" xlink:href=\"#DejaVuSans-6f\"/>\n     <use x=\"420.996094\" xlink:href=\"#DejaVuSans-73\"/>\n     <use x=\"473.095703\" xlink:href=\"#DejaVuSans-73\"/>\n    </g>\n   </g>\n   <g id=\"legend_1\">\n    <g id=\"patch_7\">\n     <path d=\"M 321.95625 59.674375 \nL 377.94375 59.674375 \nQ 379.94375 59.674375 379.94375 57.674375 \nL 379.94375 29.318125 \nQ 379.94375 27.318125 377.94375 27.318125 \nL 321.95625 27.318125 \nQ 319.95625 27.318125 319.95625 29.318125 \nL 319.95625 57.674375 \nQ 319.95625 59.674375 321.95625 59.674375 \nz\n\" style=\"fill:#ffffff;opacity:0.8;stroke:#cccccc;stroke-linejoin:miter;\"/>\n    </g>\n    <g id=\"line2d_18\">\n     <path d=\"M 323.95625 35.416562 \nL 343.95625 35.416562 \n\" style=\"fill:none;stroke:#1f77b4;stroke-linecap:square;stroke-width:1.5;\"/>\n    </g>\n    <g id=\"line2d_19\"/>\n    <g id=\"text_19\">\n     <!-- Train -->\n     <g transform=\"translate(351.95625 38.916562)scale(0.1 -0.1)\">\n      <defs>\n       <path d=\"M -19 4666 \nL 3928 4666 \nL 3928 4134 \nL 2272 4134 \nL 2272 0 \nL 1638 0 \nL 1638 4134 \nL -19 4134 \nL -19 4666 \nz\n\" id=\"DejaVuSans-54\" transform=\"scale(0.015625)\"/>\n       <path d=\"M 2631 2963 \nQ 2534 3019 2420 3045 \nQ 2306 3072 2169 3072 \nQ 1681 3072 1420 2755 \nQ 1159 2438 1159 1844 \nL 1159 0 \nL 581 0 \nL 581 3500 \nL 1159 3500 \nL 1159 2956 \nQ 1341 3275 1631 3429 \nQ 1922 3584 2338 3584 \nQ 2397 3584 2469 3576 \nQ 2541 3569 2628 3553 \nL 2631 2963 \nz\n\" id=\"DejaVuSans-72\" transform=\"scale(0.015625)\"/>\n       <path d=\"M 2194 1759 \nQ 1497 1759 1228 1600 \nQ 959 1441 959 1056 \nQ 959 750 1161 570 \nQ 1363 391 1709 391 \nQ 2188 391 2477 730 \nQ 2766 1069 2766 1631 \nL 2766 1759 \nL 2194 1759 \nz\nM 3341 1997 \nL 3341 0 \nL 2766 0 \nL 2766 531 \nQ 2569 213 2275 61 \nQ 1981 -91 1556 -91 \nQ 1019 -91 701 211 \nQ 384 513 384 1019 \nQ 384 1609 779 1909 \nQ 1175 2209 1959 2209 \nL 2766 2209 \nL 2766 2266 \nQ 2766 2663 2505 2880 \nQ 2244 3097 1772 3097 \nQ 1472 3097 1187 3025 \nQ 903 2953 641 2809 \nL 641 3341 \nQ 956 3463 1253 3523 \nQ 1550 3584 1831 3584 \nQ 2591 3584 2966 3190 \nQ 3341 2797 3341 1997 \nz\n\" id=\"DejaVuSans-61\" transform=\"scale(0.015625)\"/>\n       <path d=\"M 603 3500 \nL 1178 3500 \nL 1178 0 \nL 603 0 \nL 603 3500 \nz\nM 603 4863 \nL 1178 4863 \nL 1178 4134 \nL 603 4134 \nL 603 4863 \nz\n\" id=\"DejaVuSans-69\" transform=\"scale(0.015625)\"/>\n       <path d=\"M 3513 2113 \nL 3513 0 \nL 2938 0 \nL 2938 2094 \nQ 2938 2591 2744 2837 \nQ 2550 3084 2163 3084 \nQ 1697 3084 1428 2787 \nQ 1159 2491 1159 1978 \nL 1159 0 \nL 581 0 \nL 581 3500 \nL 1159 3500 \nL 1159 2956 \nQ 1366 3272 1645 3428 \nQ 1925 3584 2291 3584 \nQ 2894 3584 3203 3211 \nQ 3513 2838 3513 2113 \nz\n\" id=\"DejaVuSans-6e\" transform=\"scale(0.015625)\"/>\n      </defs>\n      <use xlink:href=\"#DejaVuSans-54\"/>\n      <use x=\"46.333984\" xlink:href=\"#DejaVuSans-72\"/>\n      <use x=\"87.447266\" xlink:href=\"#DejaVuSans-61\"/>\n      <use x=\"148.726562\" xlink:href=\"#DejaVuSans-69\"/>\n      <use x=\"176.509766\" xlink:href=\"#DejaVuSans-6e\"/>\n     </g>\n    </g>\n    <g id=\"line2d_20\">\n     <path d=\"M 323.95625 50.094687 \nL 343.95625 50.094687 \n\" style=\"fill:none;stroke:#ff7f0e;stroke-linecap:square;stroke-width:1.5;\"/>\n    </g>\n    <g id=\"line2d_21\"/>\n    <g id=\"text_20\">\n     <!-- Val -->\n     <g transform=\"translate(351.95625 53.594687)scale(0.1 -0.1)\">\n      <defs>\n       <path d=\"M 1831 0 \nL 50 4666 \nL 709 4666 \nL 2188 738 \nL 3669 4666 \nL 4325 4666 \nL 2547 0 \nL 1831 0 \nz\n\" id=\"DejaVuSans-56\" transform=\"scale(0.015625)\"/>\n      </defs>\n      <use xlink:href=\"#DejaVuSans-56\"/>\n      <use x=\"60.658203\" xlink:href=\"#DejaVuSans-61\"/>\n      <use x=\"121.9375\" xlink:href=\"#DejaVuSans-6c\"/>\n     </g>\n    </g>\n   </g>\n  </g>\n </g>\n <defs>\n  <clipPath id=\"pf00df89ec3\">\n   <rect height=\"217.44\" width=\"334.8\" x=\"50.14375\" y=\"22.318125\"/>\n  </clipPath>\n </defs>\n</svg>\n",
      "image/png": "[encoded data removed]"
     },
     "metadata": {
      "needs_background": "light"
     }
    }
   ],
   "source": [
    "# visualizeer de Loss van de train data en validate data, lijnen lopen redelijk overelkaar heen dus overfitting is niet een groot probleem\n",
    "plt.plot(fitted.history['loss'])\n",
    "plt.plot(fitted.history['val_loss'])\n",
    "plt.title('Model loss')\n",
    "plt.ylabel('Loss')\n",
    "plt.xlabel('Epoch')\n",
    "plt.legend(['Train', 'Val'], loc='upper right')\n",
    "plt.show()"
   ]
  },
  {
   "cell_type": "code",
   "execution_count": 12,
   "metadata": {},
   "outputs": [
    {
     "output_type": "display_data",
     "data": {
      "text/plain": "<Figure size 432x288 with 1 Axes>",
      "image/svg+xml": "<?xml version=\"1.0\" encoding=\"utf-8\" standalone=\"no\"?>\n<!DOCTYPE svg PUBLIC \"-//W3C//DTD SVG 1.1//EN\"\n  \"http://www.w3.org/Graphics/SVG/1.1/DTD/svg11.dtd\">\n<svg height=\"277.314375pt\" version=\"1.1\" viewBox=\"0 0 392.14375 277.314375\" width=\"392.14375pt\" xmlns=\"http://www.w3.org/2000/svg\" xmlns:xlink=\"http://www.w3.org/1999/xlink\">\n <metadata>\n  <rdf:RDF xmlns:cc=\"http://creativecommons.org/ns#\" xmlns:dc=\"http://purl.org/dc/elements/1.1/\" xmlns:rdf=\"http://www.w3.org/1999/02/22-rdf-syntax-ns#\">\n   <cc:Work>\n    <dc:type rdf:resource=\"http://purl.org/dc/dcmitype/StillImage\"/>\n    <dc:date>2021-06-07T00:03:11.035328</dc:date>\n    <dc:format>image/svg+xml</dc:format>\n    <dc:creator>\n     <cc:Agent>\n      <dc:title>Matplotlib v3.4.2, https://matplotlib.org/</dc:title>\n     </cc:Agent>\n    </dc:creator>\n   </cc:Work>\n  </rdf:RDF>\n </metadata>\n <defs>\n  <style type=\"text/css\">*{stroke-linecap:butt;stroke-linejoin:round;}</style>\n </defs>\n <g id=\"figure_1\">\n  <g id=\"patch_1\">\n   <path d=\"M 0 277.314375 \nL 392.14375 277.314375 \nL 392.14375 0 \nL 0 0 \nz\n\" style=\"fill:none;\"/>\n  </g>\n  <g id=\"axes_1\">\n   <g id=\"patch_2\">\n    <path d=\"M 50.14375 239.758125 \nL 384.94375 239.758125 \nL 384.94375 22.318125 \nL 50.14375 22.318125 \nz\n\" style=\"fill:#ffffff;\"/>\n   </g>\n   <g id=\"matplotlib.axis_1\">\n    <g id=\"xtick_1\">\n     <g id=\"line2d_1\">\n      <defs>\n       <path d=\"M 0 0 \nL 0 3.5 \n\" id=\"m81b48c189a\" style=\"stroke:#000000;stroke-width:0.8;\"/>\n      </defs>\n      <g>\n       <use style=\"stroke:#000000;stroke-width:0.8;\" x=\"65.361932\" xlink:href=\"#m81b48c189a\" y=\"239.758125\"/>\n      </g>\n     </g>\n     <g id=\"text_1\">\n      <!-- 0 -->\n      <g transform=\"translate(62.180682 254.356562)scale(0.1 -0.1)\">\n       <defs>\n        <path d=\"M 2034 4250 \nQ 1547 4250 1301 3770 \nQ 1056 3291 1056 2328 \nQ 1056 1369 1301 889 \nQ 1547 409 2034 409 \nQ 2525 409 2770 889 \nQ 3016 1369 3016 2328 \nQ 3016 3291 2770 3770 \nQ 2525 4250 2034 4250 \nz\nM 2034 4750 \nQ 2819 4750 3233 4129 \nQ 3647 3509 3647 2328 \nQ 3647 1150 3233 529 \nQ 2819 -91 2034 -91 \nQ 1250 -91 836 529 \nQ 422 1150 422 2328 \nQ 422 3509 836 4129 \nQ 1250 4750 2034 4750 \nz\n\" id=\"DejaVuSans-30\" transform=\"scale(0.015625)\"/>\n       </defs>\n       <use xlink:href=\"#DejaVuSans-30\"/>\n      </g>\n     </g>\n    </g>\n    <g id=\"xtick_2\">\n     <g id=\"line2d_2\">\n      <g>\n       <use style=\"stroke:#000000;stroke-width:0.8;\" x=\"106.216111\" xlink:href=\"#m81b48c189a\" y=\"239.758125\"/>\n      </g>\n     </g>\n     <g id=\"text_2\">\n      <!-- 20 -->\n      <g transform=\"translate(99.853611 254.356562)scale(0.1 -0.1)\">\n       <defs>\n        <path d=\"M 1228 531 \nL 3431 531 \nL 3431 0 \nL 469 0 \nL 469 531 \nQ 828 903 1448 1529 \nQ 2069 2156 2228 2338 \nQ 2531 2678 2651 2914 \nQ 2772 3150 2772 3378 \nQ 2772 3750 2511 3984 \nQ 2250 4219 1831 4219 \nQ 1534 4219 1204 4116 \nQ 875 4013 500 3803 \nL 500 4441 \nQ 881 4594 1212 4672 \nQ 1544 4750 1819 4750 \nQ 2544 4750 2975 4387 \nQ 3406 4025 3406 3419 \nQ 3406 3131 3298 2873 \nQ 3191 2616 2906 2266 \nQ 2828 2175 2409 1742 \nQ 1991 1309 1228 531 \nz\n\" id=\"DejaVuSans-32\" transform=\"scale(0.015625)\"/>\n       </defs>\n       <use xlink:href=\"#DejaVuSans-32\"/>\n       <use x=\"63.623047\" xlink:href=\"#DejaVuSans-30\"/>\n      </g>\n     </g>\n    </g>\n    <g id=\"xtick_3\">\n     <g id=\"line2d_3\">\n      <g>\n       <use style=\"stroke:#000000;stroke-width:0.8;\" x=\"147.070291\" xlink:href=\"#m81b48c189a\" y=\"239.758125\"/>\n      </g>\n     </g>\n     <g id=\"text_3\">\n      <!-- 40 -->\n      <g transform=\"translate(140.707791 254.356562)scale(0.1 -0.1)\">\n       <defs>\n        <path d=\"M 2419 4116 \nL 825 1625 \nL 2419 1625 \nL 2419 4116 \nz\nM 2253 4666 \nL 3047 4666 \nL 3047 1625 \nL 3713 1625 \nL 3713 1100 \nL 3047 1100 \nL 3047 0 \nL 2419 0 \nL 2419 1100 \nL 313 1100 \nL 313 1709 \nL 2253 4666 \nz\n\" id=\"DejaVuSans-34\" transform=\"scale(0.015625)\"/>\n       </defs>\n       <use xlink:href=\"#DejaVuSans-34\"/>\n       <use x=\"63.623047\" xlink:href=\"#DejaVuSans-30\"/>\n      </g>\n     </g>\n    </g>\n    <g id=\"xtick_4\">\n     <g id=\"line2d_4\">\n      <g>\n       <use style=\"stroke:#000000;stroke-width:0.8;\" x=\"187.92447\" xlink:href=\"#m81b48c189a\" y=\"239.758125\"/>\n      </g>\n     </g>\n     <g id=\"text_4\">\n      <!-- 60 -->\n      <g transform=\"translate(181.56197 254.356562)scale(0.1 -0.1)\">\n       <defs>\n        <path d=\"M 2113 2584 \nQ 1688 2584 1439 2293 \nQ 1191 2003 1191 1497 \nQ 1191 994 1439 701 \nQ 1688 409 2113 409 \nQ 2538 409 2786 701 \nQ 3034 994 3034 1497 \nQ 3034 2003 2786 2293 \nQ 2538 2584 2113 2584 \nz\nM 3366 4563 \nL 3366 3988 \nQ 3128 4100 2886 4159 \nQ 2644 4219 2406 4219 \nQ 1781 4219 1451 3797 \nQ 1122 3375 1075 2522 \nQ 1259 2794 1537 2939 \nQ 1816 3084 2150 3084 \nQ 2853 3084 3261 2657 \nQ 3669 2231 3669 1497 \nQ 3669 778 3244 343 \nQ 2819 -91 2113 -91 \nQ 1303 -91 875 529 \nQ 447 1150 447 2328 \nQ 447 3434 972 4092 \nQ 1497 4750 2381 4750 \nQ 2619 4750 2861 4703 \nQ 3103 4656 3366 4563 \nz\n\" id=\"DejaVuSans-36\" transform=\"scale(0.015625)\"/>\n       </defs>\n       <use xlink:href=\"#DejaVuSans-36\"/>\n       <use x=\"63.623047\" xlink:href=\"#DejaVuSans-30\"/>\n      </g>\n     </g>\n    </g>\n    <g id=\"xtick_5\">\n     <g id=\"line2d_5\">\n      <g>\n       <use style=\"stroke:#000000;stroke-width:0.8;\" x=\"228.778649\" xlink:href=\"#m81b48c189a\" y=\"239.758125\"/>\n      </g>\n     </g>\n     <g id=\"text_5\">\n      <!-- 80 -->\n      <g transform=\"translate(222.416149 254.356562)scale(0.1 -0.1)\">\n       <defs>\n        <path d=\"M 2034 2216 \nQ 1584 2216 1326 1975 \nQ 1069 1734 1069 1313 \nQ 1069 891 1326 650 \nQ 1584 409 2034 409 \nQ 2484 409 2743 651 \nQ 3003 894 3003 1313 \nQ 3003 1734 2745 1975 \nQ 2488 2216 2034 2216 \nz\nM 1403 2484 \nQ 997 2584 770 2862 \nQ 544 3141 544 3541 \nQ 544 4100 942 4425 \nQ 1341 4750 2034 4750 \nQ 2731 4750 3128 4425 \nQ 3525 4100 3525 3541 \nQ 3525 3141 3298 2862 \nQ 3072 2584 2669 2484 \nQ 3125 2378 3379 2068 \nQ 3634 1759 3634 1313 \nQ 3634 634 3220 271 \nQ 2806 -91 2034 -91 \nQ 1263 -91 848 271 \nQ 434 634 434 1313 \nQ 434 1759 690 2068 \nQ 947 2378 1403 2484 \nz\nM 1172 3481 \nQ 1172 3119 1398 2916 \nQ 1625 2713 2034 2713 \nQ 2441 2713 2670 2916 \nQ 2900 3119 2900 3481 \nQ 2900 3844 2670 4047 \nQ 2441 4250 2034 4250 \nQ 1625 4250 1398 4047 \nQ 1172 3844 1172 3481 \nz\n\" id=\"DejaVuSans-38\" transform=\"scale(0.015625)\"/>\n       </defs>\n       <use xlink:href=\"#DejaVuSans-38\"/>\n       <use x=\"63.623047\" xlink:href=\"#DejaVuSans-30\"/>\n      </g>\n     </g>\n    </g>\n    <g id=\"xtick_6\">\n     <g id=\"line2d_6\">\n      <g>\n       <use style=\"stroke:#000000;stroke-width:0.8;\" x=\"269.632829\" xlink:href=\"#m81b48c189a\" y=\"239.758125\"/>\n      </g>\n     </g>\n     <g id=\"text_6\">\n      <!-- 100 -->\n      <g transform=\"translate(260.089079 254.356562)scale(0.1 -0.1)\">\n       <defs>\n        <path d=\"M 794 531 \nL 1825 531 \nL 1825 4091 \nL 703 3866 \nL 703 4441 \nL 1819 4666 \nL 2450 4666 \nL 2450 531 \nL 3481 531 \nL 3481 0 \nL 794 0 \nL 794 531 \nz\n\" id=\"DejaVuSans-31\" transform=\"scale(0.015625)\"/>\n       </defs>\n       <use xlink:href=\"#DejaVuSans-31\"/>\n       <use x=\"63.623047\" xlink:href=\"#DejaVuSans-30\"/>\n       <use x=\"127.246094\" xlink:href=\"#DejaVuSans-30\"/>\n      </g>\n     </g>\n    </g>\n    <g id=\"xtick_7\">\n     <g id=\"line2d_7\">\n      <g>\n       <use style=\"stroke:#000000;stroke-width:0.8;\" x=\"310.487008\" xlink:href=\"#m81b48c189a\" y=\"239.758125\"/>\n      </g>\n     </g>\n     <g id=\"text_7\">\n      <!-- 120 -->\n      <g transform=\"translate(300.943258 254.356562)scale(0.1 -0.1)\">\n       <use xlink:href=\"#DejaVuSans-31\"/>\n       <use x=\"63.623047\" xlink:href=\"#DejaVuSans-32\"/>\n       <use x=\"127.246094\" xlink:href=\"#DejaVuSans-30\"/>\n      </g>\n     </g>\n    </g>\n    <g id=\"xtick_8\">\n     <g id=\"line2d_8\">\n      <g>\n       <use style=\"stroke:#000000;stroke-width:0.8;\" x=\"351.341187\" xlink:href=\"#m81b48c189a\" y=\"239.758125\"/>\n      </g>\n     </g>\n     <g id=\"text_8\">\n      <!-- 140 -->\n      <g transform=\"translate(341.797437 254.356562)scale(0.1 -0.1)\">\n       <use xlink:href=\"#DejaVuSans-31\"/>\n       <use x=\"63.623047\" xlink:href=\"#DejaVuSans-34\"/>\n       <use x=\"127.246094\" xlink:href=\"#DejaVuSans-30\"/>\n      </g>\n     </g>\n    </g>\n    <g id=\"text_9\">\n     <!-- Epoch -->\n     <g transform=\"translate(202.232813 268.034687)scale(0.1 -0.1)\">\n      <defs>\n       <path d=\"M 628 4666 \nL 3578 4666 \nL 3578 4134 \nL 1259 4134 \nL 1259 2753 \nL 3481 2753 \nL 3481 2222 \nL 1259 2222 \nL 1259 531 \nL 3634 531 \nL 3634 0 \nL 628 0 \nL 628 4666 \nz\n\" id=\"DejaVuSans-45\" transform=\"scale(0.015625)\"/>\n       <path d=\"M 1159 525 \nL 1159 -1331 \nL 581 -1331 \nL 581 3500 \nL 1159 3500 \nL 1159 2969 \nQ 1341 3281 1617 3432 \nQ 1894 3584 2278 3584 \nQ 2916 3584 3314 3078 \nQ 3713 2572 3713 1747 \nQ 3713 922 3314 415 \nQ 2916 -91 2278 -91 \nQ 1894 -91 1617 61 \nQ 1341 213 1159 525 \nz\nM 3116 1747 \nQ 3116 2381 2855 2742 \nQ 2594 3103 2138 3103 \nQ 1681 3103 1420 2742 \nQ 1159 2381 1159 1747 \nQ 1159 1113 1420 752 \nQ 1681 391 2138 391 \nQ 2594 391 2855 752 \nQ 3116 1113 3116 1747 \nz\n\" id=\"DejaVuSans-70\" transform=\"scale(0.015625)\"/>\n       <path d=\"M 1959 3097 \nQ 1497 3097 1228 2736 \nQ 959 2375 959 1747 \nQ 959 1119 1226 758 \nQ 1494 397 1959 397 \nQ 2419 397 2687 759 \nQ 2956 1122 2956 1747 \nQ 2956 2369 2687 2733 \nQ 2419 3097 1959 3097 \nz\nM 1959 3584 \nQ 2709 3584 3137 3096 \nQ 3566 2609 3566 1747 \nQ 3566 888 3137 398 \nQ 2709 -91 1959 -91 \nQ 1206 -91 779 398 \nQ 353 888 353 1747 \nQ 353 2609 779 3096 \nQ 1206 3584 1959 3584 \nz\n\" id=\"DejaVuSans-6f\" transform=\"scale(0.015625)\"/>\n       <path d=\"M 3122 3366 \nL 3122 2828 \nQ 2878 2963 2633 3030 \nQ 2388 3097 2138 3097 \nQ 1578 3097 1268 2742 \nQ 959 2388 959 1747 \nQ 959 1106 1268 751 \nQ 1578 397 2138 397 \nQ 2388 397 2633 464 \nQ 2878 531 3122 666 \nL 3122 134 \nQ 2881 22 2623 -34 \nQ 2366 -91 2075 -91 \nQ 1284 -91 818 406 \nQ 353 903 353 1747 \nQ 353 2603 823 3093 \nQ 1294 3584 2113 3584 \nQ 2378 3584 2631 3529 \nQ 2884 3475 3122 3366 \nz\n\" id=\"DejaVuSans-63\" transform=\"scale(0.015625)\"/>\n       <path d=\"M 3513 2113 \nL 3513 0 \nL 2938 0 \nL 2938 2094 \nQ 2938 2591 2744 2837 \nQ 2550 3084 2163 3084 \nQ 1697 3084 1428 2787 \nQ 1159 2491 1159 1978 \nL 1159 0 \nL 581 0 \nL 581 4863 \nL 1159 4863 \nL 1159 2956 \nQ 1366 3272 1645 3428 \nQ 1925 3584 2291 3584 \nQ 2894 3584 3203 3211 \nQ 3513 2838 3513 2113 \nz\n\" id=\"DejaVuSans-68\" transform=\"scale(0.015625)\"/>\n      </defs>\n      <use xlink:href=\"#DejaVuSans-45\"/>\n      <use x=\"63.183594\" xlink:href=\"#DejaVuSans-70\"/>\n      <use x=\"126.660156\" xlink:href=\"#DejaVuSans-6f\"/>\n      <use x=\"187.841797\" xlink:href=\"#DejaVuSans-63\"/>\n      <use x=\"242.822266\" xlink:href=\"#DejaVuSans-68\"/>\n     </g>\n    </g>\n   </g>\n   <g id=\"matplotlib.axis_2\">\n    <g id=\"ytick_1\">\n     <g id=\"line2d_9\">\n      <defs>\n       <path d=\"M 0 0 \nL -3.5 0 \n\" id=\"m91665671dd\" style=\"stroke:#000000;stroke-width:0.8;\"/>\n      </defs>\n      <g>\n       <use style=\"stroke:#000000;stroke-width:0.8;\" x=\"50.14375\" xlink:href=\"#m91665671dd\" y=\"232.749039\"/>\n      </g>\n     </g>\n     <g id=\"text_10\">\n      <!-- 0.95 -->\n      <g transform=\"translate(20.878125 236.548257)scale(0.1 -0.1)\">\n       <defs>\n        <path d=\"M 684 794 \nL 1344 794 \nL 1344 0 \nL 684 0 \nL 684 794 \nz\n\" id=\"DejaVuSans-2e\" transform=\"scale(0.015625)\"/>\n        <path d=\"M 703 97 \nL 703 672 \nQ 941 559 1184 500 \nQ 1428 441 1663 441 \nQ 2288 441 2617 861 \nQ 2947 1281 2994 2138 \nQ 2813 1869 2534 1725 \nQ 2256 1581 1919 1581 \nQ 1219 1581 811 2004 \nQ 403 2428 403 3163 \nQ 403 3881 828 4315 \nQ 1253 4750 1959 4750 \nQ 2769 4750 3195 4129 \nQ 3622 3509 3622 2328 \nQ 3622 1225 3098 567 \nQ 2575 -91 1691 -91 \nQ 1453 -91 1209 -44 \nQ 966 3 703 97 \nz\nM 1959 2075 \nQ 2384 2075 2632 2365 \nQ 2881 2656 2881 3163 \nQ 2881 3666 2632 3958 \nQ 2384 4250 1959 4250 \nQ 1534 4250 1286 3958 \nQ 1038 3666 1038 3163 \nQ 1038 2656 1286 2365 \nQ 1534 2075 1959 2075 \nz\n\" id=\"DejaVuSans-39\" transform=\"scale(0.015625)\"/>\n        <path d=\"M 691 4666 \nL 3169 4666 \nL 3169 4134 \nL 1269 4134 \nL 1269 2991 \nQ 1406 3038 1543 3061 \nQ 1681 3084 1819 3084 \nQ 2600 3084 3056 2656 \nQ 3513 2228 3513 1497 \nQ 3513 744 3044 326 \nQ 2575 -91 1722 -91 \nQ 1428 -91 1123 -41 \nQ 819 9 494 109 \nL 494 744 \nQ 775 591 1075 516 \nQ 1375 441 1709 441 \nQ 2250 441 2565 725 \nQ 2881 1009 2881 1497 \nQ 2881 1984 2565 2268 \nQ 2250 2553 1709 2553 \nQ 1456 2553 1204 2497 \nQ 953 2441 691 2322 \nL 691 4666 \nz\n\" id=\"DejaVuSans-35\" transform=\"scale(0.015625)\"/>\n       </defs>\n       <use xlink:href=\"#DejaVuSans-30\"/>\n       <use x=\"63.623047\" xlink:href=\"#DejaVuSans-2e\"/>\n       <use x=\"95.410156\" xlink:href=\"#DejaVuSans-39\"/>\n       <use x=\"159.033203\" xlink:href=\"#DejaVuSans-35\"/>\n      </g>\n     </g>\n    </g>\n    <g id=\"ytick_2\">\n     <g id=\"line2d_10\">\n      <g>\n       <use style=\"stroke:#000000;stroke-width:0.8;\" x=\"50.14375\" xlink:href=\"#m91665671dd\" y=\"187.362388\"/>\n      </g>\n     </g>\n     <g id=\"text_11\">\n      <!-- 0.96 -->\n      <g transform=\"translate(20.878125 191.161607)scale(0.1 -0.1)\">\n       <use xlink:href=\"#DejaVuSans-30\"/>\n       <use x=\"63.623047\" xlink:href=\"#DejaVuSans-2e\"/>\n       <use x=\"95.410156\" xlink:href=\"#DejaVuSans-39\"/>\n       <use x=\"159.033203\" xlink:href=\"#DejaVuSans-36\"/>\n      </g>\n     </g>\n    </g>\n    <g id=\"ytick_3\">\n     <g id=\"line2d_11\">\n      <g>\n       <use style=\"stroke:#000000;stroke-width:0.8;\" x=\"50.14375\" xlink:href=\"#m91665671dd\" y=\"141.975737\"/>\n      </g>\n     </g>\n     <g id=\"text_12\">\n      <!-- 0.97 -->\n      <g transform=\"translate(20.878125 145.774956)scale(0.1 -0.1)\">\n       <defs>\n        <path d=\"M 525 4666 \nL 3525 4666 \nL 3525 4397 \nL 1831 0 \nL 1172 0 \nL 2766 4134 \nL 525 4134 \nL 525 4666 \nz\n\" id=\"DejaVuSans-37\" transform=\"scale(0.015625)\"/>\n       </defs>\n       <use xlink:href=\"#DejaVuSans-30\"/>\n       <use x=\"63.623047\" xlink:href=\"#DejaVuSans-2e\"/>\n       <use x=\"95.410156\" xlink:href=\"#DejaVuSans-39\"/>\n       <use x=\"159.033203\" xlink:href=\"#DejaVuSans-37\"/>\n      </g>\n     </g>\n    </g>\n    <g id=\"ytick_4\">\n     <g id=\"line2d_12\">\n      <g>\n       <use style=\"stroke:#000000;stroke-width:0.8;\" x=\"50.14375\" xlink:href=\"#m91665671dd\" y=\"96.589086\"/>\n      </g>\n     </g>\n     <g id=\"text_13\">\n      <!-- 0.98 -->\n      <g transform=\"translate(20.878125 100.388305)scale(0.1 -0.1)\">\n       <use xlink:href=\"#DejaVuSans-30\"/>\n       <use x=\"63.623047\" xlink:href=\"#DejaVuSans-2e\"/>\n       <use x=\"95.410156\" xlink:href=\"#DejaVuSans-39\"/>\n       <use x=\"159.033203\" xlink:href=\"#DejaVuSans-38\"/>\n      </g>\n     </g>\n    </g>\n    <g id=\"ytick_5\">\n     <g id=\"line2d_13\">\n      <g>\n       <use style=\"stroke:#000000;stroke-width:0.8;\" x=\"50.14375\" xlink:href=\"#m91665671dd\" y=\"51.202435\"/>\n      </g>\n     </g>\n     <g id=\"text_14\">\n      <!-- 0.99 -->\n      <g transform=\"translate(20.878125 55.001654)scale(0.1 -0.1)\">\n       <use xlink:href=\"#DejaVuSans-30\"/>\n       <use x=\"63.623047\" xlink:href=\"#DejaVuSans-2e\"/>\n       <use x=\"95.410156\" xlink:href=\"#DejaVuSans-39\"/>\n       <use x=\"159.033203\" xlink:href=\"#DejaVuSans-39\"/>\n      </g>\n     </g>\n    </g>\n    <g id=\"text_15\">\n     <!-- Accuracy -->\n     <g transform=\"translate(14.798438 153.86625)rotate(-90)scale(0.1 -0.1)\">\n      <defs>\n       <path d=\"M 2188 4044 \nL 1331 1722 \nL 3047 1722 \nL 2188 4044 \nz\nM 1831 4666 \nL 2547 4666 \nL 4325 0 \nL 3669 0 \nL 3244 1197 \nL 1141 1197 \nL 716 0 \nL 50 0 \nL 1831 4666 \nz\n\" id=\"DejaVuSans-41\" transform=\"scale(0.015625)\"/>\n       <path d=\"M 544 1381 \nL 544 3500 \nL 1119 3500 \nL 1119 1403 \nQ 1119 906 1312 657 \nQ 1506 409 1894 409 \nQ 2359 409 2629 706 \nQ 2900 1003 2900 1516 \nL 2900 3500 \nL 3475 3500 \nL 3475 0 \nL 2900 0 \nL 2900 538 \nQ 2691 219 2414 64 \nQ 2138 -91 1772 -91 \nQ 1169 -91 856 284 \nQ 544 659 544 1381 \nz\nM 1991 3584 \nL 1991 3584 \nz\n\" id=\"DejaVuSans-75\" transform=\"scale(0.015625)\"/>\n       <path d=\"M 2631 2963 \nQ 2534 3019 2420 3045 \nQ 2306 3072 2169 3072 \nQ 1681 3072 1420 2755 \nQ 1159 2438 1159 1844 \nL 1159 0 \nL 581 0 \nL 581 3500 \nL 1159 3500 \nL 1159 2956 \nQ 1341 3275 1631 3429 \nQ 1922 3584 2338 3584 \nQ 2397 3584 2469 3576 \nQ 2541 3569 2628 3553 \nL 2631 2963 \nz\n\" id=\"DejaVuSans-72\" transform=\"scale(0.015625)\"/>\n       <path d=\"M 2194 1759 \nQ 1497 1759 1228 1600 \nQ 959 1441 959 1056 \nQ 959 750 1161 570 \nQ 1363 391 1709 391 \nQ 2188 391 2477 730 \nQ 2766 1069 2766 1631 \nL 2766 1759 \nL 2194 1759 \nz\nM 3341 1997 \nL 3341 0 \nL 2766 0 \nL 2766 531 \nQ 2569 213 2275 61 \nQ 1981 -91 1556 -91 \nQ 1019 -91 701 211 \nQ 384 513 384 1019 \nQ 384 1609 779 1909 \nQ 1175 2209 1959 2209 \nL 2766 2209 \nL 2766 2266 \nQ 2766 2663 2505 2880 \nQ 2244 3097 1772 3097 \nQ 1472 3097 1187 3025 \nQ 903 2953 641 2809 \nL 641 3341 \nQ 956 3463 1253 3523 \nQ 1550 3584 1831 3584 \nQ 2591 3584 2966 3190 \nQ 3341 2797 3341 1997 \nz\n\" id=\"DejaVuSans-61\" transform=\"scale(0.015625)\"/>\n       <path d=\"M 2059 -325 \nQ 1816 -950 1584 -1140 \nQ 1353 -1331 966 -1331 \nL 506 -1331 \nL 506 -850 \nL 844 -850 \nQ 1081 -850 1212 -737 \nQ 1344 -625 1503 -206 \nL 1606 56 \nL 191 3500 \nL 800 3500 \nL 1894 763 \nL 2988 3500 \nL 3597 3500 \nL 2059 -325 \nz\n\" id=\"DejaVuSans-79\" transform=\"scale(0.015625)\"/>\n      </defs>\n      <use xlink:href=\"#DejaVuSans-41\"/>\n      <use x=\"66.658203\" xlink:href=\"#DejaVuSans-63\"/>\n      <use x=\"121.638672\" xlink:href=\"#DejaVuSans-63\"/>\n      <use x=\"176.619141\" xlink:href=\"#DejaVuSans-75\"/>\n      <use x=\"239.998047\" xlink:href=\"#DejaVuSans-72\"/>\n      <use x=\"281.111328\" xlink:href=\"#DejaVuSans-61\"/>\n      <use x=\"342.390625\" xlink:href=\"#DejaVuSans-63\"/>\n      <use x=\"397.371094\" xlink:href=\"#DejaVuSans-79\"/>\n     </g>\n    </g>\n   </g>\n   <g id=\"line2d_14\">\n    <path clip-path=\"url(#p2f72189353)\" d=\"M 65.361932 229.874489 \nL 67.404641 159.413953 \nL 69.44735 156.760638 \nL 71.490059 144.378415 \nL 73.532768 138.187438 \nL 75.575477 142.16741 \nL 79.660895 126.542126 \nL 81.703604 124.036248 \nL 83.746313 123.888812 \nL 85.789022 119.466802 \nL 87.83173 112.391207 \nL 89.874439 112.538643 \nL 91.917148 109.885329 \nL 93.959857 108.705837 \nL 96.002566 107.37918 \nL 98.045275 104.431264 \nL 100.087984 104.283827 \nL 102.130693 107.82149 \nL 104.173402 101.040767 \nL 106.216111 99.124365 \nL 108.25882 96.323884 \nL 110.301529 97.208232 \nL 112.344238 88.658544 \nL 114.386947 91.901604 \nL 116.429656 86.300102 \nL 118.472365 87.331887 \nL 120.515074 85.857793 \nL 122.557783 79.666817 \nL 126.643201 77.602977 \nL 128.68591 75.834282 \nL 130.728619 72.591222 \nL 132.771328 76.128884 \nL 134.814037 67.874068 \nL 136.856746 69.348162 \nL 138.899455 67.432029 \nL 140.942164 64.336406 \nL 145.027582 66.399975 \nL 147.070291 61.093346 \nL 149.113 60.798744 \nL 151.155709 60.651307 \nL 153.198417 61.240782 \nL 155.241126 60.503871 \nL 157.283835 57.555684 \nL 159.326544 56.523899 \nL 161.369253 55.934154 \nL 163.411962 55.934154 \nL 165.454671 68.463814 \nL 167.49738 52.83853 \nL 169.540089 55.639281 \nL 171.582798 57.997993 \nL 173.625507 53.870585 \nL 175.668216 56.376463 \nL 177.710925 53.280839 \nL 179.753634 55.786717 \nL 181.796343 51.806746 \nL 183.839052 54.018021 \nL 185.881761 50.332652 \nL 187.92447 52.543928 \nL 189.967179 51.806746 \nL 192.009888 50.480089 \nL 194.052597 50.774961 \nL 196.095306 55.639281 \nL 198.138015 51.364707 \nL 200.180724 51.364707 \nL 202.223433 49.005995 \nL 204.266142 49.300868 \nL 206.308851 50.480089 \nL 208.35156 46.647554 \nL 210.394269 49.890614 \nL 212.436978 48.269084 \nL 214.479687 45.026024 \nL 216.522396 46.352681 \nL 218.565104 48.711122 \nL 220.607813 47.531902 \nL 222.650522 43.994239 \nL 224.693231 48.711122 \nL 226.73594 42.520146 \nL 228.778649 47.826774 \nL 230.821358 47.384465 \nL 232.864067 42.815019 \nL 234.906776 45.910642 \nL 236.949485 45.17346 \nL 238.992194 42.225273 \nL 241.034903 44.289112 \nL 243.077612 42.815019 \nL 245.120321 44.878587 \nL 247.16303 42.077837 \nL 249.205739 41.193489 \nL 251.248448 46.500117 \nL 253.291157 45.763206 \nL 255.333866 39.277086 \nL 257.376575 41.635798 \nL 259.419284 45.17346 \nL 261.461993 47.531902 \nL 263.504702 42.077837 \nL 265.547411 38.687611 \nL 267.59012 47.237299 \nL 269.632829 42.225273 \nL 271.675538 43.699367 \nL 273.718247 43.846803 \nL 275.760956 44.731151 \nL 277.803665 41.193489 \nL 279.846374 40.898616 \nL 281.889083 41.9304 \nL 283.931791 42.372709 \nL 285.9745 39.571959 \nL 288.017209 43.846803 \nL 290.059918 36.771208 \nL 292.102627 43.404494 \nL 294.145336 41.488361 \nL 296.188045 39.12992 \nL 298.230754 40.161704 \nL 300.273463 46.352681 \nL 302.316172 40.898616 \nL 304.358881 37.655826 \nL 306.40159 42.962455 \nL 308.444299 46.647554 \nL 310.487008 36.918644 \nL 312.529717 40.014268 \nL 314.572426 37.360954 \nL 316.615135 39.424522 \nL 318.657844 36.181733 \nL 320.700553 39.277086 \nL 322.743262 39.719395 \nL 324.785971 37.655826 \nL 326.82868 39.866831 \nL 328.871389 41.488361 \nL 330.914098 37.213517 \nL 332.956807 36.918644 \nL 334.999516 37.655826 \nL 337.042225 35.591987 \nL 339.084934 35.739424 \nL 341.127643 36.181733 \nL 343.170352 32.201761 \nL 345.213061 35.739424 \nL 347.25577 36.476335 \nL 349.298478 35.591987 \nL 351.341187 34.26533 \nL 353.383896 37.803263 \nL 355.426605 43.404494 \nL 357.469314 36.771208 \nL 359.512023 34.560203 \nL 361.554732 35.002512 \nL 363.597441 38.097865 \nL 365.64015 32.6438 \nL 367.682859 34.412766 \nL 369.725568 34.855076 \nL 369.725568 34.855076 \n\" style=\"fill:none;stroke:#1f77b4;stroke-linecap:square;stroke-width:1.5;\"/>\n   </g>\n   <g id=\"line2d_15\">\n    <path clip-path=\"url(#p2f72189353)\" d=\"M 65.361932 173.659827 \nL 67.404641 169.532419 \nL 69.44735 166.780904 \nL 71.490059 163.341442 \nL 75.575477 149.583867 \nL 77.618186 137.201914 \nL 79.660895 159.901981 \nL 81.703604 142.016997 \nL 83.746313 140.641375 \nL 85.789022 131.010937 \nL 87.83173 125.507637 \nL 91.917148 115.877469 \nL 93.959857 118.628984 \nL 96.002566 115.877469 \nL 98.045275 109.686493 \nL 100.087984 138.577536 \nL 102.130693 112.438008 \nL 104.173402 114.501576 \nL 106.216111 115.189523 \nL 108.25882 125.507637 \nL 110.301529 107.622653 \nL 112.344238 103.495516 \nL 114.386947 86.986155 \nL 116.429656 107.622653 \nL 118.472365 106.247031 \nL 120.515074 91.113563 \nL 122.557783 102.119623 \nL 124.600492 88.362048 \nL 126.643201 126.195583 \nL 128.68591 117.941038 \nL 130.728619 82.859018 \nL 132.771328 86.298209 \nL 134.814037 82.859018 \nL 136.856746 85.610533 \nL 138.899455 82.171071 \nL 140.942164 78.043663 \nL 142.984873 110.374168 \nL 145.027582 79.419556 \nL 147.070291 75.980095 \nL 149.113 67.72555 \nL 151.155709 64.286088 \nL 153.198417 74.604202 \nL 155.241126 91.801509 \nL 157.283835 62.910195 \nL 159.326544 67.037603 \nL 161.369253 56.719219 \nL 163.411962 64.973764 \nL 165.454671 82.171071 \nL 167.49738 58.783058 \nL 169.540089 56.031272 \nL 171.582798 65.66171 \nL 173.625507 66.349657 \nL 175.668216 68.413225 \nL 177.710925 69.789118 \nL 179.753634 78.73161 \nL 181.796343 60.846627 \nL 183.839052 54.65565 \nL 185.881761 58.095112 \nL 187.92447 53.967704 \nL 189.967179 62.222249 \nL 192.009888 57.407165 \nL 194.052597 58.095112 \nL 196.095306 64.286088 \nL 198.138015 73.916526 \nL 200.180724 53.279757 \nL 202.223433 71.852687 \nL 204.266142 47.776727 \nL 206.308851 65.66171 \nL 208.35156 58.095112 \nL 210.394269 62.222249 \nL 212.436978 63.598142 \nL 214.479687 66.349657 \nL 216.522396 56.719219 \nL 218.565104 60.15868 \nL 220.607813 78.73161 \nL 222.650522 50.528242 \nL 224.693231 46.401105 \nL 226.73594 60.15868 \nL 228.778649 64.286088 \nL 230.821358 40.897804 \nL 232.864067 82.859018 \nL 234.906776 55.343596 \nL 236.949485 56.719219 \nL 238.992194 38.146289 \nL 241.034903 46.401105 \nL 243.077612 52.592081 \nL 245.120321 50.528242 \nL 247.16303 51.216189 \nL 249.205739 49.840296 \nL 251.248448 84.23464 \nL 253.291157 61.534573 \nL 255.333866 56.031272 \nL 257.376575 58.783058 \nL 259.419284 79.419556 \nL 261.461993 53.967704 \nL 263.504702 51.216189 \nL 265.547411 49.15262 \nL 267.59012 43.64959 \nL 269.632829 48.464674 \nL 271.675538 62.222249 \nL 273.718247 53.279757 \nL 275.760956 50.528242 \nL 277.803665 60.15868 \nL 279.846374 45.713158 \nL 281.889083 58.095112 \nL 283.931791 57.407165 \nL 285.9745 56.031272 \nL 288.017209 42.273697 \nL 290.059918 64.286088 \nL 292.102627 53.279757 \nL 294.145336 47.776727 \nL 296.188045 43.64959 \nL 298.230754 50.528242 \nL 300.273463 68.413225 \nL 302.316172 48.464674 \nL 304.358881 61.534573 \nL 306.40159 63.598142 \nL 308.444299 56.719219 \nL 310.487008 58.095112 \nL 312.529717 48.464674 \nL 314.572426 47.776727 \nL 316.615135 55.343596 \nL 318.657844 40.897804 \nL 320.700553 40.897804 \nL 322.743262 47.776727 \nL 324.785971 49.840296 \nL 326.82868 58.783058 \nL 328.871389 47.088781 \nL 330.914098 42.273697 \nL 332.956807 41.585751 \nL 334.999516 41.585751 \nL 337.042225 57.407165 \nL 339.084934 59.470734 \nL 341.127643 51.904135 \nL 343.170352 54.65565 \nL 345.213061 44.337266 \nL 347.25577 37.458613 \nL 349.298478 34.019152 \nL 351.341187 60.15868 \nL 353.383896 47.088781 \nL 355.426605 47.088781 \nL 357.469314 36.770667 \nL 359.512023 56.719219 \nL 361.554732 62.222249 \nL 363.597441 38.834236 \nL 365.64015 47.776727 \nL 367.682859 40.210128 \nL 369.725568 49.15262 \nL 369.725568 49.15262 \n\" style=\"fill:none;stroke:#ff7f0e;stroke-linecap:square;stroke-width:1.5;\"/>\n   </g>\n   <g id=\"patch_3\">\n    <path d=\"M 50.14375 239.758125 \nL 50.14375 22.318125 \n\" style=\"fill:none;stroke:#000000;stroke-linecap:square;stroke-linejoin:miter;stroke-width:0.8;\"/>\n   </g>\n   <g id=\"patch_4\">\n    <path d=\"M 384.94375 239.758125 \nL 384.94375 22.318125 \n\" style=\"fill:none;stroke:#000000;stroke-linecap:square;stroke-linejoin:miter;stroke-width:0.8;\"/>\n   </g>\n   <g id=\"patch_5\">\n    <path d=\"M 50.14375 239.758125 \nL 384.94375 239.758125 \n\" style=\"fill:none;stroke:#000000;stroke-linecap:square;stroke-linejoin:miter;stroke-width:0.8;\"/>\n   </g>\n   <g id=\"patch_6\">\n    <path d=\"M 50.14375 22.318125 \nL 384.94375 22.318125 \n\" style=\"fill:none;stroke:#000000;stroke-linecap:square;stroke-linejoin:miter;stroke-width:0.8;\"/>\n   </g>\n   <g id=\"text_16\">\n    <!-- Model accuracy -->\n    <g transform=\"translate(170.549688 16.318125)scale(0.12 -0.12)\">\n     <defs>\n      <path d=\"M 628 4666 \nL 1569 4666 \nL 2759 1491 \nL 3956 4666 \nL 4897 4666 \nL 4897 0 \nL 4281 0 \nL 4281 4097 \nL 3078 897 \nL 2444 897 \nL 1241 4097 \nL 1241 0 \nL 628 0 \nL 628 4666 \nz\n\" id=\"DejaVuSans-4d\" transform=\"scale(0.015625)\"/>\n      <path d=\"M 2906 2969 \nL 2906 4863 \nL 3481 4863 \nL 3481 0 \nL 2906 0 \nL 2906 525 \nQ 2725 213 2448 61 \nQ 2172 -91 1784 -91 \nQ 1150 -91 751 415 \nQ 353 922 353 1747 \nQ 353 2572 751 3078 \nQ 1150 3584 1784 3584 \nQ 2172 3584 2448 3432 \nQ 2725 3281 2906 2969 \nz\nM 947 1747 \nQ 947 1113 1208 752 \nQ 1469 391 1925 391 \nQ 2381 391 2643 752 \nQ 2906 1113 2906 1747 \nQ 2906 2381 2643 2742 \nQ 2381 3103 1925 3103 \nQ 1469 3103 1208 2742 \nQ 947 2381 947 1747 \nz\n\" id=\"DejaVuSans-64\" transform=\"scale(0.015625)\"/>\n      <path d=\"M 3597 1894 \nL 3597 1613 \nL 953 1613 \nQ 991 1019 1311 708 \nQ 1631 397 2203 397 \nQ 2534 397 2845 478 \nQ 3156 559 3463 722 \nL 3463 178 \nQ 3153 47 2828 -22 \nQ 2503 -91 2169 -91 \nQ 1331 -91 842 396 \nQ 353 884 353 1716 \nQ 353 2575 817 3079 \nQ 1281 3584 2069 3584 \nQ 2775 3584 3186 3129 \nQ 3597 2675 3597 1894 \nz\nM 3022 2063 \nQ 3016 2534 2758 2815 \nQ 2500 3097 2075 3097 \nQ 1594 3097 1305 2825 \nQ 1016 2553 972 2059 \nL 3022 2063 \nz\n\" id=\"DejaVuSans-65\" transform=\"scale(0.015625)\"/>\n      <path d=\"M 603 4863 \nL 1178 4863 \nL 1178 0 \nL 603 0 \nL 603 4863 \nz\n\" id=\"DejaVuSans-6c\" transform=\"scale(0.015625)\"/>\n      <path id=\"DejaVuSans-20\" transform=\"scale(0.015625)\"/>\n     </defs>\n     <use xlink:href=\"#DejaVuSans-4d\"/>\n     <use x=\"86.279297\" xlink:href=\"#DejaVuSans-6f\"/>\n     <use x=\"147.460938\" xlink:href=\"#DejaVuSans-64\"/>\n     <use x=\"210.9375\" xlink:href=\"#DejaVuSans-65\"/>\n     <use x=\"272.460938\" xlink:href=\"#DejaVuSans-6c\"/>\n     <use x=\"300.244141\" xlink:href=\"#DejaVuSans-20\"/>\n     <use x=\"332.03125\" xlink:href=\"#DejaVuSans-61\"/>\n     <use x=\"393.310547\" xlink:href=\"#DejaVuSans-63\"/>\n     <use x=\"448.291016\" xlink:href=\"#DejaVuSans-63\"/>\n     <use x=\"503.271484\" xlink:href=\"#DejaVuSans-75\"/>\n     <use x=\"566.650391\" xlink:href=\"#DejaVuSans-72\"/>\n     <use x=\"607.763672\" xlink:href=\"#DejaVuSans-61\"/>\n     <use x=\"669.042969\" xlink:href=\"#DejaVuSans-63\"/>\n     <use x=\"724.023438\" xlink:href=\"#DejaVuSans-79\"/>\n    </g>\n   </g>\n   <g id=\"legend_1\">\n    <g id=\"patch_7\">\n     <path d=\"M 321.95625 234.758125 \nL 377.94375 234.758125 \nQ 379.94375 234.758125 379.94375 232.758125 \nL 379.94375 204.401875 \nQ 379.94375 202.401875 377.94375 202.401875 \nL 321.95625 202.401875 \nQ 319.95625 202.401875 319.95625 204.401875 \nL 319.95625 232.758125 \nQ 319.95625 234.758125 321.95625 234.758125 \nz\n\" style=\"fill:#ffffff;opacity:0.8;stroke:#cccccc;stroke-linejoin:miter;\"/>\n    </g>\n    <g id=\"line2d_16\">\n     <path d=\"M 323.95625 210.500312 \nL 343.95625 210.500312 \n\" style=\"fill:none;stroke:#1f77b4;stroke-linecap:square;stroke-width:1.5;\"/>\n    </g>\n    <g id=\"line2d_17\"/>\n    <g id=\"text_17\">\n     <!-- Train -->\n     <g transform=\"translate(351.95625 214.000312)scale(0.1 -0.1)\">\n      <defs>\n       <path d=\"M -19 4666 \nL 3928 4666 \nL 3928 4134 \nL 2272 4134 \nL 2272 0 \nL 1638 0 \nL 1638 4134 \nL -19 4134 \nL -19 4666 \nz\n\" id=\"DejaVuSans-54\" transform=\"scale(0.015625)\"/>\n       <path d=\"M 603 3500 \nL 1178 3500 \nL 1178 0 \nL 603 0 \nL 603 3500 \nz\nM 603 4863 \nL 1178 4863 \nL 1178 4134 \nL 603 4134 \nL 603 4863 \nz\n\" id=\"DejaVuSans-69\" transform=\"scale(0.015625)\"/>\n       <path d=\"M 3513 2113 \nL 3513 0 \nL 2938 0 \nL 2938 2094 \nQ 2938 2591 2744 2837 \nQ 2550 3084 2163 3084 \nQ 1697 3084 1428 2787 \nQ 1159 2491 1159 1978 \nL 1159 0 \nL 581 0 \nL 581 3500 \nL 1159 3500 \nL 1159 2956 \nQ 1366 3272 1645 3428 \nQ 1925 3584 2291 3584 \nQ 2894 3584 3203 3211 \nQ 3513 2838 3513 2113 \nz\n\" id=\"DejaVuSans-6e\" transform=\"scale(0.015625)\"/>\n      </defs>\n      <use xlink:href=\"#DejaVuSans-54\"/>\n      <use x=\"46.333984\" xlink:href=\"#DejaVuSans-72\"/>\n      <use x=\"87.447266\" xlink:href=\"#DejaVuSans-61\"/>\n      <use x=\"148.726562\" xlink:href=\"#DejaVuSans-69\"/>\n      <use x=\"176.509766\" xlink:href=\"#DejaVuSans-6e\"/>\n     </g>\n    </g>\n    <g id=\"line2d_18\">\n     <path d=\"M 323.95625 225.178437 \nL 343.95625 225.178437 \n\" style=\"fill:none;stroke:#ff7f0e;stroke-linecap:square;stroke-width:1.5;\"/>\n    </g>\n    <g id=\"line2d_19\"/>\n    <g id=\"text_18\">\n     <!-- Val -->\n     <g transform=\"translate(351.95625 228.678437)scale(0.1 -0.1)\">\n      <defs>\n       <path d=\"M 1831 0 \nL 50 4666 \nL 709 4666 \nL 2188 738 \nL 3669 4666 \nL 4325 4666 \nL 2547 0 \nL 1831 0 \nz\n\" id=\"DejaVuSans-56\" transform=\"scale(0.015625)\"/>\n      </defs>\n      <use xlink:href=\"#DejaVuSans-56\"/>\n      <use x=\"60.658203\" xlink:href=\"#DejaVuSans-61\"/>\n      <use x=\"121.9375\" xlink:href=\"#DejaVuSans-6c\"/>\n     </g>\n    </g>\n   </g>\n  </g>\n </g>\n <defs>\n  <clipPath id=\"p2f72189353\">\n   <rect height=\"217.44\" width=\"334.8\" x=\"50.14375\" y=\"22.318125\"/>\n  </clipPath>\n </defs>\n</svg>\n",
      "image/png": "[encoded data removed]"
     },
     "metadata": {
      "needs_background": "light"
     }
    }
   ],
   "source": [
    "# visualizeer de Accuracy van de train data en validate data, lijnen lopen redelijk overelkaar heen dus overfitting is niet een groot probleem\n",
    "plt.plot(fitted.history['accuracy'])\n",
    "plt.plot(fitted.history['val_accuracy'])\n",
    "plt.title('Model accuracy')\n",
    "plt.ylabel('Accuracy')\n",
    "plt.xlabel('Epoch')\n",
    "plt.legend(['Train', 'Val'], loc='lower right')\n",
    "plt.show()"
   ]
  },
  {
   "cell_type": "code",
   "execution_count": 30,
   "metadata": {},
   "outputs": [
    {
     "output_type": "stream",
     "name": "stdout",
     "text": [
      "Slecht Weer\n"
     ]
    }
   ],
   "source": [
    "# Benaming met wat het daadwerkelijk is\n",
    "# +--------+-------------------------------------------------------+-----------+\n",
    "# |Code    |Beschrijving                                           |Eenheid    |\n",
    "# +--------+-------------------------------------------------------+-----------+\n",
    "# |FG:     |gemiddelde windselheid\t\t\t\t\t\t\t\t   |0.1 m/s    |\n",
    "# |FXX:    |hoogste windstoot\t\t\t\t\t\t\t\t\t   |0.1 m/s    |\n",
    "# |TG:     |gemiddelde temperatuur\t\t\t\t\t\t\t\t   |0.1 C      |\n",
    "# |SP:     |percentage van langst mogelijke zonneschijnsduur\t   |%          |\n",
    "# |DR:     |duur neerslag\t\t\t\t\t\t\t\t\t\t   |0.1 h      |\n",
    "# |RH:     |etmaalsom neerslag\t\t\t\t\t\t\t\t\t   |0.1 mm     |\n",
    "# +--------+-------------------------------------------------------+-----------+\n",
    "\n",
    "# Prediction array (X_pred) ziet er zo uit: \n",
    "# ['FG', 'FXX', 'TG', 'SP', 'DR', 'RH']\n",
    "\n",
    "# Reden van slecht weer is weinig zon uren en veel regen (beide hebben een irritatie factor van 3);\n",
    "X_pred = [[30.0,50.0,150.0,10.0,60.0,550.0]]\n",
    "\n",
    "prediction = round(m.predict(X_pred)[0][0])\n",
    "\n",
    "if (prediction == 1):\n",
    "    print(\"Slecht Weer\")\n",
    "else:\n",
    "    print(\"Geen slecht weer\")"
   ]
  },
  {
   "cell_type": "code",
   "execution_count": 14,
   "metadata": {},
   "outputs": [
    {
     "output_type": "stream",
     "name": "stdout",
     "text": [
      "Slecht Weer\n"
     ]
    }
   ],
   "source": [
    "# Reden Slecht weer is harde wind, koud, lang geregend\n",
    "X_pred = [[130.0,270.0,-10.0,50.0,100.0,50.0]]\n",
    "\n",
    "prediction = round(m.predict(X_pred)[0][0])\n",
    "\n",
    "if (prediction == 1):\n",
    "    print(\"Slecht Weer\")\n",
    "else:\n",
    "    print(\"Geen slecht weer\")"
   ]
  },
  {
   "cell_type": "code",
   "execution_count": 15,
   "metadata": {},
   "outputs": [
    {
     "output_type": "stream",
     "name": "stdout",
     "text": [
      "Geen slecht weer\n"
     ]
    }
   ],
   "source": [
    "#reden geen slecht weer is weinig wind, 20 graden C, Langdurige zon, niet veel regen\n",
    "X_pred = [[20.0,70.0,200.0,80.0,40.0,50.0]]\n",
    "\n",
    "prediction = round(m.predict(X_pred)[0][0])\n",
    "\n",
    "if (prediction == 1):\n",
    "    print(\"Slecht Weer\")\n",
    "else:\n",
    "    print(\"Geen slecht weer\")"
   ]
  },
  {
   "cell_type": "code",
   "execution_count": 16,
   "metadata": {},
   "outputs": [
    {
     "output_type": "stream",
     "name": "stdout",
     "text": [
      "Geen slecht weer\n"
     ]
    }
   ],
   "source": [
    "#reden geen slecht weer is bijna geen wind, 25 graden C, 0 regen\n",
    "X_pred = [[20.0,30.0,250.0,100.0,0.0,0.0]]\n",
    "\n",
    "prediction = round(m.predict(X_pred)[0][0])\n",
    "\n",
    "if (prediction == 1):\n",
    "    print(\"Slecht Weer\")\n",
    "else:\n",
    "    print(\"Geen slecht weer\")"
   ]
  },
  {
   "cell_type": "code",
   "execution_count": 17,
   "metadata": {},
   "outputs": [
    {
     "output_type": "stream",
     "name": "stdout",
     "text": [
      "Slecht Weer\n"
     ]
    }
   ],
   "source": [
    "#reden slecht weer is harde wind, is wel warm met veel zon uren maar heel veel regen\n",
    "X_pred = [[200.0,220.0,200.0,70.0,150.0,450.0]]\n",
    "\n",
    "prediction = round(m.predict(X_pred)[0][0])\n",
    "\n",
    "if (prediction == 1):\n",
    "    print(\"Slecht Weer\")\n",
    "else:\n",
    "    print(\"Geen slecht weer\")"
   ]
  },
  {
   "cell_type": "code",
   "execution_count": null,
   "metadata": {},
   "outputs": [],
   "source": []
  }
 ]
}