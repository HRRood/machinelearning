{
 "metadata": {
  "language_info": {
   "codemirror_mode": {
    "name": "ipython",
    "version": 3
   },
   "file_extension": ".py",
   "mimetype": "text/x-python",
   "name": "python",
   "nbconvert_exporter": "python",
   "pygments_lexer": "ipython3",
   "version": "3.9.4"
  },
  "orig_nbformat": 2,
  "kernelspec": {
   "name": "python394jvsc74a57bd0aee8b7b246df8f9039afb4144a1f6fd8d2ca17a180786b69acc140d282b71a49",
   "display_name": "Python 3.9.4 64-bit"
  },
  "metadata": {
   "interpreter": {
    "hash": "6c21aa1c2e5936516fd415403a4afbdba9a634f5c964d52c661a7084a07606c1"
   }
  }
 },
 "nbformat": 4,
 "nbformat_minor": 2,
 "cells": [
  {
   "cell_type": "code",
   "execution_count": 1,
   "metadata": {},
   "outputs": [],
   "source": [
    "# Dataset naam: Daggegevens van het weer in Nederland - De Bilt\n",
    "# URL:          https://www.knmi.nl/nederland-nu/klimatologie/daggegevens\n",
    "# Doel:         Is het lelijk weer op basis van inputparameters?\n",
    "\n",
    "# YYYYMMDD  = Datum (YYYY=jaar MM=maand DD=dag) / Date (YYYY=year MM=month DD=day)\n",
    "# DDVEC     = Vectorgemiddelde windrichting in graden (360=noord, 90=oost, 180=zuid, 270=west, 0=windstil/variabel). Zie http://www.knmi.nl/kennis-en-datacentrum/achtergrond/klimatologische-brochures-en-boeken / Vector mean wind direction in degrees (360=north, 90=east, 180=south, 270=west, 0=calm/variable)\n",
    "# FHVEC     = Vectorgemiddelde windsnelheid (in 0.1 m/s). Zie http://www.knmi.nl/kennis-en-datacentrum/achtergrond/klimatologische-brochures-en-boeken / Vector mean windspeed (in 0.1 m/s)\n",
    "# FG        = Etmaalgemiddelde windsnelheid (in 0.1 m/s) / Daily mean windspeed (in 0.1 m/s) \n",
    "# FHX       = Hoogste uurgemiddelde windsnelheid (in 0.1 m/s) / Maximum hourly mean windspeed (in 0.1 m/s)\n",
    "# FHXH      = Uurvak waarin FHX is gemeten / Hourly division in which FHX was measured\n",
    "# FHN       = Laagste uurgemiddelde windsnelheid (in 0.1 m/s) / Minimum hourly mean windspeed (in 0.1 m/s)\n",
    "# FHNH      = Uurvak waarin FHN is gemeten / Hourly division in which FHN was measured\n",
    "# FXX       = Hoogste windstoot (in 0.1 m/s) / Maximum wind gust (in 0.1 m/s)\n",
    "# FXXH      = Uurvak waarin FXX is gemeten / Hourly division in which FXX was measured\n",
    "# TG        = Etmaalgemiddelde temperatuur (in 0.1 graden Celsius) / Daily mean temperature in (0.1 degrees Celsius)\n",
    "# TN        = Minimum temperatuur (in 0.1 graden Celsius) / Minimum temperature (in 0.1 degrees Celsius)\n",
    "# TNH       = Uurvak waarin TN is gemeten / Hourly division in which TN was measured\n",
    "# TX        = Maximum temperatuur (in 0.1 graden Celsius) / Maximum temperature (in 0.1 degrees Celsius)\n",
    "# TXH       = Uurvak waarin TX is gemeten / Hourly division in which TX was measured\n",
    "# T10N      = Minimum temperatuur op 10 cm hoogte (in 0.1 graden Celsius) / Minimum temperature at 10 cm above surface (in 0.1 degrees Celsius)\n",
    "# T10NH     = 6-uurs tijdvak waarin T10N is gemeten / 6-hourly division in which T10N was measured; 6=0-6 UT, 12=6-12 UT, 18=12-18 UT, 24=18-24 UT \n",
    "# SQ        = Zonneschijnduur (in 0.1 uur) berekend uit de globale straling (-1 voor <0.05 uur) / Sunshine duration (in 0.1 hour) calculated from global radiation (-1 for <0.05 hour)\n",
    "# SP        = Percentage van de langst mogelijke zonneschijnduur / Percentage of maximum potential sunshine duration\n",
    "# Q         = Globale straling (in J/cm2) / Global radiation (in J/cm2)\n",
    "# DR        = Duur van de neerslag (in 0.1 uur) / Precipitation duration (in 0.1 hour)\n",
    "# RH        = Etmaalsom van de neerslag (in 0.1 mm) (-1 voor <0.05 mm) / Daily precipitation amount (in 0.1 mm) (-1 for <0.05 mm)\n",
    "# RHX       = Hoogste uursom van de neerslag (in 0.1 mm) (-1 voor <0.05 mm) / Maximum hourly precipitation amount (in 0.1 mm) (-1 for <0.05 mm)\n",
    "# RHXH      = Uurvak waarin RHX is gemeten / Hourly division in which RHX was measured\n",
    "# PG        = Etmaalgemiddelde luchtdruk herleid tot zeeniveau (in 0.1 hPa) berekend uit 24 uurwaarden / Daily mean sea level pressure (in 0.1 hPa) calculated from 24 hourly values\n",
    "# PX        = Hoogste uurwaarde van de luchtdruk herleid tot zeeniveau (in 0.1 hPa) / Maximum hourly sea level pressure (in 0.1 hPa)\n",
    "# PXH       = Uurvak waarin PX is gemeten / Hourly division in which PX was measured\n",
    "# PN        = Laagste uurwaarde van de luchtdruk herleid tot zeeniveau (in 0.1 hPa) / Minimum hourly sea level pressure (in 0.1 hPa)\n",
    "# PNH       = Uurvak waarin PN is gemeten / Hourly division in which PN was measured\n",
    "# VVN       = Minimum opgetreden zicht / Minimum visibility; 0: <100 m, 1:100-200 m, 2:200-300 m,..., 49:4900-5000 m, 50:5-6 km, 56:6-7 km, 57:7-8 km,..., 79:29-30 km, 80:30-35 km, 81:35-40 km,..., 89: >70 km)\n",
    "# VVNH      = Uurvak waarin VVN is gemeten / Hourly division in which VVN was measured\n",
    "# VVX       = Maximum opgetreden zicht / Maximum visibility; 0: <100 m, 1:100-200 m, 2:200-300 m,..., 49:4900-5000 m, 50:5-6 km, 56:6-7 km, 57:7-8 km,..., 79:29-30 km, 80:30-35 km, 81:35-40 km,..., 89: >70 km)\n",
    "# VVXH      = Uurvak waarin VVX is gemeten / Hourly division in which VVX was measured\n",
    "# NG        = Etmaalgemiddelde bewolking (bedekkingsgraad van de bovenlucht in achtsten, 9=bovenlucht onzichtbaar) / Mean daily cloud cover (in octants, 9=sky invisible)\n",
    "# UG        = Etmaalgemiddelde relatieve vochtigheid (in procenten) / Daily mean relative atmospheric humidity (in percents)\n",
    "# UX        = Maximale relatieve vochtigheid (in procenten) / Maximum relative atmospheric humidity (in percents)\n",
    "# UXH       = Uurvak waarin UX is gemeten / Hourly division in which UX was measured\n",
    "# UN        = Minimale relatieve vochtigheid (in procenten) / Minimum relative atmospheric humidity (in percents)\n",
    "# UNH       = Uurvak waarin UN is gemeten / Hourly division in which UN was measured\n",
    "# EV24      = Referentiegewasverdamping (Makkink) (in 0.1 mm) / Potential evapotranspiration (Makkink) (in 0.1 mm)"
   ]
  },
  {
   "cell_type": "code",
   "execution_count": null,
   "metadata": {},
   "outputs": [],
   "source": [
    "pip install pandas"
   ]
  },
  {
   "cell_type": "code",
   "execution_count": null,
   "metadata": {},
   "outputs": [],
   "source": [
    "pip install sklearn"
   ]
  },
  {
   "cell_type": "code",
   "execution_count": null,
   "metadata": {},
   "outputs": [],
   "source": [
    "pip install keras"
   ]
  },
  {
   "cell_type": "code",
   "execution_count": null,
   "metadata": {},
   "outputs": [],
   "source": [
    "pip install tensorflow"
   ]
  },
  {
   "cell_type": "code",
   "execution_count": null,
   "metadata": {},
   "outputs": [],
   "source": [
    "pip install matplotlib"
   ]
  },
  {
   "cell_type": "code",
   "execution_count": 1,
   "metadata": {},
   "outputs": [
    {
     "output_type": "stream",
     "name": "stdout",
     "text": [
      "Done\n"
     ]
    }
   ],
   "source": [
    "import pandas                   as pd\n",
    "import numpy                    as np\n",
    "from sklearn                    import preprocessing\n",
    "from sklearn.model_selection    import train_test_split\n",
    "from keras.models               import Sequential\n",
    "from keras.layers               import Dense\n",
    "import matplotlib.pyplot        as plt\n",
    "\n",
    "df = pd.read_csv(\"data/lelijk_weer_MvL_no_spaces.csv\")\n",
    "pd.set_option('display.max_rows', df.shape[0]+1)\n",
    "# replace NaN values with column average\n",
    "df = df.fillna(df.mean())\n",
    "print(\"Done\")"
   ]
  },
  {
   "cell_type": "code",
   "execution_count": 2,
   "metadata": {},
   "outputs": [
    {
     "output_type": "stream",
     "name": "stdout",
     "text": [
      "Done\n"
     ]
    }
   ],
   "source": [
    "# Voeg slecht-weer-indicator toe aan de bestaande data.\n",
    "# Bepalend zijn:\n",
    "\n",
    "# +--------+-------------------------------------------------------+-----------+\n",
    "# |Code    |Beschrijving                                           |Eenheid    |\n",
    "# +--------+-------------------------------------------------------+-----------+\n",
    "# |FG:     |gemiddelde windselheid\t\t\t\t\t\t\t\t   |0.1 m/s    |\n",
    "# |FXX:    |hoogste windstoot\t\t\t\t\t\t\t\t\t   |0.1 m/s    |\n",
    "# |TG:     |gemiddelde temperatuur\t\t\t\t\t\t\t\t   |0.1 C      |\n",
    "# |SP:     |percentage van langst mogelijke zonneschijnsduur\t   |%          |\n",
    "# |DR:     |duur neerslag\t\t\t\t\t\t\t\t\t\t   |0.1 h      |\n",
    "# |RH:     |etmaalsom neerslag\t\t\t\t\t\t\t\t\t   |0.1 mm     |\n",
    "# +--------+-------------------------------------------------------+-----------+\n",
    "\n",
    "# Wanneer deze variabelen boven een bepaalde waarde komen, scoren ze een punt.\n",
    "# Bij een score van 50% van de maximale score, krijgt het weer de classificatie \"slect weer\".\n",
    "# 0 = geen slecht weer\n",
    "# 1 = slecht weer\n",
    "\n",
    "def setClassification (row):\n",
    "    weatherScore = 0 # score is een weging op basis van irritatie factor (1 minst irritant 3 meest irritant)\n",
    "    if row['FG'] >= 80: # Windkracht 5 of meer\n",
    "        weatherScore += 2\n",
    "    if row['FXX'] >= 172: # Windkracht 8 of meer\n",
    "        weatherScore += 1\n",
    "    if row['TG'] <= 100: # 10 graden C of kouder\n",
    "        weatherScore += 1\n",
    "    if row['SP'] <= 20: # zon scheen niet meer dan 20% van mogeijke maximale zonneschijnduur\n",
    "        weatherScore += 3\n",
    "    if row['DR'] >= 40: # regenduur 4 uur of langer\n",
    "        weatherScore += 2\n",
    "    if row['RH'] >= 400: # regensom 40 mm of meer\n",
    "        weatherScore += 3\n",
    "\n",
    "    scoreMax = 12 # score van de totaal aantal punten die gegeven kan worden (zie boven)\n",
    "    weatherClassifier = 0\n",
    "    if weatherScore >= (0.5 * scoreMax): #wanneer score de helft is van maxScore is het slecht weer\n",
    "        weatherClassifier = 1\n",
    "    return weatherClassifier\n",
    "\n",
    "df['Classification'] = df.apply (lambda row: setClassification(row), axis=1)\n",
    "print(\"Done\")"
   ]
  },
  {
   "cell_type": "code",
   "execution_count": 3,
   "metadata": {},
   "outputs": [
    {
     "output_type": "execute_result",
     "data": {
      "text/plain": [
       "0    40336\n",
       "1     3650\n",
       "Name: Classification, dtype: int64"
      ]
     },
     "metadata": {},
     "execution_count": 3
    }
   ],
   "source": [
    "# pak alleen de kolomen waar wij naar kijken\n",
    "newdf = df[['FG', 'FXX', 'TG', 'SP', 'DR', 'RH', 'Classification']]\n",
    "dataset = newdf.values\n",
    "newdf['Classification'].value_counts()"
   ]
  },
  {
   "cell_type": "code",
   "execution_count": 4,
   "metadata": {},
   "outputs": [
    {
     "output_type": "stream",
     "name": "stdout",
     "text": [
      "Done\n"
     ]
    }
   ],
   "source": [
    "#zet de eerste 6 kolomen in de X as (alles behalve Classification die komt in Y as)\n",
    "X = dataset[:,0:6]\n",
    "y = dataset[:,6]\n",
    "print(\"Done\")"
   ]
  },
  {
   "cell_type": "code",
   "execution_count": 5,
   "metadata": {},
   "outputs": [
    {
     "output_type": "stream",
     "name": "stdout",
     "text": [
      "Done\n"
     ]
    }
   ],
   "source": [
    "# create training set\n",
    "X_train, X_val_and_test, Y_train, Y_val_and_test = train_test_split(X, y, test_size=0.3)\n",
    "print(\"Done\")"
   ]
  },
  {
   "cell_type": "code",
   "execution_count": 6,
   "metadata": {},
   "outputs": [
    {
     "output_type": "stream",
     "name": "stdout",
     "text": [
      "Done\n"
     ]
    }
   ],
   "source": [
    "#create the validation and test set\n",
    "X_val, X_test, Y_val, Y_test = train_test_split(X_val_and_test, Y_val_and_test, test_size=0.5)\n",
    "print(\"Done\")"
   ]
  },
  {
   "cell_type": "code",
   "execution_count": 7,
   "metadata": {},
   "outputs": [
    {
     "output_type": "stream",
     "name": "stdout",
     "text": [
      "Done\n"
     ]
    }
   ],
   "source": [
    "# Maakt euraal netwerk\n",
    "m = Sequential()\n",
    "m.add(Dense(16, activation='relu', input_dim=6))\n",
    "m.add(Dense(16, activation='relu'))\n",
    "m.add(Dense(16, activation='relu'))\n",
    "m.add(Dense(16, activation='relu'))\n",
    "m.add(Dense(1, activation='sigmoid'))\n",
    "print(\"Done\")"
   ]
  },
  {
   "cell_type": "code",
   "execution_count": 8,
   "metadata": {},
   "outputs": [
    {
     "output_type": "stream",
     "name": "stdout",
     "text": [
      "Done\n"
     ]
    }
   ],
   "source": [
    "m.compile(optimizer='adam', loss='binary_crossentropy', metrics= ['accuracy'])\n",
    "print(\"Done\")"
   ]
  },
  {
   "cell_type": "code",
   "execution_count": 9,
   "metadata": {
    "tags": [
     "outputPrepend"
    ]
   },
   "outputs": [
    {
     "output_type": "stream",
     "name": "stdout",
     "text": [
      "l_loss: 0.0354 - val_accuracy: 0.9862\n",
      "Epoch 65/200\n",
      "963/963 [==============================] - 1s 798us/step - loss: 0.0217 - accuracy: 0.9911 - val_loss: 0.0328 - val_accuracy: 0.9877\n",
      "Epoch 66/200\n",
      "963/963 [==============================] - 1s 800us/step - loss: 0.0250 - accuracy: 0.9902 - val_loss: 0.0305 - val_accuracy: 0.9871\n",
      "Epoch 67/200\n",
      "963/963 [==============================] - 1s 819us/step - loss: 0.0220 - accuracy: 0.9903 - val_loss: 0.0291 - val_accuracy: 0.9900\n",
      "Epoch 68/200\n",
      "963/963 [==============================] - 1s 801us/step - loss: 0.0212 - accuracy: 0.9918 - val_loss: 0.0398 - val_accuracy: 0.9879\n",
      "Epoch 69/200\n",
      "963/963 [==============================] - 1s 805us/step - loss: 0.0291 - accuracy: 0.9876 - val_loss: 0.0320 - val_accuracy: 0.9873\n",
      "Epoch 70/200\n",
      "963/963 [==============================] - 1s 810us/step - loss: 0.0243 - accuracy: 0.9898 - val_loss: 0.0282 - val_accuracy: 0.9891\n",
      "Epoch 71/200\n",
      "963/963 [==============================] - 1s 827us/step - loss: 0.0215 - accuracy: 0.9914 - val_loss: 0.0278 - val_accuracy: 0.9894\n",
      "Epoch 72/200\n",
      "963/963 [==============================] - 1s 828us/step - loss: 0.0192 - accuracy: 0.9924 - val_loss: 0.0349 - val_accuracy: 0.9885\n",
      "Epoch 73/200\n",
      "963/963 [==============================] - 1s 800us/step - loss: 0.0199 - accuracy: 0.9924 - val_loss: 0.0326 - val_accuracy: 0.9892\n",
      "Epoch 74/200\n",
      "963/963 [==============================] - 1s 815us/step - loss: 0.0220 - accuracy: 0.9908 - val_loss: 0.0331 - val_accuracy: 0.9864\n",
      "Epoch 75/200\n",
      "963/963 [==============================] - 1s 848us/step - loss: 0.0209 - accuracy: 0.9913 - val_loss: 0.0392 - val_accuracy: 0.9833\n",
      "Epoch 76/200\n",
      "963/963 [==============================] - 1s 809us/step - loss: 0.0209 - accuracy: 0.9914 - val_loss: 0.0274 - val_accuracy: 0.9895\n",
      "Epoch 77/200\n",
      "963/963 [==============================] - 1s 805us/step - loss: 0.0210 - accuracy: 0.9919 - val_loss: 0.0298 - val_accuracy: 0.9900\n",
      "Epoch 78/200\n",
      "963/963 [==============================] - 1s 808us/step - loss: 0.0213 - accuracy: 0.9912 - val_loss: 0.0367 - val_accuracy: 0.9870\n",
      "Epoch 79/200\n",
      "963/963 [==============================] - 1s 811us/step - loss: 0.0192 - accuracy: 0.9922 - val_loss: 0.0338 - val_accuracy: 0.9868\n",
      "Epoch 80/200\n",
      "963/963 [==============================] - 1s 800us/step - loss: 0.0270 - accuracy: 0.9897 - val_loss: 0.0341 - val_accuracy: 0.9868\n",
      "Epoch 81/200\n",
      "963/963 [==============================] - 1s 811us/step - loss: 0.0213 - accuracy: 0.9915 - val_loss: 0.0301 - val_accuracy: 0.9895\n",
      "Epoch 82/200\n",
      "963/963 [==============================] - 1s 822us/step - loss: 0.0204 - accuracy: 0.9919 - val_loss: 0.0281 - val_accuracy: 0.9889\n",
      "Epoch 83/200\n",
      "963/963 [==============================] - 1s 828us/step - loss: 0.0216 - accuracy: 0.9903 - val_loss: 0.0326 - val_accuracy: 0.9886\n",
      "Epoch 84/200\n",
      "963/963 [==============================] - 1s 813us/step - loss: 0.0221 - accuracy: 0.9912 - val_loss: 0.0390 - val_accuracy: 0.9865\n",
      "Epoch 85/200\n",
      "963/963 [==============================] - 1s 814us/step - loss: 0.0183 - accuracy: 0.9923 - val_loss: 0.0299 - val_accuracy: 0.9897\n",
      "Epoch 86/200\n",
      "963/963 [==============================] - 1s 814us/step - loss: 0.0195 - accuracy: 0.9926 - val_loss: 0.0257 - val_accuracy: 0.9923\n",
      "Epoch 87/200\n",
      "963/963 [==============================] - 1s 795us/step - loss: 0.0185 - accuracy: 0.9923 - val_loss: 0.0292 - val_accuracy: 0.9897\n",
      "Epoch 88/200\n",
      "963/963 [==============================] - 1s 812us/step - loss: 0.0213 - accuracy: 0.9911 - val_loss: 0.0416 - val_accuracy: 0.9851\n",
      "Epoch 89/200\n",
      "963/963 [==============================] - 1s 844us/step - loss: 0.0277 - accuracy: 0.9897 - val_loss: 0.0300 - val_accuracy: 0.9901\n",
      "Epoch 90/200\n",
      "963/963 [==============================] - 1s 803us/step - loss: 0.0194 - accuracy: 0.9916 - val_loss: 0.0302 - val_accuracy: 0.9891\n",
      "Epoch 91/200\n",
      "963/963 [==============================] - 1s 810us/step - loss: 0.0190 - accuracy: 0.9922 - val_loss: 0.0341 - val_accuracy: 0.9892\n",
      "Epoch 92/200\n",
      "963/963 [==============================] - 1s 804us/step - loss: 0.0193 - accuracy: 0.9917 - val_loss: 0.0378 - val_accuracy: 0.9888\n",
      "Epoch 93/200\n",
      "963/963 [==============================] - 1s 844us/step - loss: 0.0216 - accuracy: 0.9909 - val_loss: 0.0332 - val_accuracy: 0.9888\n",
      "Epoch 94/200\n",
      "963/963 [==============================] - 1s 831us/step - loss: 0.0217 - accuracy: 0.9913 - val_loss: 0.0337 - val_accuracy: 0.9870\n",
      "Epoch 95/200\n",
      "963/963 [==============================] - 1s 855us/step - loss: 0.0195 - accuracy: 0.9916 - val_loss: 0.0313 - val_accuracy: 0.9895\n",
      "Epoch 96/200\n",
      "963/963 [==============================] - 1s 805us/step - loss: 0.0208 - accuracy: 0.9916 - val_loss: 0.0283 - val_accuracy: 0.9885\n",
      "Epoch 97/200\n",
      "963/963 [==============================] - 1s 806us/step - loss: 0.0213 - accuracy: 0.9918 - val_loss: 0.0320 - val_accuracy: 0.9894\n",
      "Epoch 98/200\n",
      "963/963 [==============================] - 1s 808us/step - loss: 0.0164 - accuracy: 0.9933 - val_loss: 0.0363 - val_accuracy: 0.9873\n",
      "Epoch 99/200\n",
      "963/963 [==============================] - 1s 825us/step - loss: 0.0184 - accuracy: 0.9934 - val_loss: 0.0362 - val_accuracy: 0.9876\n",
      "Epoch 100/200\n",
      "963/963 [==============================] - 1s 804us/step - loss: 0.0222 - accuracy: 0.9899 - val_loss: 0.0303 - val_accuracy: 0.9897\n",
      "Epoch 101/200\n",
      "963/963 [==============================] - 1s 802us/step - loss: 0.0174 - accuracy: 0.9928 - val_loss: 0.0304 - val_accuracy: 0.9880\n",
      "Epoch 102/200\n",
      "963/963 [==============================] - 1s 845us/step - loss: 0.0195 - accuracy: 0.9922 - val_loss: 0.0347 - val_accuracy: 0.9871\n",
      "Epoch 103/200\n",
      "963/963 [==============================] - 1s 817us/step - loss: 0.0185 - accuracy: 0.9921 - val_loss: 0.0377 - val_accuracy: 0.9882\n",
      "Epoch 104/200\n",
      "963/963 [==============================] - 1s 871us/step - loss: 0.0200 - accuracy: 0.9922 - val_loss: 0.0382 - val_accuracy: 0.9873\n",
      "Epoch 105/200\n",
      "963/963 [==============================] - 1s 898us/step - loss: 0.0233 - accuracy: 0.9906 - val_loss: 0.0277 - val_accuracy: 0.9906\n",
      "Epoch 106/200\n",
      "963/963 [==============================] - 1s 899us/step - loss: 0.0162 - accuracy: 0.9933 - val_loss: 0.0277 - val_accuracy: 0.9918\n",
      "Epoch 107/200\n",
      "963/963 [==============================] - 1s 912us/step - loss: 0.0179 - accuracy: 0.9930 - val_loss: 0.0296 - val_accuracy: 0.9918\n",
      "Epoch 108/200\n",
      "963/963 [==============================] - 1s 928us/step - loss: 0.0178 - accuracy: 0.9927 - val_loss: 0.0273 - val_accuracy: 0.9906\n",
      "Epoch 109/200\n",
      "963/963 [==============================] - 1s 868us/step - loss: 0.0201 - accuracy: 0.9918 - val_loss: 0.0325 - val_accuracy: 0.9895\n",
      "Epoch 110/200\n",
      "963/963 [==============================] - 1s 824us/step - loss: 0.0187 - accuracy: 0.9927 - val_loss: 0.0363 - val_accuracy: 0.9885\n",
      "Epoch 111/200\n",
      "963/963 [==============================] - 1s 809us/step - loss: 0.0185 - accuracy: 0.9931 - val_loss: 0.0398 - val_accuracy: 0.9842\n",
      "Epoch 112/200\n",
      "963/963 [==============================] - 1s 815us/step - loss: 0.0191 - accuracy: 0.9914 - val_loss: 0.0296 - val_accuracy: 0.9901\n",
      "Epoch 113/200\n",
      "963/963 [==============================] - 1s 817us/step - loss: 0.0201 - accuracy: 0.9915 - val_loss: 0.0313 - val_accuracy: 0.9894\n",
      "Epoch 114/200\n",
      "963/963 [==============================] - 1s 835us/step - loss: 0.0199 - accuracy: 0.9915 - val_loss: 0.0386 - val_accuracy: 0.9844\n",
      "Epoch 115/200\n",
      "963/963 [==============================] - 1s 809us/step - loss: 0.0242 - accuracy: 0.9894 - val_loss: 0.0318 - val_accuracy: 0.9897\n",
      "Epoch 116/200\n",
      "963/963 [==============================] - 1s 805us/step - loss: 0.0172 - accuracy: 0.9935 - val_loss: 0.0274 - val_accuracy: 0.9905\n",
      "Epoch 117/200\n",
      "963/963 [==============================] - 1s 802us/step - loss: 0.0182 - accuracy: 0.9928 - val_loss: 0.0370 - val_accuracy: 0.9885\n",
      "Epoch 118/200\n",
      "963/963 [==============================] - 1s 833us/step - loss: 0.0179 - accuracy: 0.9927 - val_loss: 0.0310 - val_accuracy: 0.9897\n",
      "Epoch 119/200\n",
      "963/963 [==============================] - 1s 815us/step - loss: 0.0180 - accuracy: 0.9928 - val_loss: 0.0338 - val_accuracy: 0.9886\n",
      "Epoch 120/200\n",
      "963/963 [==============================] - 1s 842us/step - loss: 0.0176 - accuracy: 0.9926 - val_loss: 0.0366 - val_accuracy: 0.9892\n",
      "Epoch 121/200\n",
      "963/963 [==============================] - 1s 807us/step - loss: 0.0215 - accuracy: 0.9904 - val_loss: 0.0305 - val_accuracy: 0.9901\n",
      "Epoch 122/200\n",
      "963/963 [==============================] - 1s 804us/step - loss: 0.0156 - accuracy: 0.9935 - val_loss: 0.0305 - val_accuracy: 0.9914\n",
      "Epoch 123/200\n",
      "963/963 [==============================] - 1s 818us/step - loss: 0.0176 - accuracy: 0.9925 - val_loss: 0.0235 - val_accuracy: 0.9918\n",
      "Epoch 124/200\n",
      "963/963 [==============================] - 1s 813us/step - loss: 0.0181 - accuracy: 0.9925 - val_loss: 0.0309 - val_accuracy: 0.9889\n",
      "Epoch 125/200\n",
      "963/963 [==============================] - 1s 830us/step - loss: 0.0169 - accuracy: 0.9928 - val_loss: 0.0270 - val_accuracy: 0.9903\n",
      "Epoch 126/200\n",
      "963/963 [==============================] - 1s 823us/step - loss: 0.0148 - accuracy: 0.9942 - val_loss: 0.0329 - val_accuracy: 0.9891\n",
      "Epoch 127/200\n",
      "963/963 [==============================] - 1s 810us/step - loss: 0.0189 - accuracy: 0.9929 - val_loss: 0.0474 - val_accuracy: 0.9838\n",
      "Epoch 128/200\n",
      "963/963 [==============================] - 1s 845us/step - loss: 0.0223 - accuracy: 0.9911 - val_loss: 0.0325 - val_accuracy: 0.9883\n",
      "Epoch 129/200\n",
      "963/963 [==============================] - 1s 834us/step - loss: 0.0160 - accuracy: 0.9937 - val_loss: 0.0354 - val_accuracy: 0.9885\n",
      "Epoch 130/200\n",
      "963/963 [==============================] - 1s 817us/step - loss: 0.0176 - accuracy: 0.9928 - val_loss: 0.0299 - val_accuracy: 0.9914\n",
      "Epoch 131/200\n",
      "963/963 [==============================] - 1s 825us/step - loss: 0.0195 - accuracy: 0.9926 - val_loss: 0.0285 - val_accuracy: 0.9918\n",
      "Epoch 132/200\n",
      "963/963 [==============================] - 1s 823us/step - loss: 0.0195 - accuracy: 0.9918 - val_loss: 0.0319 - val_accuracy: 0.9895\n",
      "Epoch 133/200\n",
      "963/963 [==============================] - 1s 808us/step - loss: 0.0255 - accuracy: 0.9910 - val_loss: 0.0279 - val_accuracy: 0.9891\n",
      "Epoch 134/200\n",
      "963/963 [==============================] - 1s 813us/step - loss: 0.0204 - accuracy: 0.9921 - val_loss: 0.0286 - val_accuracy: 0.9924\n",
      "Epoch 135/200\n",
      "963/963 [==============================] - 1s 847us/step - loss: 0.0166 - accuracy: 0.9926 - val_loss: 0.0343 - val_accuracy: 0.9885\n",
      "Epoch 136/200\n",
      "963/963 [==============================] - 1s 814us/step - loss: 0.0170 - accuracy: 0.9931 - val_loss: 0.0356 - val_accuracy: 0.9867\n",
      "Epoch 137/200\n",
      "963/963 [==============================] - 1s 826us/step - loss: 0.0176 - accuracy: 0.9930 - val_loss: 0.0325 - val_accuracy: 0.9882\n",
      "Epoch 138/200\n",
      "963/963 [==============================] - 1s 827us/step - loss: 0.0162 - accuracy: 0.9930 - val_loss: 0.0381 - val_accuracy: 0.9865\n",
      "Epoch 139/200\n",
      "963/963 [==============================] - 1s 816us/step - loss: 0.0170 - accuracy: 0.9929 - val_loss: 0.0398 - val_accuracy: 0.9885\n",
      "Epoch 140/200\n",
      "963/963 [==============================] - 1s 844us/step - loss: 0.0174 - accuracy: 0.9923 - val_loss: 0.0267 - val_accuracy: 0.9912\n",
      "Epoch 141/200\n",
      "963/963 [==============================] - 1s 811us/step - loss: 0.0178 - accuracy: 0.9925 - val_loss: 0.0285 - val_accuracy: 0.9898\n",
      "Epoch 142/200\n",
      "963/963 [==============================] - 1s 807us/step - loss: 0.0179 - accuracy: 0.9930 - val_loss: 0.0356 - val_accuracy: 0.9867\n",
      "Epoch 143/200\n",
      "963/963 [==============================] - 1s 808us/step - loss: 0.0231 - accuracy: 0.9910 - val_loss: 0.0292 - val_accuracy: 0.9891\n",
      "Epoch 144/200\n",
      "963/963 [==============================] - 1s 812us/step - loss: 0.0181 - accuracy: 0.9921 - val_loss: 0.0340 - val_accuracy: 0.9879\n",
      "Epoch 145/200\n",
      "963/963 [==============================] - 1s 840us/step - loss: 0.0204 - accuracy: 0.9918 - val_loss: 0.0357 - val_accuracy: 0.9865\n",
      "Epoch 146/200\n",
      "963/963 [==============================] - 1s 808us/step - loss: 0.0207 - accuracy: 0.9912 - val_loss: 0.0330 - val_accuracy: 0.9886\n",
      "Epoch 147/200\n",
      "963/963 [==============================] - 1s 815us/step - loss: 0.0154 - accuracy: 0.9937 - val_loss: 0.0294 - val_accuracy: 0.9897\n",
      "Epoch 148/200\n",
      "963/963 [==============================] - 1s 818us/step - loss: 0.0148 - accuracy: 0.9941 - val_loss: 0.0369 - val_accuracy: 0.9877\n",
      "Epoch 149/200\n",
      "963/963 [==============================] - 1s 842us/step - loss: 0.0186 - accuracy: 0.9933 - val_loss: 0.0261 - val_accuracy: 0.9915\n",
      "Epoch 150/200\n",
      "963/963 [==============================] - 1s 822us/step - loss: 0.0139 - accuracy: 0.9942 - val_loss: 0.0300 - val_accuracy: 0.9908\n",
      "Epoch 151/200\n",
      "963/963 [==============================] - 1s 824us/step - loss: 0.0170 - accuracy: 0.9930 - val_loss: 0.0447 - val_accuracy: 0.9870\n",
      "Epoch 152/200\n",
      "963/963 [==============================] - 1s 814us/step - loss: 0.0187 - accuracy: 0.9915 - val_loss: 0.0271 - val_accuracy: 0.9905\n",
      "Epoch 153/200\n",
      "963/963 [==============================] - 1s 822us/step - loss: 0.0165 - accuracy: 0.9931 - val_loss: 0.0301 - val_accuracy: 0.9905\n",
      "Epoch 154/200\n",
      "963/963 [==============================] - 1s 824us/step - loss: 0.0145 - accuracy: 0.9941 - val_loss: 0.0279 - val_accuracy: 0.9912\n",
      "Epoch 155/200\n",
      "963/963 [==============================] - 1s 835us/step - loss: 0.0169 - accuracy: 0.9934 - val_loss: 0.0330 - val_accuracy: 0.9914\n",
      "Epoch 156/200\n",
      "963/963 [==============================] - 1s 808us/step - loss: 0.0228 - accuracy: 0.9921 - val_loss: 0.0416 - val_accuracy: 0.9870\n",
      "Epoch 157/200\n",
      "963/963 [==============================] - 1s 815us/step - loss: 0.0184 - accuracy: 0.9927 - val_loss: 0.0404 - val_accuracy: 0.9888\n",
      "Epoch 158/200\n",
      "963/963 [==============================] - 1s 816us/step - loss: 0.0159 - accuracy: 0.9932 - val_loss: 0.0255 - val_accuracy: 0.9929\n",
      "Epoch 159/200\n",
      "963/963 [==============================] - 1s 826us/step - loss: 0.0138 - accuracy: 0.9945 - val_loss: 0.0362 - val_accuracy: 0.9895\n",
      "Epoch 160/200\n",
      "963/963 [==============================] - 1s 808us/step - loss: 0.0163 - accuracy: 0.9928 - val_loss: 0.0334 - val_accuracy: 0.9903\n",
      "Epoch 161/200\n",
      "963/963 [==============================] - 1s 807us/step - loss: 0.0145 - accuracy: 0.9944 - val_loss: 0.0321 - val_accuracy: 0.9908\n",
      "Epoch 162/200\n",
      "963/963 [==============================] - 1s 809us/step - loss: 0.0193 - accuracy: 0.9922 - val_loss: 0.0403 - val_accuracy: 0.9874\n",
      "Epoch 163/200\n",
      "963/963 [==============================] - 1s 809us/step - loss: 0.0172 - accuracy: 0.9928 - val_loss: 0.0383 - val_accuracy: 0.9877\n",
      "Epoch 164/200\n",
      "963/963 [==============================] - 1s 870us/step - loss: 0.0141 - accuracy: 0.9944 - val_loss: 0.0362 - val_accuracy: 0.9883\n",
      "Epoch 165/200\n",
      "963/963 [==============================] - 1s 836us/step - loss: 0.0158 - accuracy: 0.9936 - val_loss: 0.0328 - val_accuracy: 0.9894\n",
      "Epoch 166/200\n",
      "963/963 [==============================] - 1s 870us/step - loss: 0.0161 - accuracy: 0.9933 - val_loss: 0.0298 - val_accuracy: 0.9924\n",
      "Epoch 167/200\n",
      "963/963 [==============================] - 1s 812us/step - loss: 0.0150 - accuracy: 0.9940 - val_loss: 0.0306 - val_accuracy: 0.9901\n",
      "Epoch 168/200\n",
      "963/963 [==============================] - 1s 852us/step - loss: 0.0175 - accuracy: 0.9928 - val_loss: 0.0319 - val_accuracy: 0.9903\n",
      "Epoch 169/200\n",
      "963/963 [==============================] - 1s 824us/step - loss: 0.0159 - accuracy: 0.9937 - val_loss: 0.0290 - val_accuracy: 0.9882\n",
      "Epoch 170/200\n",
      "963/963 [==============================] - 1s 808us/step - loss: 0.0154 - accuracy: 0.9935 - val_loss: 0.0308 - val_accuracy: 0.9924\n",
      "Epoch 171/200\n",
      "963/963 [==============================] - 1s 807us/step - loss: 0.0140 - accuracy: 0.9947 - val_loss: 0.0303 - val_accuracy: 0.9918\n",
      "Epoch 172/200\n",
      "963/963 [==============================] - 1s 907us/step - loss: 0.0161 - accuracy: 0.9931 - val_loss: 0.0320 - val_accuracy: 0.9900\n",
      "Epoch 173/200\n",
      "963/963 [==============================] - 1s 937us/step - loss: 0.0131 - accuracy: 0.9945 - val_loss: 0.0452 - val_accuracy: 0.9876\n",
      "Epoch 174/200\n",
      "963/963 [==============================] - 1s 853us/step - loss: 0.0173 - accuracy: 0.9925 - val_loss: 0.0289 - val_accuracy: 0.9920\n",
      "Epoch 175/200\n",
      "963/963 [==============================] - 1s 844us/step - loss: 0.0122 - accuracy: 0.9946 - val_loss: 0.0313 - val_accuracy: 0.9914\n",
      "Epoch 176/200\n",
      "963/963 [==============================] - 1s 810us/step - loss: 0.0166 - accuracy: 0.9933 - val_loss: 0.0367 - val_accuracy: 0.9891\n",
      "Epoch 177/200\n",
      "963/963 [==============================] - 1s 809us/step - loss: 0.0145 - accuracy: 0.9938 - val_loss: 0.0314 - val_accuracy: 0.9930\n",
      "Epoch 178/200\n",
      "963/963 [==============================] - 1s 817us/step - loss: 0.0143 - accuracy: 0.9942 - val_loss: 0.0336 - val_accuracy: 0.9923\n",
      "Epoch 179/200\n",
      "963/963 [==============================] - 1s 823us/step - loss: 0.0135 - accuracy: 0.9947 - val_loss: 0.0446 - val_accuracy: 0.9864\n",
      "Epoch 180/200\n",
      "963/963 [==============================] - 1s 813us/step - loss: 0.0185 - accuracy: 0.9926 - val_loss: 0.0396 - val_accuracy: 0.9885\n",
      "Epoch 181/200\n",
      "963/963 [==============================] - 1s 821us/step - loss: 0.0144 - accuracy: 0.9947 - val_loss: 0.0357 - val_accuracy: 0.9892\n",
      "Epoch 182/200\n",
      "963/963 [==============================] - 1s 816us/step - loss: 0.0150 - accuracy: 0.9939 - val_loss: 0.0381 - val_accuracy: 0.9889\n",
      "Epoch 183/200\n",
      "963/963 [==============================] - 1s 815us/step - loss: 0.0161 - accuracy: 0.9931 - val_loss: 0.0311 - val_accuracy: 0.9921\n",
      "Epoch 184/200\n",
      "963/963 [==============================] - 1s 840us/step - loss: 0.0166 - accuracy: 0.9931 - val_loss: 0.0339 - val_accuracy: 0.9927\n",
      "Epoch 185/200\n",
      "963/963 [==============================] - 1s 826us/step - loss: 0.0148 - accuracy: 0.9943 - val_loss: 0.0275 - val_accuracy: 0.9921\n",
      "Epoch 186/200\n",
      "963/963 [==============================] - 1s 817us/step - loss: 0.0140 - accuracy: 0.9944 - val_loss: 0.0362 - val_accuracy: 0.9895\n",
      "Epoch 187/200\n",
      "963/963 [==============================] - 1s 814us/step - loss: 0.0129 - accuracy: 0.9951 - val_loss: 0.0368 - val_accuracy: 0.9883\n",
      "Epoch 188/200\n",
      "963/963 [==============================] - 1s 821us/step - loss: 0.0160 - accuracy: 0.9931 - val_loss: 0.0317 - val_accuracy: 0.9915\n",
      "Epoch 189/200\n",
      "963/963 [==============================] - 1s 837us/step - loss: 0.0151 - accuracy: 0.9942 - val_loss: 0.0323 - val_accuracy: 0.9901\n",
      "Epoch 190/200\n",
      "963/963 [==============================] - 1s 801us/step - loss: 0.0149 - accuracy: 0.9941 - val_loss: 0.0407 - val_accuracy: 0.9868\n",
      "Epoch 191/200\n",
      "963/963 [==============================] - 1s 803us/step - loss: 0.0154 - accuracy: 0.9943 - val_loss: 0.0341 - val_accuracy: 0.9897\n",
      "Epoch 192/200\n",
      "963/963 [==============================] - 1s 807us/step - loss: 0.0148 - accuracy: 0.9938 - val_loss: 0.0340 - val_accuracy: 0.9908\n",
      "Epoch 193/200\n",
      "963/963 [==============================] - 1s 822us/step - loss: 0.0154 - accuracy: 0.9935 - val_loss: 0.0319 - val_accuracy: 0.9905\n",
      "Epoch 194/200\n",
      "963/963 [==============================] - 1s 814us/step - loss: 0.0151 - accuracy: 0.9943 - val_loss: 0.0460 - val_accuracy: 0.9877\n",
      "Epoch 195/200\n",
      "963/963 [==============================] - 1s 802us/step - loss: 0.0162 - accuracy: 0.9936 - val_loss: 0.0321 - val_accuracy: 0.9923\n",
      "Epoch 196/200\n",
      "963/963 [==============================] - 1s 849us/step - loss: 0.0192 - accuracy: 0.9915 - val_loss: 0.0356 - val_accuracy: 0.9877\n",
      "Epoch 197/200\n",
      "963/963 [==============================] - 1s 818us/step - loss: 0.0132 - accuracy: 0.9947 - val_loss: 0.0334 - val_accuracy: 0.9898\n",
      "Epoch 198/200\n",
      "963/963 [==============================] - 1s 857us/step - loss: 0.0165 - accuracy: 0.9931 - val_loss: 0.0304 - val_accuracy: 0.9911\n",
      "Epoch 199/200\n",
      "963/963 [==============================] - 1s 810us/step - loss: 0.0129 - accuracy: 0.9952 - val_loss: 0.0380 - val_accuracy: 0.9901\n",
      "Epoch 200/200\n",
      "963/963 [==============================] - 1s 802us/step - loss: 0.0182 - accuracy: 0.9935 - val_loss: 0.0268 - val_accuracy: 0.9923\n",
      "Done\n"
     ]
    }
   ],
   "source": [
    "#train the data\n",
    "fitted = m.fit(X_train, Y_train, epochs=200, validation_data=(X_val, Y_val))\n",
    "print(\"Done\")"
   ]
  },
  {
   "cell_type": "code",
   "execution_count": 10,
   "metadata": {},
   "outputs": [
    {
     "output_type": "stream",
     "name": "stdout",
     "text": [
      "207/207 [==============================] - 0s 645us/step - loss: 0.0220 - accuracy: 0.9933\n"
     ]
    },
    {
     "output_type": "execute_result",
     "data": {
      "text/plain": [
       "0.9933313131332397"
      ]
     },
     "metadata": {},
     "execution_count": 10
    }
   ],
   "source": [
    "# Accuracy of our test set\n",
    "m.evaluate(X_test, Y_test)[1]"
   ]
  },
  {
   "cell_type": "code",
   "execution_count": 11,
   "metadata": {},
   "outputs": [
    {
     "output_type": "display_data",
     "data": {
      "text/plain": "<Figure size 432x288 with 1 Axes>",
      "image/svg+xml": "<?xml version=\"1.0\" encoding=\"utf-8\" standalone=\"no\"?>\n<!DOCTYPE svg PUBLIC \"-//W3C//DTD SVG 1.1//EN\"\n  \"http://www.w3.org/Graphics/SVG/1.1/DTD/svg11.dtd\">\n<svg height=\"277.314375pt\" version=\"1.1\" viewBox=\"0 0 385.78125 277.314375\" width=\"385.78125pt\" xmlns=\"http://www.w3.org/2000/svg\" xmlns:xlink=\"http://www.w3.org/1999/xlink\">\n <metadata>\n  <rdf:RDF xmlns:cc=\"http://creativecommons.org/ns#\" xmlns:dc=\"http://purl.org/dc/elements/1.1/\" xmlns:rdf=\"http://www.w3.org/1999/02/22-rdf-syntax-ns#\">\n   <cc:Work>\n    <dc:type rdf:resource=\"http://purl.org/dc/dcmitype/StillImage\"/>\n    <dc:date>2021-06-07T01:00:06.044755</dc:date>\n    <dc:format>image/svg+xml</dc:format>\n    <dc:creator>\n     <cc:Agent>\n      <dc:title>Matplotlib v3.4.2, https://matplotlib.org/</dc:title>\n     </cc:Agent>\n    </dc:creator>\n   </cc:Work>\n  </rdf:RDF>\n </metadata>\n <defs>\n  <style type=\"text/css\">*{stroke-linecap:butt;stroke-linejoin:round;}</style>\n </defs>\n <g id=\"figure_1\">\n  <g id=\"patch_1\">\n   <path d=\"M 0 277.314375 \nL 385.78125 277.314375 \nL 385.78125 0 \nL 0 0 \nz\n\" style=\"fill:none;\"/>\n  </g>\n  <g id=\"axes_1\">\n   <g id=\"patch_2\">\n    <path d=\"M 43.78125 239.758125 \nL 378.58125 239.758125 \nL 378.58125 22.318125 \nL 43.78125 22.318125 \nz\n\" style=\"fill:#ffffff;\"/>\n   </g>\n   <g id=\"matplotlib.axis_1\">\n    <g id=\"xtick_1\">\n     <g id=\"line2d_1\">\n      <defs>\n       <path d=\"M 0 0 \nL 0 3.5 \n\" id=\"mac1d28c30b\" style=\"stroke:#000000;stroke-width:0.8;\"/>\n      </defs>\n      <g>\n       <use style=\"stroke:#000000;stroke-width:0.8;\" x=\"58.999432\" xlink:href=\"#mac1d28c30b\" y=\"239.758125\"/>\n      </g>\n     </g>\n     <g id=\"text_1\">\n      <!-- 0 -->\n      <g transform=\"translate(55.818182 254.356562)scale(0.1 -0.1)\">\n       <defs>\n        <path d=\"M 2034 4250 \nQ 1547 4250 1301 3770 \nQ 1056 3291 1056 2328 \nQ 1056 1369 1301 889 \nQ 1547 409 2034 409 \nQ 2525 409 2770 889 \nQ 3016 1369 3016 2328 \nQ 3016 3291 2770 3770 \nQ 2525 4250 2034 4250 \nz\nM 2034 4750 \nQ 2819 4750 3233 4129 \nQ 3647 3509 3647 2328 \nQ 3647 1150 3233 529 \nQ 2819 -91 2034 -91 \nQ 1250 -91 836 529 \nQ 422 1150 422 2328 \nQ 422 3509 836 4129 \nQ 1250 4750 2034 4750 \nz\n\" id=\"DejaVuSans-30\" transform=\"scale(0.015625)\"/>\n       </defs>\n       <use xlink:href=\"#DejaVuSans-30\"/>\n      </g>\n     </g>\n    </g>\n    <g id=\"xtick_2\">\n     <g id=\"line2d_2\">\n      <g>\n       <use style=\"stroke:#000000;stroke-width:0.8;\" x=\"97.23607\" xlink:href=\"#mac1d28c30b\" y=\"239.758125\"/>\n      </g>\n     </g>\n     <g id=\"text_2\">\n      <!-- 25 -->\n      <g transform=\"translate(90.87357 254.356562)scale(0.1 -0.1)\">\n       <defs>\n        <path d=\"M 1228 531 \nL 3431 531 \nL 3431 0 \nL 469 0 \nL 469 531 \nQ 828 903 1448 1529 \nQ 2069 2156 2228 2338 \nQ 2531 2678 2651 2914 \nQ 2772 3150 2772 3378 \nQ 2772 3750 2511 3984 \nQ 2250 4219 1831 4219 \nQ 1534 4219 1204 4116 \nQ 875 4013 500 3803 \nL 500 4441 \nQ 881 4594 1212 4672 \nQ 1544 4750 1819 4750 \nQ 2544 4750 2975 4387 \nQ 3406 4025 3406 3419 \nQ 3406 3131 3298 2873 \nQ 3191 2616 2906 2266 \nQ 2828 2175 2409 1742 \nQ 1991 1309 1228 531 \nz\n\" id=\"DejaVuSans-32\" transform=\"scale(0.015625)\"/>\n        <path d=\"M 691 4666 \nL 3169 4666 \nL 3169 4134 \nL 1269 4134 \nL 1269 2991 \nQ 1406 3038 1543 3061 \nQ 1681 3084 1819 3084 \nQ 2600 3084 3056 2656 \nQ 3513 2228 3513 1497 \nQ 3513 744 3044 326 \nQ 2575 -91 1722 -91 \nQ 1428 -91 1123 -41 \nQ 819 9 494 109 \nL 494 744 \nQ 775 591 1075 516 \nQ 1375 441 1709 441 \nQ 2250 441 2565 725 \nQ 2881 1009 2881 1497 \nQ 2881 1984 2565 2268 \nQ 2250 2553 1709 2553 \nQ 1456 2553 1204 2497 \nQ 953 2441 691 2322 \nL 691 4666 \nz\n\" id=\"DejaVuSans-35\" transform=\"scale(0.015625)\"/>\n       </defs>\n       <use xlink:href=\"#DejaVuSans-32\"/>\n       <use x=\"63.623047\" xlink:href=\"#DejaVuSans-35\"/>\n      </g>\n     </g>\n    </g>\n    <g id=\"xtick_3\">\n     <g id=\"line2d_3\">\n      <g>\n       <use style=\"stroke:#000000;stroke-width:0.8;\" x=\"135.472707\" xlink:href=\"#mac1d28c30b\" y=\"239.758125\"/>\n      </g>\n     </g>\n     <g id=\"text_3\">\n      <!-- 50 -->\n      <g transform=\"translate(129.110207 254.356562)scale(0.1 -0.1)\">\n       <use xlink:href=\"#DejaVuSans-35\"/>\n       <use x=\"63.623047\" xlink:href=\"#DejaVuSans-30\"/>\n      </g>\n     </g>\n    </g>\n    <g id=\"xtick_4\">\n     <g id=\"line2d_4\">\n      <g>\n       <use style=\"stroke:#000000;stroke-width:0.8;\" x=\"173.709345\" xlink:href=\"#mac1d28c30b\" y=\"239.758125\"/>\n      </g>\n     </g>\n     <g id=\"text_4\">\n      <!-- 75 -->\n      <g transform=\"translate(167.346845 254.356562)scale(0.1 -0.1)\">\n       <defs>\n        <path d=\"M 525 4666 \nL 3525 4666 \nL 3525 4397 \nL 1831 0 \nL 1172 0 \nL 2766 4134 \nL 525 4134 \nL 525 4666 \nz\n\" id=\"DejaVuSans-37\" transform=\"scale(0.015625)\"/>\n       </defs>\n       <use xlink:href=\"#DejaVuSans-37\"/>\n       <use x=\"63.623047\" xlink:href=\"#DejaVuSans-35\"/>\n      </g>\n     </g>\n    </g>\n    <g id=\"xtick_5\">\n     <g id=\"line2d_5\">\n      <g>\n       <use style=\"stroke:#000000;stroke-width:0.8;\" x=\"211.945983\" xlink:href=\"#mac1d28c30b\" y=\"239.758125\"/>\n      </g>\n     </g>\n     <g id=\"text_5\">\n      <!-- 100 -->\n      <g transform=\"translate(202.402233 254.356562)scale(0.1 -0.1)\">\n       <defs>\n        <path d=\"M 794 531 \nL 1825 531 \nL 1825 4091 \nL 703 3866 \nL 703 4441 \nL 1819 4666 \nL 2450 4666 \nL 2450 531 \nL 3481 531 \nL 3481 0 \nL 794 0 \nL 794 531 \nz\n\" id=\"DejaVuSans-31\" transform=\"scale(0.015625)\"/>\n       </defs>\n       <use xlink:href=\"#DejaVuSans-31\"/>\n       <use x=\"63.623047\" xlink:href=\"#DejaVuSans-30\"/>\n       <use x=\"127.246094\" xlink:href=\"#DejaVuSans-30\"/>\n      </g>\n     </g>\n    </g>\n    <g id=\"xtick_6\">\n     <g id=\"line2d_6\">\n      <g>\n       <use style=\"stroke:#000000;stroke-width:0.8;\" x=\"250.18262\" xlink:href=\"#mac1d28c30b\" y=\"239.758125\"/>\n      </g>\n     </g>\n     <g id=\"text_6\">\n      <!-- 125 -->\n      <g transform=\"translate(240.63887 254.356562)scale(0.1 -0.1)\">\n       <use xlink:href=\"#DejaVuSans-31\"/>\n       <use x=\"63.623047\" xlink:href=\"#DejaVuSans-32\"/>\n       <use x=\"127.246094\" xlink:href=\"#DejaVuSans-35\"/>\n      </g>\n     </g>\n    </g>\n    <g id=\"xtick_7\">\n     <g id=\"line2d_7\">\n      <g>\n       <use style=\"stroke:#000000;stroke-width:0.8;\" x=\"288.419258\" xlink:href=\"#mac1d28c30b\" y=\"239.758125\"/>\n      </g>\n     </g>\n     <g id=\"text_7\">\n      <!-- 150 -->\n      <g transform=\"translate(278.875508 254.356562)scale(0.1 -0.1)\">\n       <use xlink:href=\"#DejaVuSans-31\"/>\n       <use x=\"63.623047\" xlink:href=\"#DejaVuSans-35\"/>\n       <use x=\"127.246094\" xlink:href=\"#DejaVuSans-30\"/>\n      </g>\n     </g>\n    </g>\n    <g id=\"xtick_8\">\n     <g id=\"line2d_8\">\n      <g>\n       <use style=\"stroke:#000000;stroke-width:0.8;\" x=\"326.655896\" xlink:href=\"#mac1d28c30b\" y=\"239.758125\"/>\n      </g>\n     </g>\n     <g id=\"text_8\">\n      <!-- 175 -->\n      <g transform=\"translate(317.112146 254.356562)scale(0.1 -0.1)\">\n       <use xlink:href=\"#DejaVuSans-31\"/>\n       <use x=\"63.623047\" xlink:href=\"#DejaVuSans-37\"/>\n       <use x=\"127.246094\" xlink:href=\"#DejaVuSans-35\"/>\n      </g>\n     </g>\n    </g>\n    <g id=\"xtick_9\">\n     <g id=\"line2d_9\">\n      <g>\n       <use style=\"stroke:#000000;stroke-width:0.8;\" x=\"364.892534\" xlink:href=\"#mac1d28c30b\" y=\"239.758125\"/>\n      </g>\n     </g>\n     <g id=\"text_9\">\n      <!-- 200 -->\n      <g transform=\"translate(355.348784 254.356562)scale(0.1 -0.1)\">\n       <use xlink:href=\"#DejaVuSans-32\"/>\n       <use x=\"63.623047\" xlink:href=\"#DejaVuSans-30\"/>\n       <use x=\"127.246094\" xlink:href=\"#DejaVuSans-30\"/>\n      </g>\n     </g>\n    </g>\n    <g id=\"text_10\">\n     <!-- Epoch -->\n     <g transform=\"translate(195.870313 268.034687)scale(0.1 -0.1)\">\n      <defs>\n       <path d=\"M 628 4666 \nL 3578 4666 \nL 3578 4134 \nL 1259 4134 \nL 1259 2753 \nL 3481 2753 \nL 3481 2222 \nL 1259 2222 \nL 1259 531 \nL 3634 531 \nL 3634 0 \nL 628 0 \nL 628 4666 \nz\n\" id=\"DejaVuSans-45\" transform=\"scale(0.015625)\"/>\n       <path d=\"M 1159 525 \nL 1159 -1331 \nL 581 -1331 \nL 581 3500 \nL 1159 3500 \nL 1159 2969 \nQ 1341 3281 1617 3432 \nQ 1894 3584 2278 3584 \nQ 2916 3584 3314 3078 \nQ 3713 2572 3713 1747 \nQ 3713 922 3314 415 \nQ 2916 -91 2278 -91 \nQ 1894 -91 1617 61 \nQ 1341 213 1159 525 \nz\nM 3116 1747 \nQ 3116 2381 2855 2742 \nQ 2594 3103 2138 3103 \nQ 1681 3103 1420 2742 \nQ 1159 2381 1159 1747 \nQ 1159 1113 1420 752 \nQ 1681 391 2138 391 \nQ 2594 391 2855 752 \nQ 3116 1113 3116 1747 \nz\n\" id=\"DejaVuSans-70\" transform=\"scale(0.015625)\"/>\n       <path d=\"M 1959 3097 \nQ 1497 3097 1228 2736 \nQ 959 2375 959 1747 \nQ 959 1119 1226 758 \nQ 1494 397 1959 397 \nQ 2419 397 2687 759 \nQ 2956 1122 2956 1747 \nQ 2956 2369 2687 2733 \nQ 2419 3097 1959 3097 \nz\nM 1959 3584 \nQ 2709 3584 3137 3096 \nQ 3566 2609 3566 1747 \nQ 3566 888 3137 398 \nQ 2709 -91 1959 -91 \nQ 1206 -91 779 398 \nQ 353 888 353 1747 \nQ 353 2609 779 3096 \nQ 1206 3584 1959 3584 \nz\n\" id=\"DejaVuSans-6f\" transform=\"scale(0.015625)\"/>\n       <path d=\"M 3122 3366 \nL 3122 2828 \nQ 2878 2963 2633 3030 \nQ 2388 3097 2138 3097 \nQ 1578 3097 1268 2742 \nQ 959 2388 959 1747 \nQ 959 1106 1268 751 \nQ 1578 397 2138 397 \nQ 2388 397 2633 464 \nQ 2878 531 3122 666 \nL 3122 134 \nQ 2881 22 2623 -34 \nQ 2366 -91 2075 -91 \nQ 1284 -91 818 406 \nQ 353 903 353 1747 \nQ 353 2603 823 3093 \nQ 1294 3584 2113 3584 \nQ 2378 3584 2631 3529 \nQ 2884 3475 3122 3366 \nz\n\" id=\"DejaVuSans-63\" transform=\"scale(0.015625)\"/>\n       <path d=\"M 3513 2113 \nL 3513 0 \nL 2938 0 \nL 2938 2094 \nQ 2938 2591 2744 2837 \nQ 2550 3084 2163 3084 \nQ 1697 3084 1428 2787 \nQ 1159 2491 1159 1978 \nL 1159 0 \nL 581 0 \nL 581 4863 \nL 1159 4863 \nL 1159 2956 \nQ 1366 3272 1645 3428 \nQ 1925 3584 2291 3584 \nQ 2894 3584 3203 3211 \nQ 3513 2838 3513 2113 \nz\n\" id=\"DejaVuSans-68\" transform=\"scale(0.015625)\"/>\n      </defs>\n      <use xlink:href=\"#DejaVuSans-45\"/>\n      <use x=\"63.183594\" xlink:href=\"#DejaVuSans-70\"/>\n      <use x=\"126.660156\" xlink:href=\"#DejaVuSans-6f\"/>\n      <use x=\"187.841797\" xlink:href=\"#DejaVuSans-63\"/>\n      <use x=\"242.822266\" xlink:href=\"#DejaVuSans-68\"/>\n     </g>\n    </g>\n   </g>\n   <g id=\"matplotlib.axis_2\">\n    <g id=\"ytick_1\">\n     <g id=\"line2d_10\">\n      <defs>\n       <path d=\"M 0 0 \nL -3.5 0 \n\" id=\"mbffca2ec0e\" style=\"stroke:#000000;stroke-width:0.8;\"/>\n      </defs>\n      <g>\n       <use style=\"stroke:#000000;stroke-width:0.8;\" x=\"43.78125\" xlink:href=\"#mbffca2ec0e\" y=\"233.040067\"/>\n      </g>\n     </g>\n     <g id=\"text_11\">\n      <!-- 0.0 -->\n      <g transform=\"translate(20.878125 236.839286)scale(0.1 -0.1)\">\n       <defs>\n        <path d=\"M 684 794 \nL 1344 794 \nL 1344 0 \nL 684 0 \nL 684 794 \nz\n\" id=\"DejaVuSans-2e\" transform=\"scale(0.015625)\"/>\n       </defs>\n       <use xlink:href=\"#DejaVuSans-30\"/>\n       <use x=\"63.623047\" xlink:href=\"#DejaVuSans-2e\"/>\n       <use x=\"95.410156\" xlink:href=\"#DejaVuSans-30\"/>\n      </g>\n     </g>\n    </g>\n    <g id=\"ytick_2\">\n     <g id=\"line2d_11\">\n      <g>\n       <use style=\"stroke:#000000;stroke-width:0.8;\" x=\"43.78125\" xlink:href=\"#mbffca2ec0e\" y=\"187.92088\"/>\n      </g>\n     </g>\n     <g id=\"text_12\">\n      <!-- 0.2 -->\n      <g transform=\"translate(20.878125 191.720099)scale(0.1 -0.1)\">\n       <use xlink:href=\"#DejaVuSans-30\"/>\n       <use x=\"63.623047\" xlink:href=\"#DejaVuSans-2e\"/>\n       <use x=\"95.410156\" xlink:href=\"#DejaVuSans-32\"/>\n      </g>\n     </g>\n    </g>\n    <g id=\"ytick_3\">\n     <g id=\"line2d_12\">\n      <g>\n       <use style=\"stroke:#000000;stroke-width:0.8;\" x=\"43.78125\" xlink:href=\"#mbffca2ec0e\" y=\"142.801694\"/>\n      </g>\n     </g>\n     <g id=\"text_13\">\n      <!-- 0.4 -->\n      <g transform=\"translate(20.878125 146.600912)scale(0.1 -0.1)\">\n       <defs>\n        <path d=\"M 2419 4116 \nL 825 1625 \nL 2419 1625 \nL 2419 4116 \nz\nM 2253 4666 \nL 3047 4666 \nL 3047 1625 \nL 3713 1625 \nL 3713 1100 \nL 3047 1100 \nL 3047 0 \nL 2419 0 \nL 2419 1100 \nL 313 1100 \nL 313 1709 \nL 2253 4666 \nz\n\" id=\"DejaVuSans-34\" transform=\"scale(0.015625)\"/>\n       </defs>\n       <use xlink:href=\"#DejaVuSans-30\"/>\n       <use x=\"63.623047\" xlink:href=\"#DejaVuSans-2e\"/>\n       <use x=\"95.410156\" xlink:href=\"#DejaVuSans-34\"/>\n      </g>\n     </g>\n    </g>\n    <g id=\"ytick_4\">\n     <g id=\"line2d_13\">\n      <g>\n       <use style=\"stroke:#000000;stroke-width:0.8;\" x=\"43.78125\" xlink:href=\"#mbffca2ec0e\" y=\"97.682507\"/>\n      </g>\n     </g>\n     <g id=\"text_14\">\n      <!-- 0.6 -->\n      <g transform=\"translate(20.878125 101.481726)scale(0.1 -0.1)\">\n       <defs>\n        <path d=\"M 2113 2584 \nQ 1688 2584 1439 2293 \nQ 1191 2003 1191 1497 \nQ 1191 994 1439 701 \nQ 1688 409 2113 409 \nQ 2538 409 2786 701 \nQ 3034 994 3034 1497 \nQ 3034 2003 2786 2293 \nQ 2538 2584 2113 2584 \nz\nM 3366 4563 \nL 3366 3988 \nQ 3128 4100 2886 4159 \nQ 2644 4219 2406 4219 \nQ 1781 4219 1451 3797 \nQ 1122 3375 1075 2522 \nQ 1259 2794 1537 2939 \nQ 1816 3084 2150 3084 \nQ 2853 3084 3261 2657 \nQ 3669 2231 3669 1497 \nQ 3669 778 3244 343 \nQ 2819 -91 2113 -91 \nQ 1303 -91 875 529 \nQ 447 1150 447 2328 \nQ 447 3434 972 4092 \nQ 1497 4750 2381 4750 \nQ 2619 4750 2861 4703 \nQ 3103 4656 3366 4563 \nz\n\" id=\"DejaVuSans-36\" transform=\"scale(0.015625)\"/>\n       </defs>\n       <use xlink:href=\"#DejaVuSans-30\"/>\n       <use x=\"63.623047\" xlink:href=\"#DejaVuSans-2e\"/>\n       <use x=\"95.410156\" xlink:href=\"#DejaVuSans-36\"/>\n      </g>\n     </g>\n    </g>\n    <g id=\"ytick_5\">\n     <g id=\"line2d_14\">\n      <g>\n       <use style=\"stroke:#000000;stroke-width:0.8;\" x=\"43.78125\" xlink:href=\"#mbffca2ec0e\" y=\"52.56332\"/>\n      </g>\n     </g>\n     <g id=\"text_15\">\n      <!-- 0.8 -->\n      <g transform=\"translate(20.878125 56.362539)scale(0.1 -0.1)\">\n       <defs>\n        <path d=\"M 2034 2216 \nQ 1584 2216 1326 1975 \nQ 1069 1734 1069 1313 \nQ 1069 891 1326 650 \nQ 1584 409 2034 409 \nQ 2484 409 2743 651 \nQ 3003 894 3003 1313 \nQ 3003 1734 2745 1975 \nQ 2488 2216 2034 2216 \nz\nM 1403 2484 \nQ 997 2584 770 2862 \nQ 544 3141 544 3541 \nQ 544 4100 942 4425 \nQ 1341 4750 2034 4750 \nQ 2731 4750 3128 4425 \nQ 3525 4100 3525 3541 \nQ 3525 3141 3298 2862 \nQ 3072 2584 2669 2484 \nQ 3125 2378 3379 2068 \nQ 3634 1759 3634 1313 \nQ 3634 634 3220 271 \nQ 2806 -91 2034 -91 \nQ 1263 -91 848 271 \nQ 434 634 434 1313 \nQ 434 1759 690 2068 \nQ 947 2378 1403 2484 \nz\nM 1172 3481 \nQ 1172 3119 1398 2916 \nQ 1625 2713 2034 2713 \nQ 2441 2713 2670 2916 \nQ 2900 3119 2900 3481 \nQ 2900 3844 2670 4047 \nQ 2441 4250 2034 4250 \nQ 1625 4250 1398 4047 \nQ 1172 3844 1172 3481 \nz\n\" id=\"DejaVuSans-38\" transform=\"scale(0.015625)\"/>\n       </defs>\n       <use xlink:href=\"#DejaVuSans-30\"/>\n       <use x=\"63.623047\" xlink:href=\"#DejaVuSans-2e\"/>\n       <use x=\"95.410156\" xlink:href=\"#DejaVuSans-38\"/>\n      </g>\n     </g>\n    </g>\n    <g id=\"text_16\">\n     <!-- Loss -->\n     <g transform=\"translate(14.798438 142.005312)rotate(-90)scale(0.1 -0.1)\">\n      <defs>\n       <path d=\"M 628 4666 \nL 1259 4666 \nL 1259 531 \nL 3531 531 \nL 3531 0 \nL 628 0 \nL 628 4666 \nz\n\" id=\"DejaVuSans-4c\" transform=\"scale(0.015625)\"/>\n       <path d=\"M 2834 3397 \nL 2834 2853 \nQ 2591 2978 2328 3040 \nQ 2066 3103 1784 3103 \nQ 1356 3103 1142 2972 \nQ 928 2841 928 2578 \nQ 928 2378 1081 2264 \nQ 1234 2150 1697 2047 \nL 1894 2003 \nQ 2506 1872 2764 1633 \nQ 3022 1394 3022 966 \nQ 3022 478 2636 193 \nQ 2250 -91 1575 -91 \nQ 1294 -91 989 -36 \nQ 684 19 347 128 \nL 347 722 \nQ 666 556 975 473 \nQ 1284 391 1588 391 \nQ 1994 391 2212 530 \nQ 2431 669 2431 922 \nQ 2431 1156 2273 1281 \nQ 2116 1406 1581 1522 \nL 1381 1569 \nQ 847 1681 609 1914 \nQ 372 2147 372 2553 \nQ 372 3047 722 3315 \nQ 1072 3584 1716 3584 \nQ 2034 3584 2315 3537 \nQ 2597 3491 2834 3397 \nz\n\" id=\"DejaVuSans-73\" transform=\"scale(0.015625)\"/>\n      </defs>\n      <use xlink:href=\"#DejaVuSans-4c\"/>\n      <use x=\"53.962891\" xlink:href=\"#DejaVuSans-6f\"/>\n      <use x=\"115.144531\" xlink:href=\"#DejaVuSans-73\"/>\n      <use x=\"167.244141\" xlink:href=\"#DejaVuSans-73\"/>\n     </g>\n    </g>\n   </g>\n   <g id=\"line2d_15\">\n    <path clip-path=\"url(#p8983dc7ea6)\" d=\"M 58.999432 32.201761 \nL 60.528897 209.604216 \nL 62.058363 211.180883 \nL 66.646759 215.114864 \nL 68.176225 216.276483 \nL 71.235156 218.372922 \nL 75.823552 220.517623 \nL 77.353018 221.1392 \nL 78.882483 221.400189 \nL 80.411949 221.52599 \nL 81.941414 222.525373 \nL 83.47088 222.659557 \nL 86.529811 223.605821 \nL 89.588742 224.221396 \nL 91.118208 224.613533 \nL 95.706604 225.072159 \nL 98.765535 225.748532 \nL 100.295001 225.573737 \nL 103.353932 225.706378 \nL 104.883397 225.678024 \nL 106.412863 226.077692 \nL 107.942328 226.035287 \nL 109.471794 226.230519 \nL 111.001259 226.605398 \nL 112.530725 226.281923 \nL 114.06019 226.672155 \nL 115.589656 226.701602 \nL 117.119121 226.424726 \nL 118.648587 226.632777 \nL 120.178052 226.538757 \nL 124.766449 227.00084 \nL 126.295914 227.04175 \nL 127.82538 226.737261 \nL 129.354845 227.298079 \nL 132.413776 226.848685 \nL 133.943242 227.203762 \nL 135.472707 227.310614 \nL 137.002173 227.01548 \nL 138.531638 227.679527 \nL 140.061104 227.277364 \nL 141.590569 226.714246 \nL 143.120035 227.850792 \nL 144.6495 227.473895 \nL 146.178966 226.08374 \nL 147.708431 226.758836 \nL 149.237897 227.772679 \nL 150.767362 227.72011 \nL 152.296828 227.442592 \nL 153.826293 227.720746 \nL 155.355759 227.551702 \nL 156.885224 227.721823 \nL 158.41469 227.601609 \nL 159.944155 227.920376 \nL 161.473621 227.963253 \nL 163.003086 227.654627 \nL 164.532552 227.833789 \nL 166.062017 227.775287 \nL 167.591483 228.279765 \nL 170.650414 227.939647 \nL 173.709345 228.212451 \nL 176.768276 227.978549 \nL 178.297742 228.312815 \nL 179.827207 227.995145 \nL 181.356673 227.938498 \nL 182.886138 228.361499 \nL 184.415604 228.096676 \nL 185.945069 228.04184 \nL 189.004 228.565298 \nL 190.533466 228.637975 \nL 192.062931 227.992226 \nL 193.592397 227.788304 \nL 195.121862 228.427369 \nL 196.651328 228.543767 \nL 198.180793 228.295895 \nL 201.239724 228.257182 \nL 202.76919 228.566463 \nL 205.828121 228.199387 \nL 207.357586 229.142339 \nL 210.416517 228.39556 \nL 211.945983 228.713652 \nL 213.475448 228.498517 \nL 215.004914 228.987383 \nL 216.534379 228.360078 \nL 218.063845 228.649177 \nL 219.59331 229.119376 \nL 221.122776 228.742428 \nL 222.652241 228.802434 \nL 224.181707 228.69648 \nL 225.711172 228.793221 \nL 227.240638 228.568902 \nL 228.770103 229.106733 \nL 230.299569 228.741691 \nL 231.829034 228.673955 \nL 233.3585 228.16979 \nL 234.887965 229.08087 \nL 237.946896 228.987343 \nL 239.476362 228.678789 \nL 242.535293 228.734949 \nL 244.064758 229.348666 \nL 245.594224 228.914227 \nL 247.123689 228.739512 \nL 250.18262 229.133846 \nL 251.712086 228.710103 \nL 253.241552 227.927176 \nL 254.771017 229.191746 \nL 256.300483 229.060691 \nL 257.829948 228.497155 \nL 259.359414 229.027561 \nL 260.888879 228.690807 \nL 262.418345 228.920588 \nL 263.94781 229.265245 \nL 265.477276 229.029498 \nL 267.006741 229.177701 \nL 268.536207 229.015676 \nL 270.065672 229.085466 \nL 271.595138 229.284145 \nL 274.654069 229.01779 \nL 276.183534 228.593886 \nL 277.713 229.247307 \nL 279.242465 228.518823 \nL 280.771931 228.929644 \nL 282.301396 229.553897 \nL 283.830862 229.335197 \nL 285.360327 228.82006 \nL 286.889793 229.565526 \nL 288.419258 229.512767 \nL 289.948724 228.821903 \nL 291.478189 229.641899 \nL 293.007655 229.552374 \nL 294.53712 228.955128 \nL 296.066586 228.509501 \nL 297.596051 229.396436 \nL 299.125517 229.14967 \nL 300.654982 229.308934 \nL 302.184448 229.24131 \nL 303.713913 229.66193 \nL 305.243379 228.779541 \nL 306.772844 229.002459 \nL 308.30231 229.517484 \nL 309.831775 229.663669 \nL 311.361241 229.431536 \nL 312.890706 229.575191 \nL 314.420172 228.965444 \nL 315.949637 229.484276 \nL 317.479103 229.346442 \nL 319.008568 229.486528 \nL 322.067499 229.256938 \nL 325.12643 229.874489 \nL 326.655896 228.981559 \nL 328.185361 229.53782 \nL 329.714827 229.368789 \nL 331.244292 229.497768 \nL 334.303224 229.370189 \nL 335.832689 229.805508 \nL 338.89162 229.159117 \nL 340.421086 229.617779 \nL 341.950551 228.753651 \nL 343.480017 229.835586 \nL 345.009482 229.492785 \nL 349.597879 229.733947 \nL 352.65681 229.448727 \nL 355.715741 229.121539 \nL 357.245206 229.31128 \nL 358.774672 229.803075 \nL 360.304137 229.368485 \nL 361.833603 229.796287 \nL 363.363068 229.160692 \nL 363.363068 229.160692 \n\" style=\"fill:none;stroke:#1f77b4;stroke-linecap:square;stroke-width:1.5;\"/>\n   </g>\n   <g id=\"line2d_16\">\n    <path clip-path=\"url(#p8983dc7ea6)\" d=\"M 58.999432 207.930062 \nL 60.528897 204.298144 \nL 62.058363 210.343796 \nL 63.587828 211.381182 \nL 65.117294 212.942298 \nL 66.646759 212.919361 \nL 68.176225 216.171882 \nL 69.70569 217.382263 \nL 71.235156 218.089243 \nL 72.764621 220.169708 \nL 74.294087 220.575593 \nL 75.823552 218.489527 \nL 77.353018 220.129824 \nL 78.882483 220.846426 \nL 80.411949 220.807676 \nL 81.941414 222.547453 \nL 83.47088 222.252084 \nL 85.000345 221.489437 \nL 88.059276 223.704368 \nL 89.588742 224.194538 \nL 91.118208 223.960785 \nL 94.177139 224.136856 \nL 95.706604 223.225919 \nL 97.23607 225.275478 \nL 98.765535 221.696187 \nL 100.295001 223.144941 \nL 101.824466 222.336762 \nL 103.353932 223.899843 \nL 104.883397 224.829799 \nL 106.412863 224.011996 \nL 107.942328 226.02155 \nL 109.471794 224.782964 \nL 111.001259 223.993877 \nL 112.530725 224.151888 \nL 114.06019 224.602643 \nL 115.589656 222.492083 \nL 117.119121 225.129885 \nL 118.648587 226.011431 \nL 120.178052 225.698217 \nL 121.707518 225.230521 \nL 123.236983 225.222442 \nL 124.766449 225.541709 \nL 126.295914 225.697823 \nL 127.82538 226.226166 \nL 129.354845 224.684572 \nL 130.884311 223.448657 \nL 132.413776 225.791205 \nL 133.943242 225.577733 \nL 135.472707 226.13007 \nL 137.002173 224.927933 \nL 138.531638 226.042421 \nL 140.061104 225.798719 \nL 141.590569 226.255665 \nL 143.120035 226.531793 \nL 144.6495 225.609795 \nL 146.178966 223.955375 \nL 147.708431 224.736832 \nL 149.237897 224.551669 \nL 152.296828 226.708103 \nL 153.826293 225.33327 \nL 155.355759 225.054851 \nL 158.41469 226.158821 \nL 159.944155 226.464677 \nL 161.473621 224.065238 \nL 163.003086 225.812743 \nL 164.532552 226.677927 \nL 166.062017 226.770262 \nL 167.591483 225.162906 \nL 169.120948 225.685259 \nL 170.650414 225.58022 \nL 172.17988 224.19944 \nL 173.709345 226.861387 \nL 175.238811 226.328056 \nL 176.768276 224.750655 \nL 178.297742 225.404702 \nL 179.827207 225.351103 \nL 181.356673 226.238549 \nL 182.886138 226.698723 \nL 184.415604 225.686621 \nL 185.945069 224.240545 \nL 187.474535 226.295285 \nL 189.004 227.250073 \nL 190.533466 226.445556 \nL 192.062931 223.6596 \nL 193.592397 226.274351 \nL 195.121862 226.238187 \nL 198.180793 224.501449 \nL 199.710259 225.549041 \nL 201.239724 225.441278 \nL 202.76919 225.978661 \nL 204.298655 226.657644 \nL 205.828121 225.830512 \nL 207.357586 224.848145 \nL 208.887052 224.880401 \nL 210.416517 226.196563 \nL 211.945983 226.183558 \nL 213.475448 225.210262 \nL 215.004914 224.543967 \nL 216.534379 224.431716 \nL 218.063845 226.780046 \nL 219.59331 226.80193 \nL 221.122776 226.36487 \nL 222.652241 226.88848 \nL 224.181707 225.696929 \nL 227.240638 224.063401 \nL 228.770103 226.368529 \nL 230.299569 225.970266 \nL 231.829034 224.332939 \nL 233.3585 225.862902 \nL 234.887965 226.849636 \nL 236.417431 224.686126 \nL 237.946896 226.051173 \nL 241.005827 224.788638 \nL 242.535293 226.165046 \nL 244.064758 226.149059 \nL 245.594224 227.739065 \nL 247.123689 226.075501 \nL 248.653155 226.938397 \nL 250.18262 225.60951 \nL 251.712086 222.350049 \nL 253.241552 225.705106 \nL 254.771017 225.060232 \nL 256.300483 226.286457 \nL 257.829948 226.600864 \nL 259.359414 225.85394 \nL 260.888879 226.749955 \nL 262.418345 226.591041 \nL 263.94781 225.303055 \nL 265.477276 225.002549 \nL 267.006741 225.716828 \nL 268.536207 224.445103 \nL 270.065672 224.066442 \nL 271.595138 227.022298 \nL 273.124603 226.605632 \nL 274.654069 225.010589 \nL 276.183534 226.451751 \nL 277.713 225.362705 \nL 279.242465 224.984853 \nL 280.771931 225.595814 \nL 282.301396 226.415095 \nL 283.830862 224.704799 \nL 285.360327 227.154563 \nL 286.889793 226.272728 \nL 288.419258 222.961377 \nL 289.948724 226.932548 \nL 291.478189 226.253947 \nL 293.007655 226.755923 \nL 294.53712 225.592518 \nL 296.066586 223.65633 \nL 297.596051 223.922212 \nL 299.125517 227.27875 \nL 300.654982 224.862919 \nL 302.184448 225.505519 \nL 303.713913 225.797129 \nL 305.243379 223.947343 \nL 308.30231 224.879107 \nL 311.361241 226.319744 \nL 314.420172 225.843461 \nL 315.949637 226.507748 \nL 317.479103 226.096636 \nL 319.008568 226.198488 \nL 320.538034 225.815654 \nL 322.067499 222.846445 \nL 323.596965 226.51674 \nL 325.12643 225.968447 \nL 326.655896 224.763125 \nL 328.185361 225.94667 \nL 329.714827 225.457847 \nL 331.244292 222.983813 \nL 332.773758 224.109764 \nL 334.303224 224.978439 \nL 335.832689 224.441899 \nL 337.362155 226.016899 \nL 338.89162 225.401679 \nL 340.421086 226.826263 \nL 341.950551 224.874966 \nL 343.480017 224.727894 \nL 345.009482 225.889886 \nL 346.538948 225.750224 \nL 348.068413 223.850517 \nL 349.597879 225.341136 \nL 351.127344 225.37687 \nL 352.65681 225.838525 \nL 354.186275 222.654783 \nL 355.715741 225.805382 \nL 357.245206 225.003936 \nL 358.774672 225.508885 \nL 360.304137 226.182974 \nL 361.833603 224.468321 \nL 363.363068 226.98882 \nL 363.363068 226.98882 \n\" style=\"fill:none;stroke:#ff7f0e;stroke-linecap:square;stroke-width:1.5;\"/>\n   </g>\n   <g id=\"patch_3\">\n    <path d=\"M 43.78125 239.758125 \nL 43.78125 22.318125 \n\" style=\"fill:none;stroke:#000000;stroke-linecap:square;stroke-linejoin:miter;stroke-width:0.8;\"/>\n   </g>\n   <g id=\"patch_4\">\n    <path d=\"M 378.58125 239.758125 \nL 378.58125 22.318125 \n\" style=\"fill:none;stroke:#000000;stroke-linecap:square;stroke-linejoin:miter;stroke-width:0.8;\"/>\n   </g>\n   <g id=\"patch_5\">\n    <path d=\"M 43.78125 239.758125 \nL 378.58125 239.758125 \n\" style=\"fill:none;stroke:#000000;stroke-linecap:square;stroke-linejoin:miter;stroke-width:0.8;\"/>\n   </g>\n   <g id=\"patch_6\">\n    <path d=\"M 43.78125 22.318125 \nL 378.58125 22.318125 \n\" style=\"fill:none;stroke:#000000;stroke-linecap:square;stroke-linejoin:miter;stroke-width:0.8;\"/>\n   </g>\n   <g id=\"text_17\">\n    <!-- Model loss -->\n    <g transform=\"translate(179.669062 16.318125)scale(0.12 -0.12)\">\n     <defs>\n      <path d=\"M 628 4666 \nL 1569 4666 \nL 2759 1491 \nL 3956 4666 \nL 4897 4666 \nL 4897 0 \nL 4281 0 \nL 4281 4097 \nL 3078 897 \nL 2444 897 \nL 1241 4097 \nL 1241 0 \nL 628 0 \nL 628 4666 \nz\n\" id=\"DejaVuSans-4d\" transform=\"scale(0.015625)\"/>\n      <path d=\"M 2906 2969 \nL 2906 4863 \nL 3481 4863 \nL 3481 0 \nL 2906 0 \nL 2906 525 \nQ 2725 213 2448 61 \nQ 2172 -91 1784 -91 \nQ 1150 -91 751 415 \nQ 353 922 353 1747 \nQ 353 2572 751 3078 \nQ 1150 3584 1784 3584 \nQ 2172 3584 2448 3432 \nQ 2725 3281 2906 2969 \nz\nM 947 1747 \nQ 947 1113 1208 752 \nQ 1469 391 1925 391 \nQ 2381 391 2643 752 \nQ 2906 1113 2906 1747 \nQ 2906 2381 2643 2742 \nQ 2381 3103 1925 3103 \nQ 1469 3103 1208 2742 \nQ 947 2381 947 1747 \nz\n\" id=\"DejaVuSans-64\" transform=\"scale(0.015625)\"/>\n      <path d=\"M 3597 1894 \nL 3597 1613 \nL 953 1613 \nQ 991 1019 1311 708 \nQ 1631 397 2203 397 \nQ 2534 397 2845 478 \nQ 3156 559 3463 722 \nL 3463 178 \nQ 3153 47 2828 -22 \nQ 2503 -91 2169 -91 \nQ 1331 -91 842 396 \nQ 353 884 353 1716 \nQ 353 2575 817 3079 \nQ 1281 3584 2069 3584 \nQ 2775 3584 3186 3129 \nQ 3597 2675 3597 1894 \nz\nM 3022 2063 \nQ 3016 2534 2758 2815 \nQ 2500 3097 2075 3097 \nQ 1594 3097 1305 2825 \nQ 1016 2553 972 2059 \nL 3022 2063 \nz\n\" id=\"DejaVuSans-65\" transform=\"scale(0.015625)\"/>\n      <path d=\"M 603 4863 \nL 1178 4863 \nL 1178 0 \nL 603 0 \nL 603 4863 \nz\n\" id=\"DejaVuSans-6c\" transform=\"scale(0.015625)\"/>\n      <path id=\"DejaVuSans-20\" transform=\"scale(0.015625)\"/>\n     </defs>\n     <use xlink:href=\"#DejaVuSans-4d\"/>\n     <use x=\"86.279297\" xlink:href=\"#DejaVuSans-6f\"/>\n     <use x=\"147.460938\" xlink:href=\"#DejaVuSans-64\"/>\n     <use x=\"210.9375\" xlink:href=\"#DejaVuSans-65\"/>\n     <use x=\"272.460938\" xlink:href=\"#DejaVuSans-6c\"/>\n     <use x=\"300.244141\" xlink:href=\"#DejaVuSans-20\"/>\n     <use x=\"332.03125\" xlink:href=\"#DejaVuSans-6c\"/>\n     <use x=\"359.814453\" xlink:href=\"#DejaVuSans-6f\"/>\n     <use x=\"420.996094\" xlink:href=\"#DejaVuSans-73\"/>\n     <use x=\"473.095703\" xlink:href=\"#DejaVuSans-73\"/>\n    </g>\n   </g>\n   <g id=\"legend_1\">\n    <g id=\"patch_7\">\n     <path d=\"M 315.59375 59.674375 \nL 371.58125 59.674375 \nQ 373.58125 59.674375 373.58125 57.674375 \nL 373.58125 29.318125 \nQ 373.58125 27.318125 371.58125 27.318125 \nL 315.59375 27.318125 \nQ 313.59375 27.318125 313.59375 29.318125 \nL 313.59375 57.674375 \nQ 313.59375 59.674375 315.59375 59.674375 \nz\n\" style=\"fill:#ffffff;opacity:0.8;stroke:#cccccc;stroke-linejoin:miter;\"/>\n    </g>\n    <g id=\"line2d_17\">\n     <path d=\"M 317.59375 35.416562 \nL 337.59375 35.416562 \n\" style=\"fill:none;stroke:#1f77b4;stroke-linecap:square;stroke-width:1.5;\"/>\n    </g>\n    <g id=\"line2d_18\"/>\n    <g id=\"text_18\">\n     <!-- Train -->\n     <g transform=\"translate(345.59375 38.916562)scale(0.1 -0.1)\">\n      <defs>\n       <path d=\"M -19 4666 \nL 3928 4666 \nL 3928 4134 \nL 2272 4134 \nL 2272 0 \nL 1638 0 \nL 1638 4134 \nL -19 4134 \nL -19 4666 \nz\n\" id=\"DejaVuSans-54\" transform=\"scale(0.015625)\"/>\n       <path d=\"M 2631 2963 \nQ 2534 3019 2420 3045 \nQ 2306 3072 2169 3072 \nQ 1681 3072 1420 2755 \nQ 1159 2438 1159 1844 \nL 1159 0 \nL 581 0 \nL 581 3500 \nL 1159 3500 \nL 1159 2956 \nQ 1341 3275 1631 3429 \nQ 1922 3584 2338 3584 \nQ 2397 3584 2469 3576 \nQ 2541 3569 2628 3553 \nL 2631 2963 \nz\n\" id=\"DejaVuSans-72\" transform=\"scale(0.015625)\"/>\n       <path d=\"M 2194 1759 \nQ 1497 1759 1228 1600 \nQ 959 1441 959 1056 \nQ 959 750 1161 570 \nQ 1363 391 1709 391 \nQ 2188 391 2477 730 \nQ 2766 1069 2766 1631 \nL 2766 1759 \nL 2194 1759 \nz\nM 3341 1997 \nL 3341 0 \nL 2766 0 \nL 2766 531 \nQ 2569 213 2275 61 \nQ 1981 -91 1556 -91 \nQ 1019 -91 701 211 \nQ 384 513 384 1019 \nQ 384 1609 779 1909 \nQ 1175 2209 1959 2209 \nL 2766 2209 \nL 2766 2266 \nQ 2766 2663 2505 2880 \nQ 2244 3097 1772 3097 \nQ 1472 3097 1187 3025 \nQ 903 2953 641 2809 \nL 641 3341 \nQ 956 3463 1253 3523 \nQ 1550 3584 1831 3584 \nQ 2591 3584 2966 3190 \nQ 3341 2797 3341 1997 \nz\n\" id=\"DejaVuSans-61\" transform=\"scale(0.015625)\"/>\n       <path d=\"M 603 3500 \nL 1178 3500 \nL 1178 0 \nL 603 0 \nL 603 3500 \nz\nM 603 4863 \nL 1178 4863 \nL 1178 4134 \nL 603 4134 \nL 603 4863 \nz\n\" id=\"DejaVuSans-69\" transform=\"scale(0.015625)\"/>\n       <path d=\"M 3513 2113 \nL 3513 0 \nL 2938 0 \nL 2938 2094 \nQ 2938 2591 2744 2837 \nQ 2550 3084 2163 3084 \nQ 1697 3084 1428 2787 \nQ 1159 2491 1159 1978 \nL 1159 0 \nL 581 0 \nL 581 3500 \nL 1159 3500 \nL 1159 2956 \nQ 1366 3272 1645 3428 \nQ 1925 3584 2291 3584 \nQ 2894 3584 3203 3211 \nQ 3513 2838 3513 2113 \nz\n\" id=\"DejaVuSans-6e\" transform=\"scale(0.015625)\"/>\n      </defs>\n      <use xlink:href=\"#DejaVuSans-54\"/>\n      <use x=\"46.333984\" xlink:href=\"#DejaVuSans-72\"/>\n      <use x=\"87.447266\" xlink:href=\"#DejaVuSans-61\"/>\n      <use x=\"148.726562\" xlink:href=\"#DejaVuSans-69\"/>\n      <use x=\"176.509766\" xlink:href=\"#DejaVuSans-6e\"/>\n     </g>\n    </g>\n    <g id=\"line2d_19\">\n     <path d=\"M 317.59375 50.094687 \nL 337.59375 50.094687 \n\" style=\"fill:none;stroke:#ff7f0e;stroke-linecap:square;stroke-width:1.5;\"/>\n    </g>\n    <g id=\"line2d_20\"/>\n    <g id=\"text_19\">\n     <!-- Val -->\n     <g transform=\"translate(345.59375 53.594687)scale(0.1 -0.1)\">\n      <defs>\n       <path d=\"M 1831 0 \nL 50 4666 \nL 709 4666 \nL 2188 738 \nL 3669 4666 \nL 4325 4666 \nL 2547 0 \nL 1831 0 \nz\n\" id=\"DejaVuSans-56\" transform=\"scale(0.015625)\"/>\n      </defs>\n      <use xlink:href=\"#DejaVuSans-56\"/>\n      <use x=\"60.658203\" xlink:href=\"#DejaVuSans-61\"/>\n      <use x=\"121.9375\" xlink:href=\"#DejaVuSans-6c\"/>\n     </g>\n    </g>\n   </g>\n  </g>\n </g>\n <defs>\n  <clipPath id=\"p8983dc7ea6\">\n   <rect height=\"217.44\" width=\"334.8\" x=\"43.78125\" y=\"22.318125\"/>\n  </clipPath>\n </defs>\n</svg>\n",
      "image/png": "[encoded data removed]"
     },
     "metadata": {
      "needs_background": "light"
     }
    }
   ],
   "source": [
    "# visualizeer de Loss van de train data en validate data, lijnen lopen redelijk overelkaar heen dus overfitting is niet een groot probleem\n",
    "plt.plot(fitted.history['loss'])\n",
    "plt.plot(fitted.history['val_loss'])\n",
    "plt.title('Model loss')\n",
    "plt.ylabel('Loss')\n",
    "plt.xlabel('Epoch')\n",
    "plt.legend(['Train', 'Val'], loc='upper right')\n",
    "plt.show()"
   ]
  },
  {
   "cell_type": "code",
   "execution_count": 12,
   "metadata": {},
   "outputs": [
    {
     "output_type": "display_data",
     "data": {
      "text/plain": "<Figure size 432x288 with 1 Axes>",
      "image/svg+xml": "<?xml version=\"1.0\" encoding=\"utf-8\" standalone=\"no\"?>\n<!DOCTYPE svg PUBLIC \"-//W3C//DTD SVG 1.1//EN\"\n  \"http://www.w3.org/Graphics/SVG/1.1/DTD/svg11.dtd\">\n<svg height=\"277.314375pt\" version=\"1.1\" viewBox=\"0 0 392.14375 277.314375\" width=\"392.14375pt\" xmlns=\"http://www.w3.org/2000/svg\" xmlns:xlink=\"http://www.w3.org/1999/xlink\">\n <metadata>\n  <rdf:RDF xmlns:cc=\"http://creativecommons.org/ns#\" xmlns:dc=\"http://purl.org/dc/elements/1.1/\" xmlns:rdf=\"http://www.w3.org/1999/02/22-rdf-syntax-ns#\">\n   <cc:Work>\n    <dc:type rdf:resource=\"http://purl.org/dc/dcmitype/StillImage\"/>\n    <dc:date>2021-06-07T01:00:09.267250</dc:date>\n    <dc:format>image/svg+xml</dc:format>\n    <dc:creator>\n     <cc:Agent>\n      <dc:title>Matplotlib v3.4.2, https://matplotlib.org/</dc:title>\n     </cc:Agent>\n    </dc:creator>\n   </cc:Work>\n  </rdf:RDF>\n </metadata>\n <defs>\n  <style type=\"text/css\">*{stroke-linecap:butt;stroke-linejoin:round;}</style>\n </defs>\n <g id=\"figure_1\">\n  <g id=\"patch_1\">\n   <path d=\"M 0 277.314375 \nL 392.14375 277.314375 \nL 392.14375 0 \nL 0 0 \nz\n\" style=\"fill:none;\"/>\n  </g>\n  <g id=\"axes_1\">\n   <g id=\"patch_2\">\n    <path d=\"M 50.14375 239.758125 \nL 384.94375 239.758125 \nL 384.94375 22.318125 \nL 50.14375 22.318125 \nz\n\" style=\"fill:#ffffff;\"/>\n   </g>\n   <g id=\"matplotlib.axis_1\">\n    <g id=\"xtick_1\">\n     <g id=\"line2d_1\">\n      <defs>\n       <path d=\"M 0 0 \nL 0 3.5 \n\" id=\"mf0ecf2b961\" style=\"stroke:#000000;stroke-width:0.8;\"/>\n      </defs>\n      <g>\n       <use style=\"stroke:#000000;stroke-width:0.8;\" x=\"65.361932\" xlink:href=\"#mf0ecf2b961\" y=\"239.758125\"/>\n      </g>\n     </g>\n     <g id=\"text_1\">\n      <!-- 0 -->\n      <g transform=\"translate(62.180682 254.356562)scale(0.1 -0.1)\">\n       <defs>\n        <path d=\"M 2034 4250 \nQ 1547 4250 1301 3770 \nQ 1056 3291 1056 2328 \nQ 1056 1369 1301 889 \nQ 1547 409 2034 409 \nQ 2525 409 2770 889 \nQ 3016 1369 3016 2328 \nQ 3016 3291 2770 3770 \nQ 2525 4250 2034 4250 \nz\nM 2034 4750 \nQ 2819 4750 3233 4129 \nQ 3647 3509 3647 2328 \nQ 3647 1150 3233 529 \nQ 2819 -91 2034 -91 \nQ 1250 -91 836 529 \nQ 422 1150 422 2328 \nQ 422 3509 836 4129 \nQ 1250 4750 2034 4750 \nz\n\" id=\"DejaVuSans-30\" transform=\"scale(0.015625)\"/>\n       </defs>\n       <use xlink:href=\"#DejaVuSans-30\"/>\n      </g>\n     </g>\n    </g>\n    <g id=\"xtick_2\">\n     <g id=\"line2d_2\">\n      <g>\n       <use style=\"stroke:#000000;stroke-width:0.8;\" x=\"103.59857\" xlink:href=\"#mf0ecf2b961\" y=\"239.758125\"/>\n      </g>\n     </g>\n     <g id=\"text_2\">\n      <!-- 25 -->\n      <g transform=\"translate(97.23607 254.356562)scale(0.1 -0.1)\">\n       <defs>\n        <path d=\"M 1228 531 \nL 3431 531 \nL 3431 0 \nL 469 0 \nL 469 531 \nQ 828 903 1448 1529 \nQ 2069 2156 2228 2338 \nQ 2531 2678 2651 2914 \nQ 2772 3150 2772 3378 \nQ 2772 3750 2511 3984 \nQ 2250 4219 1831 4219 \nQ 1534 4219 1204 4116 \nQ 875 4013 500 3803 \nL 500 4441 \nQ 881 4594 1212 4672 \nQ 1544 4750 1819 4750 \nQ 2544 4750 2975 4387 \nQ 3406 4025 3406 3419 \nQ 3406 3131 3298 2873 \nQ 3191 2616 2906 2266 \nQ 2828 2175 2409 1742 \nQ 1991 1309 1228 531 \nz\n\" id=\"DejaVuSans-32\" transform=\"scale(0.015625)\"/>\n        <path d=\"M 691 4666 \nL 3169 4666 \nL 3169 4134 \nL 1269 4134 \nL 1269 2991 \nQ 1406 3038 1543 3061 \nQ 1681 3084 1819 3084 \nQ 2600 3084 3056 2656 \nQ 3513 2228 3513 1497 \nQ 3513 744 3044 326 \nQ 2575 -91 1722 -91 \nQ 1428 -91 1123 -41 \nQ 819 9 494 109 \nL 494 744 \nQ 775 591 1075 516 \nQ 1375 441 1709 441 \nQ 2250 441 2565 725 \nQ 2881 1009 2881 1497 \nQ 2881 1984 2565 2268 \nQ 2250 2553 1709 2553 \nQ 1456 2553 1204 2497 \nQ 953 2441 691 2322 \nL 691 4666 \nz\n\" id=\"DejaVuSans-35\" transform=\"scale(0.015625)\"/>\n       </defs>\n       <use xlink:href=\"#DejaVuSans-32\"/>\n       <use x=\"63.623047\" xlink:href=\"#DejaVuSans-35\"/>\n      </g>\n     </g>\n    </g>\n    <g id=\"xtick_3\">\n     <g id=\"line2d_3\">\n      <g>\n       <use style=\"stroke:#000000;stroke-width:0.8;\" x=\"141.835207\" xlink:href=\"#mf0ecf2b961\" y=\"239.758125\"/>\n      </g>\n     </g>\n     <g id=\"text_3\">\n      <!-- 50 -->\n      <g transform=\"translate(135.472707 254.356562)scale(0.1 -0.1)\">\n       <use xlink:href=\"#DejaVuSans-35\"/>\n       <use x=\"63.623047\" xlink:href=\"#DejaVuSans-30\"/>\n      </g>\n     </g>\n    </g>\n    <g id=\"xtick_4\">\n     <g id=\"line2d_4\">\n      <g>\n       <use style=\"stroke:#000000;stroke-width:0.8;\" x=\"180.071845\" xlink:href=\"#mf0ecf2b961\" y=\"239.758125\"/>\n      </g>\n     </g>\n     <g id=\"text_4\">\n      <!-- 75 -->\n      <g transform=\"translate(173.709345 254.356562)scale(0.1 -0.1)\">\n       <defs>\n        <path d=\"M 525 4666 \nL 3525 4666 \nL 3525 4397 \nL 1831 0 \nL 1172 0 \nL 2766 4134 \nL 525 4134 \nL 525 4666 \nz\n\" id=\"DejaVuSans-37\" transform=\"scale(0.015625)\"/>\n       </defs>\n       <use xlink:href=\"#DejaVuSans-37\"/>\n       <use x=\"63.623047\" xlink:href=\"#DejaVuSans-35\"/>\n      </g>\n     </g>\n    </g>\n    <g id=\"xtick_5\">\n     <g id=\"line2d_5\">\n      <g>\n       <use style=\"stroke:#000000;stroke-width:0.8;\" x=\"218.308483\" xlink:href=\"#mf0ecf2b961\" y=\"239.758125\"/>\n      </g>\n     </g>\n     <g id=\"text_5\">\n      <!-- 100 -->\n      <g transform=\"translate(208.764733 254.356562)scale(0.1 -0.1)\">\n       <defs>\n        <path d=\"M 794 531 \nL 1825 531 \nL 1825 4091 \nL 703 3866 \nL 703 4441 \nL 1819 4666 \nL 2450 4666 \nL 2450 531 \nL 3481 531 \nL 3481 0 \nL 794 0 \nL 794 531 \nz\n\" id=\"DejaVuSans-31\" transform=\"scale(0.015625)\"/>\n       </defs>\n       <use xlink:href=\"#DejaVuSans-31\"/>\n       <use x=\"63.623047\" xlink:href=\"#DejaVuSans-30\"/>\n       <use x=\"127.246094\" xlink:href=\"#DejaVuSans-30\"/>\n      </g>\n     </g>\n    </g>\n    <g id=\"xtick_6\">\n     <g id=\"line2d_6\">\n      <g>\n       <use style=\"stroke:#000000;stroke-width:0.8;\" x=\"256.54512\" xlink:href=\"#mf0ecf2b961\" y=\"239.758125\"/>\n      </g>\n     </g>\n     <g id=\"text_6\">\n      <!-- 125 -->\n      <g transform=\"translate(247.00137 254.356562)scale(0.1 -0.1)\">\n       <use xlink:href=\"#DejaVuSans-31\"/>\n       <use x=\"63.623047\" xlink:href=\"#DejaVuSans-32\"/>\n       <use x=\"127.246094\" xlink:href=\"#DejaVuSans-35\"/>\n      </g>\n     </g>\n    </g>\n    <g id=\"xtick_7\">\n     <g id=\"line2d_7\">\n      <g>\n       <use style=\"stroke:#000000;stroke-width:0.8;\" x=\"294.781758\" xlink:href=\"#mf0ecf2b961\" y=\"239.758125\"/>\n      </g>\n     </g>\n     <g id=\"text_7\">\n      <!-- 150 -->\n      <g transform=\"translate(285.238008 254.356562)scale(0.1 -0.1)\">\n       <use xlink:href=\"#DejaVuSans-31\"/>\n       <use x=\"63.623047\" xlink:href=\"#DejaVuSans-35\"/>\n       <use x=\"127.246094\" xlink:href=\"#DejaVuSans-30\"/>\n      </g>\n     </g>\n    </g>\n    <g id=\"xtick_8\">\n     <g id=\"line2d_8\">\n      <g>\n       <use style=\"stroke:#000000;stroke-width:0.8;\" x=\"333.018396\" xlink:href=\"#mf0ecf2b961\" y=\"239.758125\"/>\n      </g>\n     </g>\n     <g id=\"text_8\">\n      <!-- 175 -->\n      <g transform=\"translate(323.474646 254.356562)scale(0.1 -0.1)\">\n       <use xlink:href=\"#DejaVuSans-31\"/>\n       <use x=\"63.623047\" xlink:href=\"#DejaVuSans-37\"/>\n       <use x=\"127.246094\" xlink:href=\"#DejaVuSans-35\"/>\n      </g>\n     </g>\n    </g>\n    <g id=\"xtick_9\">\n     <g id=\"line2d_9\">\n      <g>\n       <use style=\"stroke:#000000;stroke-width:0.8;\" x=\"371.255034\" xlink:href=\"#mf0ecf2b961\" y=\"239.758125\"/>\n      </g>\n     </g>\n     <g id=\"text_9\">\n      <!-- 200 -->\n      <g transform=\"translate(361.711284 254.356562)scale(0.1 -0.1)\">\n       <use xlink:href=\"#DejaVuSans-32\"/>\n       <use x=\"63.623047\" xlink:href=\"#DejaVuSans-30\"/>\n       <use x=\"127.246094\" xlink:href=\"#DejaVuSans-30\"/>\n      </g>\n     </g>\n    </g>\n    <g id=\"text_10\">\n     <!-- Epoch -->\n     <g transform=\"translate(202.232813 268.034687)scale(0.1 -0.1)\">\n      <defs>\n       <path d=\"M 628 4666 \nL 3578 4666 \nL 3578 4134 \nL 1259 4134 \nL 1259 2753 \nL 3481 2753 \nL 3481 2222 \nL 1259 2222 \nL 1259 531 \nL 3634 531 \nL 3634 0 \nL 628 0 \nL 628 4666 \nz\n\" id=\"DejaVuSans-45\" transform=\"scale(0.015625)\"/>\n       <path d=\"M 1159 525 \nL 1159 -1331 \nL 581 -1331 \nL 581 3500 \nL 1159 3500 \nL 1159 2969 \nQ 1341 3281 1617 3432 \nQ 1894 3584 2278 3584 \nQ 2916 3584 3314 3078 \nQ 3713 2572 3713 1747 \nQ 3713 922 3314 415 \nQ 2916 -91 2278 -91 \nQ 1894 -91 1617 61 \nQ 1341 213 1159 525 \nz\nM 3116 1747 \nQ 3116 2381 2855 2742 \nQ 2594 3103 2138 3103 \nQ 1681 3103 1420 2742 \nQ 1159 2381 1159 1747 \nQ 1159 1113 1420 752 \nQ 1681 391 2138 391 \nQ 2594 391 2855 752 \nQ 3116 1113 3116 1747 \nz\n\" id=\"DejaVuSans-70\" transform=\"scale(0.015625)\"/>\n       <path d=\"M 1959 3097 \nQ 1497 3097 1228 2736 \nQ 959 2375 959 1747 \nQ 959 1119 1226 758 \nQ 1494 397 1959 397 \nQ 2419 397 2687 759 \nQ 2956 1122 2956 1747 \nQ 2956 2369 2687 2733 \nQ 2419 3097 1959 3097 \nz\nM 1959 3584 \nQ 2709 3584 3137 3096 \nQ 3566 2609 3566 1747 \nQ 3566 888 3137 398 \nQ 2709 -91 1959 -91 \nQ 1206 -91 779 398 \nQ 353 888 353 1747 \nQ 353 2609 779 3096 \nQ 1206 3584 1959 3584 \nz\n\" id=\"DejaVuSans-6f\" transform=\"scale(0.015625)\"/>\n       <path d=\"M 3122 3366 \nL 3122 2828 \nQ 2878 2963 2633 3030 \nQ 2388 3097 2138 3097 \nQ 1578 3097 1268 2742 \nQ 959 2388 959 1747 \nQ 959 1106 1268 751 \nQ 1578 397 2138 397 \nQ 2388 397 2633 464 \nQ 2878 531 3122 666 \nL 3122 134 \nQ 2881 22 2623 -34 \nQ 2366 -91 2075 -91 \nQ 1284 -91 818 406 \nQ 353 903 353 1747 \nQ 353 2603 823 3093 \nQ 1294 3584 2113 3584 \nQ 2378 3584 2631 3529 \nQ 2884 3475 3122 3366 \nz\n\" id=\"DejaVuSans-63\" transform=\"scale(0.015625)\"/>\n       <path d=\"M 3513 2113 \nL 3513 0 \nL 2938 0 \nL 2938 2094 \nQ 2938 2591 2744 2837 \nQ 2550 3084 2163 3084 \nQ 1697 3084 1428 2787 \nQ 1159 2491 1159 1978 \nL 1159 0 \nL 581 0 \nL 581 4863 \nL 1159 4863 \nL 1159 2956 \nQ 1366 3272 1645 3428 \nQ 1925 3584 2291 3584 \nQ 2894 3584 3203 3211 \nQ 3513 2838 3513 2113 \nz\n\" id=\"DejaVuSans-68\" transform=\"scale(0.015625)\"/>\n      </defs>\n      <use xlink:href=\"#DejaVuSans-45\"/>\n      <use x=\"63.183594\" xlink:href=\"#DejaVuSans-70\"/>\n      <use x=\"126.660156\" xlink:href=\"#DejaVuSans-6f\"/>\n      <use x=\"187.841797\" xlink:href=\"#DejaVuSans-63\"/>\n      <use x=\"242.822266\" xlink:href=\"#DejaVuSans-68\"/>\n     </g>\n    </g>\n   </g>\n   <g id=\"matplotlib.axis_2\">\n    <g id=\"ytick_1\">\n     <g id=\"line2d_10\">\n      <defs>\n       <path d=\"M 0 0 \nL -3.5 0 \n\" id=\"mcc2307fe34\" style=\"stroke:#000000;stroke-width:0.8;\"/>\n      </defs>\n      <g>\n       <use style=\"stroke:#000000;stroke-width:0.8;\" x=\"50.14375\" xlink:href=\"#mcc2307fe34\" y=\"237.950675\"/>\n      </g>\n     </g>\n     <g id=\"text_11\">\n      <!-- 0.91 -->\n      <g transform=\"translate(20.878125 241.749894)scale(0.1 -0.1)\">\n       <defs>\n        <path d=\"M 684 794 \nL 1344 794 \nL 1344 0 \nL 684 0 \nL 684 794 \nz\n\" id=\"DejaVuSans-2e\" transform=\"scale(0.015625)\"/>\n        <path d=\"M 703 97 \nL 703 672 \nQ 941 559 1184 500 \nQ 1428 441 1663 441 \nQ 2288 441 2617 861 \nQ 2947 1281 2994 2138 \nQ 2813 1869 2534 1725 \nQ 2256 1581 1919 1581 \nQ 1219 1581 811 2004 \nQ 403 2428 403 3163 \nQ 403 3881 828 4315 \nQ 1253 4750 1959 4750 \nQ 2769 4750 3195 4129 \nQ 3622 3509 3622 2328 \nQ 3622 1225 3098 567 \nQ 2575 -91 1691 -91 \nQ 1453 -91 1209 -44 \nQ 966 3 703 97 \nz\nM 1959 2075 \nQ 2384 2075 2632 2365 \nQ 2881 2656 2881 3163 \nQ 2881 3666 2632 3958 \nQ 2384 4250 1959 4250 \nQ 1534 4250 1286 3958 \nQ 1038 3666 1038 3163 \nQ 1038 2656 1286 2365 \nQ 1534 2075 1959 2075 \nz\n\" id=\"DejaVuSans-39\" transform=\"scale(0.015625)\"/>\n       </defs>\n       <use xlink:href=\"#DejaVuSans-30\"/>\n       <use x=\"63.623047\" xlink:href=\"#DejaVuSans-2e\"/>\n       <use x=\"95.410156\" xlink:href=\"#DejaVuSans-39\"/>\n       <use x=\"159.033203\" xlink:href=\"#DejaVuSans-31\"/>\n      </g>\n     </g>\n    </g>\n    <g id=\"ytick_2\">\n     <g id=\"line2d_11\">\n      <g>\n       <use style=\"stroke:#000000;stroke-width:0.8;\" x=\"50.14375\" xlink:href=\"#mcc2307fe34\" y=\"213.595553\"/>\n      </g>\n     </g>\n     <g id=\"text_12\">\n      <!-- 0.92 -->\n      <g transform=\"translate(20.878125 217.394771)scale(0.1 -0.1)\">\n       <use xlink:href=\"#DejaVuSans-30\"/>\n       <use x=\"63.623047\" xlink:href=\"#DejaVuSans-2e\"/>\n       <use x=\"95.410156\" xlink:href=\"#DejaVuSans-39\"/>\n       <use x=\"159.033203\" xlink:href=\"#DejaVuSans-32\"/>\n      </g>\n     </g>\n    </g>\n    <g id=\"ytick_3\">\n     <g id=\"line2d_12\">\n      <g>\n       <use style=\"stroke:#000000;stroke-width:0.8;\" x=\"50.14375\" xlink:href=\"#mcc2307fe34\" y=\"189.24043\"/>\n      </g>\n     </g>\n     <g id=\"text_13\">\n      <!-- 0.93 -->\n      <g transform=\"translate(20.878125 193.039649)scale(0.1 -0.1)\">\n       <defs>\n        <path d=\"M 2597 2516 \nQ 3050 2419 3304 2112 \nQ 3559 1806 3559 1356 \nQ 3559 666 3084 287 \nQ 2609 -91 1734 -91 \nQ 1441 -91 1130 -33 \nQ 819 25 488 141 \nL 488 750 \nQ 750 597 1062 519 \nQ 1375 441 1716 441 \nQ 2309 441 2620 675 \nQ 2931 909 2931 1356 \nQ 2931 1769 2642 2001 \nQ 2353 2234 1838 2234 \nL 1294 2234 \nL 1294 2753 \nL 1863 2753 \nQ 2328 2753 2575 2939 \nQ 2822 3125 2822 3475 \nQ 2822 3834 2567 4026 \nQ 2313 4219 1838 4219 \nQ 1578 4219 1281 4162 \nQ 984 4106 628 3988 \nL 628 4550 \nQ 988 4650 1302 4700 \nQ 1616 4750 1894 4750 \nQ 2613 4750 3031 4423 \nQ 3450 4097 3450 3541 \nQ 3450 3153 3228 2886 \nQ 3006 2619 2597 2516 \nz\n\" id=\"DejaVuSans-33\" transform=\"scale(0.015625)\"/>\n       </defs>\n       <use xlink:href=\"#DejaVuSans-30\"/>\n       <use x=\"63.623047\" xlink:href=\"#DejaVuSans-2e\"/>\n       <use x=\"95.410156\" xlink:href=\"#DejaVuSans-39\"/>\n       <use x=\"159.033203\" xlink:href=\"#DejaVuSans-33\"/>\n      </g>\n     </g>\n    </g>\n    <g id=\"ytick_4\">\n     <g id=\"line2d_13\">\n      <g>\n       <use style=\"stroke:#000000;stroke-width:0.8;\" x=\"50.14375\" xlink:href=\"#mcc2307fe34\" y=\"164.885308\"/>\n      </g>\n     </g>\n     <g id=\"text_14\">\n      <!-- 0.94 -->\n      <g transform=\"translate(20.878125 168.684527)scale(0.1 -0.1)\">\n       <defs>\n        <path d=\"M 2419 4116 \nL 825 1625 \nL 2419 1625 \nL 2419 4116 \nz\nM 2253 4666 \nL 3047 4666 \nL 3047 1625 \nL 3713 1625 \nL 3713 1100 \nL 3047 1100 \nL 3047 0 \nL 2419 0 \nL 2419 1100 \nL 313 1100 \nL 313 1709 \nL 2253 4666 \nz\n\" id=\"DejaVuSans-34\" transform=\"scale(0.015625)\"/>\n       </defs>\n       <use xlink:href=\"#DejaVuSans-30\"/>\n       <use x=\"63.623047\" xlink:href=\"#DejaVuSans-2e\"/>\n       <use x=\"95.410156\" xlink:href=\"#DejaVuSans-39\"/>\n       <use x=\"159.033203\" xlink:href=\"#DejaVuSans-34\"/>\n      </g>\n     </g>\n    </g>\n    <g id=\"ytick_5\">\n     <g id=\"line2d_14\">\n      <g>\n       <use style=\"stroke:#000000;stroke-width:0.8;\" x=\"50.14375\" xlink:href=\"#mcc2307fe34\" y=\"140.530186\"/>\n      </g>\n     </g>\n     <g id=\"text_15\">\n      <!-- 0.95 -->\n      <g transform=\"translate(20.878125 144.329404)scale(0.1 -0.1)\">\n       <use xlink:href=\"#DejaVuSans-30\"/>\n       <use x=\"63.623047\" xlink:href=\"#DejaVuSans-2e\"/>\n       <use x=\"95.410156\" xlink:href=\"#DejaVuSans-39\"/>\n       <use x=\"159.033203\" xlink:href=\"#DejaVuSans-35\"/>\n      </g>\n     </g>\n    </g>\n    <g id=\"ytick_6\">\n     <g id=\"line2d_15\">\n      <g>\n       <use style=\"stroke:#000000;stroke-width:0.8;\" x=\"50.14375\" xlink:href=\"#mcc2307fe34\" y=\"116.175063\"/>\n      </g>\n     </g>\n     <g id=\"text_16\">\n      <!-- 0.96 -->\n      <g transform=\"translate(20.878125 119.974282)scale(0.1 -0.1)\">\n       <defs>\n        <path d=\"M 2113 2584 \nQ 1688 2584 1439 2293 \nQ 1191 2003 1191 1497 \nQ 1191 994 1439 701 \nQ 1688 409 2113 409 \nQ 2538 409 2786 701 \nQ 3034 994 3034 1497 \nQ 3034 2003 2786 2293 \nQ 2538 2584 2113 2584 \nz\nM 3366 4563 \nL 3366 3988 \nQ 3128 4100 2886 4159 \nQ 2644 4219 2406 4219 \nQ 1781 4219 1451 3797 \nQ 1122 3375 1075 2522 \nQ 1259 2794 1537 2939 \nQ 1816 3084 2150 3084 \nQ 2853 3084 3261 2657 \nQ 3669 2231 3669 1497 \nQ 3669 778 3244 343 \nQ 2819 -91 2113 -91 \nQ 1303 -91 875 529 \nQ 447 1150 447 2328 \nQ 447 3434 972 4092 \nQ 1497 4750 2381 4750 \nQ 2619 4750 2861 4703 \nQ 3103 4656 3366 4563 \nz\n\" id=\"DejaVuSans-36\" transform=\"scale(0.015625)\"/>\n       </defs>\n       <use xlink:href=\"#DejaVuSans-30\"/>\n       <use x=\"63.623047\" xlink:href=\"#DejaVuSans-2e\"/>\n       <use x=\"95.410156\" xlink:href=\"#DejaVuSans-39\"/>\n       <use x=\"159.033203\" xlink:href=\"#DejaVuSans-36\"/>\n      </g>\n     </g>\n    </g>\n    <g id=\"ytick_7\">\n     <g id=\"line2d_16\">\n      <g>\n       <use style=\"stroke:#000000;stroke-width:0.8;\" x=\"50.14375\" xlink:href=\"#mcc2307fe34\" y=\"91.819941\"/>\n      </g>\n     </g>\n     <g id=\"text_17\">\n      <!-- 0.97 -->\n      <g transform=\"translate(20.878125 95.61916)scale(0.1 -0.1)\">\n       <use xlink:href=\"#DejaVuSans-30\"/>\n       <use x=\"63.623047\" xlink:href=\"#DejaVuSans-2e\"/>\n       <use x=\"95.410156\" xlink:href=\"#DejaVuSans-39\"/>\n       <use x=\"159.033203\" xlink:href=\"#DejaVuSans-37\"/>\n      </g>\n     </g>\n    </g>\n    <g id=\"ytick_8\">\n     <g id=\"line2d_17\">\n      <g>\n       <use style=\"stroke:#000000;stroke-width:0.8;\" x=\"50.14375\" xlink:href=\"#mcc2307fe34\" y=\"67.464819\"/>\n      </g>\n     </g>\n     <g id=\"text_18\">\n      <!-- 0.98 -->\n      <g transform=\"translate(20.878125 71.264037)scale(0.1 -0.1)\">\n       <defs>\n        <path d=\"M 2034 2216 \nQ 1584 2216 1326 1975 \nQ 1069 1734 1069 1313 \nQ 1069 891 1326 650 \nQ 1584 409 2034 409 \nQ 2484 409 2743 651 \nQ 3003 894 3003 1313 \nQ 3003 1734 2745 1975 \nQ 2488 2216 2034 2216 \nz\nM 1403 2484 \nQ 997 2584 770 2862 \nQ 544 3141 544 3541 \nQ 544 4100 942 4425 \nQ 1341 4750 2034 4750 \nQ 2731 4750 3128 4425 \nQ 3525 4100 3525 3541 \nQ 3525 3141 3298 2862 \nQ 3072 2584 2669 2484 \nQ 3125 2378 3379 2068 \nQ 3634 1759 3634 1313 \nQ 3634 634 3220 271 \nQ 2806 -91 2034 -91 \nQ 1263 -91 848 271 \nQ 434 634 434 1313 \nQ 434 1759 690 2068 \nQ 947 2378 1403 2484 \nz\nM 1172 3481 \nQ 1172 3119 1398 2916 \nQ 1625 2713 2034 2713 \nQ 2441 2713 2670 2916 \nQ 2900 3119 2900 3481 \nQ 2900 3844 2670 4047 \nQ 2441 4250 2034 4250 \nQ 1625 4250 1398 4047 \nQ 1172 3844 1172 3481 \nz\n\" id=\"DejaVuSans-38\" transform=\"scale(0.015625)\"/>\n       </defs>\n       <use xlink:href=\"#DejaVuSans-30\"/>\n       <use x=\"63.623047\" xlink:href=\"#DejaVuSans-2e\"/>\n       <use x=\"95.410156\" xlink:href=\"#DejaVuSans-39\"/>\n       <use x=\"159.033203\" xlink:href=\"#DejaVuSans-38\"/>\n      </g>\n     </g>\n    </g>\n    <g id=\"ytick_9\">\n     <g id=\"line2d_18\">\n      <g>\n       <use style=\"stroke:#000000;stroke-width:0.8;\" x=\"50.14375\" xlink:href=\"#mcc2307fe34\" y=\"43.109696\"/>\n      </g>\n     </g>\n     <g id=\"text_19\">\n      <!-- 0.99 -->\n      <g transform=\"translate(20.878125 46.908915)scale(0.1 -0.1)\">\n       <use xlink:href=\"#DejaVuSans-30\"/>\n       <use x=\"63.623047\" xlink:href=\"#DejaVuSans-2e\"/>\n       <use x=\"95.410156\" xlink:href=\"#DejaVuSans-39\"/>\n       <use x=\"159.033203\" xlink:href=\"#DejaVuSans-39\"/>\n      </g>\n     </g>\n    </g>\n    <g id=\"text_20\">\n     <!-- Accuracy -->\n     <g transform=\"translate(14.798438 153.86625)rotate(-90)scale(0.1 -0.1)\">\n      <defs>\n       <path d=\"M 2188 4044 \nL 1331 1722 \nL 3047 1722 \nL 2188 4044 \nz\nM 1831 4666 \nL 2547 4666 \nL 4325 0 \nL 3669 0 \nL 3244 1197 \nL 1141 1197 \nL 716 0 \nL 50 0 \nL 1831 4666 \nz\n\" id=\"DejaVuSans-41\" transform=\"scale(0.015625)\"/>\n       <path d=\"M 544 1381 \nL 544 3500 \nL 1119 3500 \nL 1119 1403 \nQ 1119 906 1312 657 \nQ 1506 409 1894 409 \nQ 2359 409 2629 706 \nQ 2900 1003 2900 1516 \nL 2900 3500 \nL 3475 3500 \nL 3475 0 \nL 2900 0 \nL 2900 538 \nQ 2691 219 2414 64 \nQ 2138 -91 1772 -91 \nQ 1169 -91 856 284 \nQ 544 659 544 1381 \nz\nM 1991 3584 \nL 1991 3584 \nz\n\" id=\"DejaVuSans-75\" transform=\"scale(0.015625)\"/>\n       <path d=\"M 2631 2963 \nQ 2534 3019 2420 3045 \nQ 2306 3072 2169 3072 \nQ 1681 3072 1420 2755 \nQ 1159 2438 1159 1844 \nL 1159 0 \nL 581 0 \nL 581 3500 \nL 1159 3500 \nL 1159 2956 \nQ 1341 3275 1631 3429 \nQ 1922 3584 2338 3584 \nQ 2397 3584 2469 3576 \nQ 2541 3569 2628 3553 \nL 2631 2963 \nz\n\" id=\"DejaVuSans-72\" transform=\"scale(0.015625)\"/>\n       <path d=\"M 2194 1759 \nQ 1497 1759 1228 1600 \nQ 959 1441 959 1056 \nQ 959 750 1161 570 \nQ 1363 391 1709 391 \nQ 2188 391 2477 730 \nQ 2766 1069 2766 1631 \nL 2766 1759 \nL 2194 1759 \nz\nM 3341 1997 \nL 3341 0 \nL 2766 0 \nL 2766 531 \nQ 2569 213 2275 61 \nQ 1981 -91 1556 -91 \nQ 1019 -91 701 211 \nQ 384 513 384 1019 \nQ 384 1609 779 1909 \nQ 1175 2209 1959 2209 \nL 2766 2209 \nL 2766 2266 \nQ 2766 2663 2505 2880 \nQ 2244 3097 1772 3097 \nQ 1472 3097 1187 3025 \nQ 903 2953 641 2809 \nL 641 3341 \nQ 956 3463 1253 3523 \nQ 1550 3584 1831 3584 \nQ 2591 3584 2966 3190 \nQ 3341 2797 3341 1997 \nz\n\" id=\"DejaVuSans-61\" transform=\"scale(0.015625)\"/>\n       <path d=\"M 2059 -325 \nQ 1816 -950 1584 -1140 \nQ 1353 -1331 966 -1331 \nL 506 -1331 \nL 506 -850 \nL 844 -850 \nQ 1081 -850 1212 -737 \nQ 1344 -625 1503 -206 \nL 1606 56 \nL 191 3500 \nL 800 3500 \nL 1894 763 \nL 2988 3500 \nL 3597 3500 \nL 2059 -325 \nz\n\" id=\"DejaVuSans-79\" transform=\"scale(0.015625)\"/>\n      </defs>\n      <use xlink:href=\"#DejaVuSans-41\"/>\n      <use x=\"66.658203\" xlink:href=\"#DejaVuSans-63\"/>\n      <use x=\"121.638672\" xlink:href=\"#DejaVuSans-63\"/>\n      <use x=\"176.619141\" xlink:href=\"#DejaVuSans-75\"/>\n      <use x=\"239.998047\" xlink:href=\"#DejaVuSans-72\"/>\n      <use x=\"281.111328\" xlink:href=\"#DejaVuSans-61\"/>\n      <use x=\"342.390625\" xlink:href=\"#DejaVuSans-63\"/>\n      <use x=\"397.371094\" xlink:href=\"#DejaVuSans-79\"/>\n     </g>\n    </g>\n   </g>\n   <g id=\"line2d_19\">\n    <path clip-path=\"url(#pfe282ecb03)\" d=\"M 65.361932 229.874489 \nL 66.891397 109.324935 \nL 68.420863 104.499847 \nL 69.950328 100.782098 \nL 71.479794 96.035981 \nL 73.009259 92.160145 \nL 74.538725 87.334911 \nL 76.06819 86.148454 \nL 77.597656 82.747026 \nL 79.127121 82.11424 \nL 80.656587 76.893569 \nL 82.186052 74.283306 \nL 83.715518 72.859499 \nL 85.244983 72.780383 \nL 86.774449 71.356577 \nL 88.303914 67.955294 \nL 89.83338 67.322508 \nL 91.362845 63.604759 \nL 92.892311 64.712099 \nL 94.421776 61.627138 \nL 95.951242 59.570545 \nL 97.480708 57.830418 \nL 99.010173 56.485583 \nL 100.539639 56.090146 \nL 102.069104 54.98266 \nL 105.128035 51.264912 \nL 106.657501 51.027708 \nL 108.186966 51.660494 \nL 109.716432 50.394921 \nL 111.245897 50.711242 \nL 112.775363 49.208319 \nL 115.834294 49.287436 \nL 117.363759 47.705397 \nL 118.893225 49.129203 \nL 120.42269 46.598056 \nL 123.481621 47.784513 \nL 125.011087 47.07261 \nL 126.540552 47.942746 \nL 128.070018 46.835406 \nL 129.599483 46.677173 \nL 131.128949 45.886153 \nL 132.658414 45.490571 \nL 134.18788 47.389076 \nL 135.717345 43.82956 \nL 137.246811 44.541463 \nL 138.776276 46.914377 \nL 140.305742 44.224998 \nL 141.835207 43.671327 \nL 143.364673 45.72792 \nL 144.894138 42.563842 \nL 146.423604 43.513094 \nL 147.953069 46.914377 \nL 149.482535 43.513094 \nL 151.012 43.354861 \nL 152.541466 48.496416 \nL 154.070931 46.677173 \nL 155.600397 42.247521 \nL 157.129862 41.298269 \nL 158.659328 42.959424 \nL 160.188793 42.089288 \nL 161.718259 41.060919 \nL 163.247724 42.247521 \nL 164.77719 42.880308 \nL 166.306655 41.060919 \nL 167.836121 41.060919 \nL 169.365586 43.038541 \nL 170.895052 42.959424 \nL 172.424517 41.851939 \nL 173.953983 39.083443 \nL 175.483448 39.637113 \nL 177.012914 41.219152 \nL 180.071845 40.190928 \nL 181.601311 40.111812 \nL 183.130776 41.298269 \nL 184.660242 39.874462 \nL 186.189707 40.032695 \nL 187.719173 40.744599 \nL 189.248638 40.349016 \nL 190.778104 41.456502 \nL 192.307569 40.190928 \nL 193.837035 40.270045 \nL 195.3665 37.501404 \nL 198.425431 40.428133 \nL 199.954897 40.111812 \nL 201.484362 40.270045 \nL 203.013828 39.083443 \nL 204.543293 40.270045 \nL 206.072759 39.795346 \nL 209.13169 39.479025 \nL 210.661155 38.846093 \nL 212.190621 38.846093 \nL 213.720086 36.552296 \nL 215.249552 37.659637 \nL 216.779017 41.219152 \nL 218.308483 37.2642 \nL 219.837948 37.58052 \nL 221.367414 36.47318 \nL 222.896879 39.083443 \nL 224.426345 37.976103 \nL 225.95581 36.47318 \nL 227.485276 37.2642 \nL 229.014741 37.343316 \nL 230.544207 37.58052 \nL 232.073672 36.156714 \nL 233.603138 37.896986 \nL 235.132603 36.947734 \nL 236.662069 37.422287 \nL 238.191534 38.13419 \nL 239.721 40.981948 \nL 241.250465 35.444811 \nL 242.779931 36.077598 \nL 244.309396 37.343316 \nL 245.838862 37.896986 \nL 247.368327 37.58052 \nL 248.897793 39.320792 \nL 250.427258 34.732908 \nL 251.956724 37.659637 \nL 253.486189 39.162559 \nL 256.54512 35.12849 \nL 258.074586 37.501404 \nL 259.604052 40.665482 \nL 261.133517 35.444811 \nL 262.662983 36.235831 \nL 264.192448 38.37154 \nL 265.721914 36.235831 \nL 267.251379 37.58052 \nL 268.780845 36.394063 \nL 270.31031 36.314947 \nL 271.839776 35.603044 \nL 273.369241 35.286578 \nL 274.898707 37.422287 \nL 276.428172 36.156714 \nL 277.957638 35.523927 \nL 279.487103 36.394063 \nL 281.016569 36.314947 \nL 282.546034 38.608889 \nL 284.0755 35.12849 \nL 285.604965 37.659637 \nL 287.134431 38.292423 \nL 288.663896 34.812024 \nL 290.193362 35.444811 \nL 291.722827 36.552296 \nL 293.252293 34.732908 \nL 294.781758 34.258354 \nL 296.311224 38.13419 \nL 297.840689 33.704684 \nL 299.370155 34.337471 \nL 300.89962 35.365694 \nL 302.429086 37.58052 \nL 303.958551 34.732908 \nL 305.488017 35.998481 \nL 307.017482 35.12849 \nL 308.546948 36.47318 \nL 310.076413 33.467335 \nL 311.605879 37.422287 \nL 313.135344 35.603044 \nL 316.194275 33.071752 \nL 317.723741 35.12849 \nL 319.253206 33.625568 \nL 320.782672 37.2642 \nL 322.312137 34.732908 \nL 323.841603 35.840393 \nL 325.371068 33.467335 \nL 326.900534 35.444811 \nL 328.429999 35.444811 \nL 329.959465 34.732908 \nL 331.48893 33.467335 \nL 333.018396 36.947734 \nL 334.547861 35.12849 \nL 336.077327 34.021005 \nL 337.606792 33.229985 \nL 339.136258 34.495558 \nL 340.665724 34.891141 \nL 342.195189 33.071752 \nL 343.724655 34.812024 \nL 345.25412 35.91951 \nL 346.783586 33.388218 \nL 348.313051 37.105967 \nL 349.842517 32.438966 \nL 351.371982 34.337471 \nL 352.901448 33.625568 \nL 355.960379 32.913664 \nL 357.489844 34.179238 \nL 359.01931 34.970257 \nL 360.548775 34.258354 \nL 362.078241 35.365694 \nL 363.607706 37.343316 \nL 365.137172 32.518082 \nL 366.666637 35.998481 \nL 368.196103 32.201761 \nL 369.725568 35.523927 \nL 369.725568 35.523927 \n\" style=\"fill:none;stroke:#1f77b4;stroke-linecap:square;stroke-width:1.5;\"/>\n   </g>\n   <g id=\"line2d_20\">\n    <path clip-path=\"url(#pfe282ecb03)\" d=\"M 65.361932 115.097244 \nL 66.891397 120.265074 \nL 68.420863 103.285082 \nL 69.950328 100.332078 \nL 71.479794 101.439418 \nL 73.009259 104.761584 \nL 74.538725 86.674252 \nL 76.06819 87.412576 \nL 77.597656 84.459571 \nL 79.127121 67.848741 \nL 80.656587 67.479579 \nL 82.186052 75.969575 \nL 83.715518 73.385588 \nL 85.244983 70.063422 \nL 86.774449 71.170907 \nL 88.303914 64.526575 \nL 89.83338 62.680911 \nL 91.362845 68.217903 \nL 92.892311 61.942587 \nL 94.421776 57.143919 \nL 95.951242 56.405741 \nL 97.480708 60.097069 \nL 99.010173 60.466085 \nL 102.069104 60.466085 \nL 103.59857 56.774903 \nL 105.128035 71.170907 \nL 106.657501 61.204409 \nL 108.186966 70.432583 \nL 109.716432 59.727907 \nL 111.245897 55.667417 \nL 112.775363 58.620421 \nL 114.304828 48.654068 \nL 115.834294 56.774903 \nL 117.363759 56.036579 \nL 118.893225 61.573571 \nL 120.42269 60.466085 \nL 121.952156 71.540069 \nL 123.481621 51.237911 \nL 125.011087 52.345251 \nL 126.540552 50.499587 \nL 128.070018 50.868749 \nL 129.599483 54.560077 \nL 131.128949 48.654068 \nL 132.658414 51.976234 \nL 134.18788 50.499587 \nL 135.717345 52.345251 \nL 137.246811 57.882243 \nL 138.776276 50.499587 \nL 140.305742 49.392247 \nL 141.835207 45.331902 \nL 143.364673 54.560077 \nL 144.894138 47.915745 \nL 146.423604 48.284907 \nL 147.953069 46.439243 \nL 149.482535 44.96274 \nL 151.012 47.177566 \nL 152.541466 55.667417 \nL 154.070931 49.761409 \nL 155.600397 52.714413 \nL 157.129862 48.284907 \nL 158.659328 44.96274 \nL 160.188793 44.224417 \nL 161.718259 52.345251 \nL 163.247724 48.654068 \nL 164.77719 50.13057 \nL 166.306655 43.117077 \nL 167.836121 48.284907 \nL 169.365586 49.761409 \nL 170.895052 45.331902 \nL 172.424517 44.593579 \nL 173.953983 46.808404 \nL 175.483448 44.96274 \nL 178.54238 59.358745 \nL 180.071845 44.224417 \nL 181.601311 43.117077 \nL 183.130776 50.499587 \nL 184.660242 50.868749 \nL 186.189707 50.868749 \nL 187.719173 44.224417 \nL 189.248638 45.700919 \nL 190.778104 46.439243 \nL 192.307569 51.607073 \nL 193.837035 43.8554 \nL 195.3665 37.580085 \nL 196.895966 43.8554 \nL 198.425431 54.929239 \nL 199.954897 42.747915 \nL 201.484362 45.331902 \nL 203.013828 44.96274 \nL 204.543293 46.070081 \nL 206.072759 46.070081 \nL 207.602224 50.499587 \nL 209.13169 44.224417 \nL 210.661155 46.808404 \nL 212.190621 44.593579 \nL 213.720086 49.761409 \nL 215.249552 49.023085 \nL 216.779017 43.8554 \nL 218.308483 47.915745 \nL 219.837948 50.13057 \nL 221.367414 47.546583 \nL 222.896879 49.761409 \nL 224.426345 41.640574 \nL 225.95581 38.68757 \nL 227.485276 38.68757 \nL 229.014741 41.640574 \nL 232.073672 46.808404 \nL 233.603138 57.143919 \nL 235.132603 42.747915 \nL 236.662069 44.593579 \nL 238.191534 56.774903 \nL 239.721 43.8554 \nL 241.250465 42.009736 \nL 242.779931 46.808404 \nL 244.309396 43.8554 \nL 245.838862 46.439243 \nL 247.368327 44.96274 \nL 248.897793 42.747915 \nL 250.427258 39.79491 \nL 251.956724 38.68757 \nL 253.486189 45.700919 \nL 255.015655 42.378753 \nL 256.54512 45.331902 \nL 258.074586 58.251405 \nL 259.604052 47.177566 \nL 261.133517 46.808404 \nL 262.662983 39.79491 \nL 264.192448 38.68757 \nL 265.721914 44.224417 \nL 267.251379 45.331902 \nL 268.780845 37.211068 \nL 270.31031 46.808404 \nL 271.839776 51.237911 \nL 273.369241 47.546583 \nL 274.898707 51.607073 \nL 276.428172 46.808404 \nL 277.957638 40.164072 \nL 279.487103 43.486238 \nL 281.016569 51.237911 \nL 282.546034 45.331902 \nL 284.0755 48.284907 \nL 285.604965 51.607073 \nL 287.134431 46.439243 \nL 288.663896 43.8554 \nL 290.193362 48.654068 \nL 291.722827 39.425749 \nL 293.252293 41.271413 \nL 294.781758 50.499587 \nL 296.311224 42.009736 \nL 297.840689 42.009736 \nL 299.370155 40.164072 \nL 300.89962 39.79491 \nL 302.429086 50.499587 \nL 303.958551 46.070081 \nL 305.488017 36.103583 \nL 307.017482 44.224417 \nL 308.546948 42.378753 \nL 310.076413 41.271413 \nL 311.605879 49.392247 \nL 313.135344 48.654068 \nL 314.66481 47.177566 \nL 316.194275 44.593579 \nL 317.723741 37.211068 \nL 319.253206 42.747915 \nL 320.782672 42.378753 \nL 322.312137 47.546583 \nL 323.841603 37.211068 \nL 325.371068 38.68757 \nL 326.900534 43.117077 \nL 328.429999 49.023085 \nL 329.959465 38.318408 \nL 331.48893 39.79491 \nL 333.018396 45.331902 \nL 334.547861 35.734566 \nL 336.077327 37.580085 \nL 337.606792 51.976234 \nL 339.136258 46.808404 \nL 340.665724 44.96274 \nL 342.195189 45.700919 \nL 343.724655 37.949247 \nL 345.25412 36.472744 \nL 346.783586 37.949247 \nL 348.313051 44.224417 \nL 349.842517 47.177566 \nL 351.371982 39.425749 \nL 352.901448 42.747915 \nL 354.430913 50.868749 \nL 355.960379 43.8554 \nL 357.489844 41.271413 \nL 359.01931 42.009736 \nL 360.548775 48.654068 \nL 362.078241 37.580085 \nL 363.607706 48.654068 \nL 365.137172 43.486238 \nL 366.666637 40.533234 \nL 368.196103 42.747915 \nL 369.725568 37.580085 \nL 369.725568 37.580085 \n\" style=\"fill:none;stroke:#ff7f0e;stroke-linecap:square;stroke-width:1.5;\"/>\n   </g>\n   <g id=\"patch_3\">\n    <path d=\"M 50.14375 239.758125 \nL 50.14375 22.318125 \n\" style=\"fill:none;stroke:#000000;stroke-linecap:square;stroke-linejoin:miter;stroke-width:0.8;\"/>\n   </g>\n   <g id=\"patch_4\">\n    <path d=\"M 384.94375 239.758125 \nL 384.94375 22.318125 \n\" style=\"fill:none;stroke:#000000;stroke-linecap:square;stroke-linejoin:miter;stroke-width:0.8;\"/>\n   </g>\n   <g id=\"patch_5\">\n    <path d=\"M 50.14375 239.758125 \nL 384.94375 239.758125 \n\" style=\"fill:none;stroke:#000000;stroke-linecap:square;stroke-linejoin:miter;stroke-width:0.8;\"/>\n   </g>\n   <g id=\"patch_6\">\n    <path d=\"M 50.14375 22.318125 \nL 384.94375 22.318125 \n\" style=\"fill:none;stroke:#000000;stroke-linecap:square;stroke-linejoin:miter;stroke-width:0.8;\"/>\n   </g>\n   <g id=\"text_21\">\n    <!-- Model accuracy -->\n    <g transform=\"translate(170.549688 16.318125)scale(0.12 -0.12)\">\n     <defs>\n      <path d=\"M 628 4666 \nL 1569 4666 \nL 2759 1491 \nL 3956 4666 \nL 4897 4666 \nL 4897 0 \nL 4281 0 \nL 4281 4097 \nL 3078 897 \nL 2444 897 \nL 1241 4097 \nL 1241 0 \nL 628 0 \nL 628 4666 \nz\n\" id=\"DejaVuSans-4d\" transform=\"scale(0.015625)\"/>\n      <path d=\"M 2906 2969 \nL 2906 4863 \nL 3481 4863 \nL 3481 0 \nL 2906 0 \nL 2906 525 \nQ 2725 213 2448 61 \nQ 2172 -91 1784 -91 \nQ 1150 -91 751 415 \nQ 353 922 353 1747 \nQ 353 2572 751 3078 \nQ 1150 3584 1784 3584 \nQ 2172 3584 2448 3432 \nQ 2725 3281 2906 2969 \nz\nM 947 1747 \nQ 947 1113 1208 752 \nQ 1469 391 1925 391 \nQ 2381 391 2643 752 \nQ 2906 1113 2906 1747 \nQ 2906 2381 2643 2742 \nQ 2381 3103 1925 3103 \nQ 1469 3103 1208 2742 \nQ 947 2381 947 1747 \nz\n\" id=\"DejaVuSans-64\" transform=\"scale(0.015625)\"/>\n      <path d=\"M 3597 1894 \nL 3597 1613 \nL 953 1613 \nQ 991 1019 1311 708 \nQ 1631 397 2203 397 \nQ 2534 397 2845 478 \nQ 3156 559 3463 722 \nL 3463 178 \nQ 3153 47 2828 -22 \nQ 2503 -91 2169 -91 \nQ 1331 -91 842 396 \nQ 353 884 353 1716 \nQ 353 2575 817 3079 \nQ 1281 3584 2069 3584 \nQ 2775 3584 3186 3129 \nQ 3597 2675 3597 1894 \nz\nM 3022 2063 \nQ 3016 2534 2758 2815 \nQ 2500 3097 2075 3097 \nQ 1594 3097 1305 2825 \nQ 1016 2553 972 2059 \nL 3022 2063 \nz\n\" id=\"DejaVuSans-65\" transform=\"scale(0.015625)\"/>\n      <path d=\"M 603 4863 \nL 1178 4863 \nL 1178 0 \nL 603 0 \nL 603 4863 \nz\n\" id=\"DejaVuSans-6c\" transform=\"scale(0.015625)\"/>\n      <path id=\"DejaVuSans-20\" transform=\"scale(0.015625)\"/>\n     </defs>\n     <use xlink:href=\"#DejaVuSans-4d\"/>\n     <use x=\"86.279297\" xlink:href=\"#DejaVuSans-6f\"/>\n     <use x=\"147.460938\" xlink:href=\"#DejaVuSans-64\"/>\n     <use x=\"210.9375\" xlink:href=\"#DejaVuSans-65\"/>\n     <use x=\"272.460938\" xlink:href=\"#DejaVuSans-6c\"/>\n     <use x=\"300.244141\" xlink:href=\"#DejaVuSans-20\"/>\n     <use x=\"332.03125\" xlink:href=\"#DejaVuSans-61\"/>\n     <use x=\"393.310547\" xlink:href=\"#DejaVuSans-63\"/>\n     <use x=\"448.291016\" xlink:href=\"#DejaVuSans-63\"/>\n     <use x=\"503.271484\" xlink:href=\"#DejaVuSans-75\"/>\n     <use x=\"566.650391\" xlink:href=\"#DejaVuSans-72\"/>\n     <use x=\"607.763672\" xlink:href=\"#DejaVuSans-61\"/>\n     <use x=\"669.042969\" xlink:href=\"#DejaVuSans-63\"/>\n     <use x=\"724.023438\" xlink:href=\"#DejaVuSans-79\"/>\n    </g>\n   </g>\n   <g id=\"legend_1\">\n    <g id=\"patch_7\">\n     <path d=\"M 321.95625 234.758125 \nL 377.94375 234.758125 \nQ 379.94375 234.758125 379.94375 232.758125 \nL 379.94375 204.401875 \nQ 379.94375 202.401875 377.94375 202.401875 \nL 321.95625 202.401875 \nQ 319.95625 202.401875 319.95625 204.401875 \nL 319.95625 232.758125 \nQ 319.95625 234.758125 321.95625 234.758125 \nz\n\" style=\"fill:#ffffff;opacity:0.8;stroke:#cccccc;stroke-linejoin:miter;\"/>\n    </g>\n    <g id=\"line2d_21\">\n     <path d=\"M 323.95625 210.500312 \nL 343.95625 210.500312 \n\" style=\"fill:none;stroke:#1f77b4;stroke-linecap:square;stroke-width:1.5;\"/>\n    </g>\n    <g id=\"line2d_22\"/>\n    <g id=\"text_22\">\n     <!-- Train -->\n     <g transform=\"translate(351.95625 214.000312)scale(0.1 -0.1)\">\n      <defs>\n       <path d=\"M -19 4666 \nL 3928 4666 \nL 3928 4134 \nL 2272 4134 \nL 2272 0 \nL 1638 0 \nL 1638 4134 \nL -19 4134 \nL -19 4666 \nz\n\" id=\"DejaVuSans-54\" transform=\"scale(0.015625)\"/>\n       <path d=\"M 603 3500 \nL 1178 3500 \nL 1178 0 \nL 603 0 \nL 603 3500 \nz\nM 603 4863 \nL 1178 4863 \nL 1178 4134 \nL 603 4134 \nL 603 4863 \nz\n\" id=\"DejaVuSans-69\" transform=\"scale(0.015625)\"/>\n       <path d=\"M 3513 2113 \nL 3513 0 \nL 2938 0 \nL 2938 2094 \nQ 2938 2591 2744 2837 \nQ 2550 3084 2163 3084 \nQ 1697 3084 1428 2787 \nQ 1159 2491 1159 1978 \nL 1159 0 \nL 581 0 \nL 581 3500 \nL 1159 3500 \nL 1159 2956 \nQ 1366 3272 1645 3428 \nQ 1925 3584 2291 3584 \nQ 2894 3584 3203 3211 \nQ 3513 2838 3513 2113 \nz\n\" id=\"DejaVuSans-6e\" transform=\"scale(0.015625)\"/>\n      </defs>\n      <use xlink:href=\"#DejaVuSans-54\"/>\n      <use x=\"46.333984\" xlink:href=\"#DejaVuSans-72\"/>\n      <use x=\"87.447266\" xlink:href=\"#DejaVuSans-61\"/>\n      <use x=\"148.726562\" xlink:href=\"#DejaVuSans-69\"/>\n      <use x=\"176.509766\" xlink:href=\"#DejaVuSans-6e\"/>\n     </g>\n    </g>\n    <g id=\"line2d_23\">\n     <path d=\"M 323.95625 225.178437 \nL 343.95625 225.178437 \n\" style=\"fill:none;stroke:#ff7f0e;stroke-linecap:square;stroke-width:1.5;\"/>\n    </g>\n    <g id=\"line2d_24\"/>\n    <g id=\"text_23\">\n     <!-- Val -->\n     <g transform=\"translate(351.95625 228.678437)scale(0.1 -0.1)\">\n      <defs>\n       <path d=\"M 1831 0 \nL 50 4666 \nL 709 4666 \nL 2188 738 \nL 3669 4666 \nL 4325 4666 \nL 2547 0 \nL 1831 0 \nz\n\" id=\"DejaVuSans-56\" transform=\"scale(0.015625)\"/>\n      </defs>\n      <use xlink:href=\"#DejaVuSans-56\"/>\n      <use x=\"60.658203\" xlink:href=\"#DejaVuSans-61\"/>\n      <use x=\"121.9375\" xlink:href=\"#DejaVuSans-6c\"/>\n     </g>\n    </g>\n   </g>\n  </g>\n </g>\n <defs>\n  <clipPath id=\"pfe282ecb03\">\n   <rect height=\"217.44\" width=\"334.8\" x=\"50.14375\" y=\"22.318125\"/>\n  </clipPath>\n </defs>\n</svg>\n",
      "image/png": "[encoded data removed]"
     },
     "metadata": {
      "needs_background": "light"
     }
    }
   ],
   "source": [
    "# visualizeer de Accuracy van de train data en validate data, lijnen lopen redelijk overelkaar heen dus overfitting is niet een groot probleem\n",
    "plt.plot(fitted.history['accuracy'])\n",
    "plt.plot(fitted.history['val_accuracy'])\n",
    "plt.title('Model accuracy')\n",
    "plt.ylabel('Accuracy')\n",
    "plt.xlabel('Epoch')\n",
    "plt.legend(['Train', 'Val'], loc='lower right')\n",
    "plt.show()"
   ]
  },
  {
   "cell_type": "code",
   "execution_count": 13,
   "metadata": {},
   "outputs": [
    {
     "output_type": "stream",
     "name": "stdout",
     "text": [
      "Slecht Weer\n"
     ]
    }
   ],
   "source": [
    "# Benaming met wat het daadwerkelijk is\n",
    "# +--------+-------------------------------------------------------+-----------+\n",
    "# |Code    |Beschrijving                                           |Eenheid    |\n",
    "# +--------+-------------------------------------------------------+-----------+\n",
    "# |FG:     |gemiddelde windselheid\t\t\t\t\t\t\t\t   |0.1 m/s    |\n",
    "# |FXX:    |hoogste windstoot\t\t\t\t\t\t\t\t\t   |0.1 m/s    |\n",
    "# |TG:     |gemiddelde temperatuur\t\t\t\t\t\t\t\t   |0.1 C      |\n",
    "# |SP:     |percentage van langst mogelijke zonneschijnsduur\t   |%          |\n",
    "# |DR:     |duur neerslag\t\t\t\t\t\t\t\t\t\t   |0.1 h      |\n",
    "# |RH:     |etmaalsom neerslag\t\t\t\t\t\t\t\t\t   |0.1 mm     |\n",
    "# +--------+-------------------------------------------------------+-----------+\n",
    "\n",
    "# Prediction array (X_pred) ziet er zo uit: \n",
    "# ['FG', 'FXX', 'TG', 'SP', 'DR', 'RH']\n",
    "\n",
    "# Reden van slecht weer is weinig zon uren en veel regen (beide hebben een irritatie factor van 3);\n",
    "X_pred = [[30.0,50.0,150.0,10.0,60.0,550.0]]\n",
    "\n",
    "prediction = round(m.predict(X_pred)[0][0])\n",
    "\n",
    "if (prediction == 1):\n",
    "    print(\"Slecht Weer\")\n",
    "else:\n",
    "    print(\"Geen slecht weer\")"
   ]
  },
  {
   "cell_type": "code",
   "execution_count": 14,
   "metadata": {},
   "outputs": [
    {
     "output_type": "stream",
     "name": "stdout",
     "text": [
      "Slecht Weer\n"
     ]
    }
   ],
   "source": [
    "# Reden Slecht weer is harde wind, koud, lang geregend\n",
    "X_pred = [[130.0,270.0,-10.0,50.0,100.0,50.0]]\n",
    "\n",
    "prediction = round(m.predict(X_pred)[0][0])\n",
    "\n",
    "if (prediction == 1):\n",
    "    print(\"Slecht Weer\")\n",
    "else:\n",
    "    print(\"Geen slecht weer\")"
   ]
  },
  {
   "cell_type": "code",
   "execution_count": 15,
   "metadata": {},
   "outputs": [
    {
     "output_type": "stream",
     "name": "stdout",
     "text": [
      "Geen slecht weer\n"
     ]
    }
   ],
   "source": [
    "#reden geen slecht weer is weinig wind, 20 graden C, Langdurige zon, niet veel regen\n",
    "X_pred = [[20.0,70.0,200.0,80.0,40.0,50.0]]\n",
    "\n",
    "prediction = round(m.predict(X_pred)[0][0])\n",
    "\n",
    "if (prediction == 1):\n",
    "    print(\"Slecht Weer\")\n",
    "else:\n",
    "    print(\"Geen slecht weer\")"
   ]
  },
  {
   "cell_type": "code",
   "execution_count": 16,
   "metadata": {},
   "outputs": [
    {
     "output_type": "stream",
     "name": "stdout",
     "text": [
      "Geen slecht weer\n"
     ]
    }
   ],
   "source": [
    "#reden geen slecht weer is bijna geen wind, 25 graden C, 0 regen\n",
    "X_pred = [[20.0,30.0,250.0,100.0,0.0,0.0]]\n",
    "\n",
    "prediction = round(m.predict(X_pred)[0][0])\n",
    "\n",
    "if (prediction == 1):\n",
    "    print(\"Slecht Weer\")\n",
    "else:\n",
    "    print(\"Geen slecht weer\")"
   ]
  },
  {
   "cell_type": "code",
   "execution_count": 24,
   "metadata": {},
   "outputs": [
    {
     "output_type": "stream",
     "name": "stdout",
     "text": [
      "Slecht Weer\n"
     ]
    }
   ],
   "source": [
    "#reden slecht weer is harde wind, is wel warm met redelijk wat zon uren maar heel veel regen\n",
    "X_pred = [[220.0,280.0,250.0,45.0,150.0,600.0]]\n",
    "\n",
    "prediction = round(m.predict(X_pred)[0][0])\n",
    "\n",
    "if (prediction == 1):\n",
    "    print(\"Slecht Weer\")\n",
    "else:\n",
    "    print(\"Geen slecht weer\")"
   ]
  },
  {
   "cell_type": "code",
   "execution_count": null,
   "metadata": {},
   "outputs": [],
   "source": []
  }
 ]
}