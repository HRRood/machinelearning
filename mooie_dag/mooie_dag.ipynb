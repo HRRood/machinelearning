{
 "metadata": {
  "language_info": {
   "codemirror_mode": {
    "name": "ipython",
    "version": 3
   },
   "file_extension": ".py",
   "mimetype": "text/x-python",
   "name": "python",
   "nbconvert_exporter": "python",
   "pygments_lexer": "ipython3",
   "version": "3.9.4"
  },
  "orig_nbformat": 2,
  "kernelspec": {
   "name": "python394jvsc74a57bd0aee8b7b246df8f9039afb4144a1f6fd8d2ca17a180786b69acc140d282b71a49",
   "display_name": "Python 3.9.4 64-bit"
  },
  "metadata": {
   "interpreter": {
    "hash": "6c21aa1c2e5936516fd415403a4afbdba9a634f5c964d52c661a7084a07606c1"
   }
  }
 },
 "nbformat": 4,
 "nbformat_minor": 2,
 "cells": [
  {
   "cell_type": "code",
   "execution_count": 1,
   "metadata": {},
   "outputs": [],
   "source": [
    "# Dataset naam: temperature - transformed max. daily temperature, KNMI14, Netherlands\n",
    "# URL:          https://dataplatform.knmi.nl/dataset/knmi14-maximum-temperature-3-2\n",
    "# Doel:         In welke warmtecategorie valt een bepaalde dag?"
   ]
  },
  {
   "cell_type": "code",
   "execution_count": 1,
   "metadata": {},
   "outputs": [],
   "source": [
    "import pandas                   as pd\n",
    "from sklearn.neighbors          import KNeighborsClassifier\n",
    "from sklearn.linear_model       import LogisticRegression\n",
    "from sklearn.model_selection    import train_test_split\n",
    "from sklearn                    import metrics\n",
    "\n",
    "df = pd.read_csv(\"data/KNMI14_GL_2085_tx___19810101-20101231_v3.2.csv\")\n",
    "\n",
    "# set the first row to have a string data type, so it will not be included in the average calculations and classification assignments later on\n",
    "df['0'] = df['0'].astype('str')\n",
    "\n",
    "# drop the first 4 rows since we don't need them\n",
    "df = df.drop(df.index[[0, 1, 2, 3]])"
   ]
  },
  {
   "cell_type": "code",
   "execution_count": 2,
   "metadata": {},
   "outputs": [
    {
     "output_type": "stream",
     "name": "stdout",
     "text": [
      "<class 'pandas.core.frame.DataFrame'>\nInt64Index: 10957 entries, 4 to 10960\nData columns (total 15 columns):\n #   Column  Non-Null Count  Dtype  \n---  ------  --------------  -----  \n 0   0       10957 non-null  object \n 1   210     10957 non-null  float64\n 2   235     10957 non-null  float64\n 3   240     10957 non-null  float64\n 4   260     10957 non-null  float64\n 5   270     10957 non-null  float64\n 6   275     10957 non-null  float64\n 7   280     10957 non-null  float64\n 8   290     10957 non-null  float64\n 9   310     10957 non-null  float64\n 10  344     10957 non-null  float64\n 11  350     10957 non-null  float64\n 12  370     10957 non-null  float64\n 13  375     10957 non-null  float64\n 14  380     10957 non-null  float64\ndtypes: float64(14), object(1)\nmemory usage: 1.3+ MB\n"
     ]
    }
   ],
   "source": [
    "df.info()"
   ]
  },
  {
   "cell_type": "code",
   "execution_count": 3,
   "metadata": {},
   "outputs": [
    {
     "output_type": "execute_result",
     "data": {
      "text/plain": [
       "0      0\n",
       "210    0\n",
       "235    0\n",
       "240    0\n",
       "260    0\n",
       "270    0\n",
       "275    0\n",
       "280    0\n",
       "290    0\n",
       "310    0\n",
       "344    0\n",
       "350    0\n",
       "370    0\n",
       "375    0\n",
       "380    0\n",
       "dtype: int64"
      ]
     },
     "metadata": {},
     "execution_count": 3
    }
   ],
   "source": [
    "df.isnull().sum()"
   ]
  },
  {
   "cell_type": "code",
   "execution_count": 4,
   "metadata": {},
   "outputs": [],
   "source": [
    "# add temperature classifications based on KNMI definitions\n",
    "df['Average'] = df.mean(axis=1)\n",
    "\n",
    "def setClassification (row):\n",
    "    if row['Average'] >= 30:\n",
    "        return\"Tropisch\"\n",
    "    elif row['Average'] >= 25:\n",
    "        return\"Zomers\"\n",
    "    elif row['Average'] >= 20:\n",
    "        return\"Warm\"\n",
    "    elif row['Average'] >= 10:\n",
    "        return\"Gemiddeld\"\n",
    "    elif row['Average'] >= 5:\n",
    "        return\"Fris\"\n",
    "    return\"Koud\"\n",
    "df['Classification'] = df.apply (lambda row: setClassification(row), axis=1)"
   ]
  },
  {
   "cell_type": "code",
   "execution_count": 5,
   "metadata": {},
   "outputs": [
    {
     "output_type": "execute_result",
     "data": {
      "text/plain": [
       "           0   210  235   240   260   270   275   280   290   310   344   350  \\\n",
       "4   19810101   8.4  7.0   7.4   9.1   7.0   8.6   6.4   7.7   8.9   8.8   8.2   \n",
       "5   19810102   9.0  9.3   9.0   9.5   9.6   8.8   9.1   9.0   8.5   9.6   8.9   \n",
       "6   19810103  10.1  9.9  10.1  11.4  10.2  10.5  10.5  10.5  10.6  11.0  11.4   \n",
       "7   19810104   7.8  7.3   7.4   7.4   7.4   6.5   6.8   6.6   8.0   8.0   8.5   \n",
       "8   19810105   6.7  5.9   5.7   5.8   5.4   4.8   4.8   4.0   6.5   6.0   5.7   \n",
       "9   19810106   6.2  4.2   5.0   3.8   3.3   2.1   2.0   2.3   6.9   5.9   4.3   \n",
       "10  19810107   5.8  4.8   4.9   4.3   3.5   1.6   1.7   1.6   5.8   5.4   4.9   \n",
       "11  19810108   6.1  6.9   5.2   4.2   5.0   2.7   3.2   2.8   5.7   5.6   4.1   \n",
       "12  19810109   7.9  7.8   7.8   8.1   7.6   7.5   7.1   6.9   8.3   8.6   8.4   \n",
       "13  19810110   6.2  6.4   6.0   6.2   6.2   5.6   5.7   5.4   6.5   6.3   6.0   \n",
       "\n",
       "     370   375   380    Average Classification  \n",
       "4    9.2   8.6   8.7   8.142857           Fris  \n",
       "5    9.4   9.3   8.9   9.135714           Fris  \n",
       "6   11.7  11.8  11.4  10.792857      Gemiddeld  \n",
       "7    7.7   7.6   7.6   7.471429           Fris  \n",
       "8    5.4   5.6   4.2   5.464286           Fris  \n",
       "9    3.9   3.7   3.8   4.100000           Koud  \n",
       "10   4.6   4.2   3.5   4.042857           Koud  \n",
       "11   3.8   3.6   3.4   4.450000           Koud  \n",
       "12   8.1   7.8   6.0   7.707143           Fris  \n",
       "13   6.3   7.2   5.7   6.121429           Fris  "
      ],
      "text/html": "<div>\n<style scoped>\n    .dataframe tbody tr th:only-of-type {\n        vertical-align: middle;\n    }\n\n    .dataframe tbody tr th {\n        vertical-align: top;\n    }\n\n    .dataframe thead th {\n        text-align: right;\n    }\n</style>\n<table border=\"1\" class=\"dataframe\">\n  <thead>\n    <tr style=\"text-align: right;\">\n      <th></th>\n      <th>0</th>\n      <th>210</th>\n      <th>235</th>\n      <th>240</th>\n      <th>260</th>\n      <th>270</th>\n      <th>275</th>\n      <th>280</th>\n      <th>290</th>\n      <th>310</th>\n      <th>344</th>\n      <th>350</th>\n      <th>370</th>\n      <th>375</th>\n      <th>380</th>\n      <th>Average</th>\n      <th>Classification</th>\n    </tr>\n  </thead>\n  <tbody>\n    <tr>\n      <th>4</th>\n      <td>19810101</td>\n      <td>8.4</td>\n      <td>7.0</td>\n      <td>7.4</td>\n      <td>9.1</td>\n      <td>7.0</td>\n      <td>8.6</td>\n      <td>6.4</td>\n      <td>7.7</td>\n      <td>8.9</td>\n      <td>8.8</td>\n      <td>8.2</td>\n      <td>9.2</td>\n      <td>8.6</td>\n      <td>8.7</td>\n      <td>8.142857</td>\n      <td>Fris</td>\n    </tr>\n    <tr>\n      <th>5</th>\n      <td>19810102</td>\n      <td>9.0</td>\n      <td>9.3</td>\n      <td>9.0</td>\n      <td>9.5</td>\n      <td>9.6</td>\n      <td>8.8</td>\n      <td>9.1</td>\n      <td>9.0</td>\n      <td>8.5</td>\n      <td>9.6</td>\n      <td>8.9</td>\n      <td>9.4</td>\n      <td>9.3</td>\n      <td>8.9</td>\n      <td>9.135714</td>\n      <td>Fris</td>\n    </tr>\n    <tr>\n      <th>6</th>\n      <td>19810103</td>\n      <td>10.1</td>\n      <td>9.9</td>\n      <td>10.1</td>\n      <td>11.4</td>\n      <td>10.2</td>\n      <td>10.5</td>\n      <td>10.5</td>\n      <td>10.5</td>\n      <td>10.6</td>\n      <td>11.0</td>\n      <td>11.4</td>\n      <td>11.7</td>\n      <td>11.8</td>\n      <td>11.4</td>\n      <td>10.792857</td>\n      <td>Gemiddeld</td>\n    </tr>\n    <tr>\n      <th>7</th>\n      <td>19810104</td>\n      <td>7.8</td>\n      <td>7.3</td>\n      <td>7.4</td>\n      <td>7.4</td>\n      <td>7.4</td>\n      <td>6.5</td>\n      <td>6.8</td>\n      <td>6.6</td>\n      <td>8.0</td>\n      <td>8.0</td>\n      <td>8.5</td>\n      <td>7.7</td>\n      <td>7.6</td>\n      <td>7.6</td>\n      <td>7.471429</td>\n      <td>Fris</td>\n    </tr>\n    <tr>\n      <th>8</th>\n      <td>19810105</td>\n      <td>6.7</td>\n      <td>5.9</td>\n      <td>5.7</td>\n      <td>5.8</td>\n      <td>5.4</td>\n      <td>4.8</td>\n      <td>4.8</td>\n      <td>4.0</td>\n      <td>6.5</td>\n      <td>6.0</td>\n      <td>5.7</td>\n      <td>5.4</td>\n      <td>5.6</td>\n      <td>4.2</td>\n      <td>5.464286</td>\n      <td>Fris</td>\n    </tr>\n    <tr>\n      <th>9</th>\n      <td>19810106</td>\n      <td>6.2</td>\n      <td>4.2</td>\n      <td>5.0</td>\n      <td>3.8</td>\n      <td>3.3</td>\n      <td>2.1</td>\n      <td>2.0</td>\n      <td>2.3</td>\n      <td>6.9</td>\n      <td>5.9</td>\n      <td>4.3</td>\n      <td>3.9</td>\n      <td>3.7</td>\n      <td>3.8</td>\n      <td>4.100000</td>\n      <td>Koud</td>\n    </tr>\n    <tr>\n      <th>10</th>\n      <td>19810107</td>\n      <td>5.8</td>\n      <td>4.8</td>\n      <td>4.9</td>\n      <td>4.3</td>\n      <td>3.5</td>\n      <td>1.6</td>\n      <td>1.7</td>\n      <td>1.6</td>\n      <td>5.8</td>\n      <td>5.4</td>\n      <td>4.9</td>\n      <td>4.6</td>\n      <td>4.2</td>\n      <td>3.5</td>\n      <td>4.042857</td>\n      <td>Koud</td>\n    </tr>\n    <tr>\n      <th>11</th>\n      <td>19810108</td>\n      <td>6.1</td>\n      <td>6.9</td>\n      <td>5.2</td>\n      <td>4.2</td>\n      <td>5.0</td>\n      <td>2.7</td>\n      <td>3.2</td>\n      <td>2.8</td>\n      <td>5.7</td>\n      <td>5.6</td>\n      <td>4.1</td>\n      <td>3.8</td>\n      <td>3.6</td>\n      <td>3.4</td>\n      <td>4.450000</td>\n      <td>Koud</td>\n    </tr>\n    <tr>\n      <th>12</th>\n      <td>19810109</td>\n      <td>7.9</td>\n      <td>7.8</td>\n      <td>7.8</td>\n      <td>8.1</td>\n      <td>7.6</td>\n      <td>7.5</td>\n      <td>7.1</td>\n      <td>6.9</td>\n      <td>8.3</td>\n      <td>8.6</td>\n      <td>8.4</td>\n      <td>8.1</td>\n      <td>7.8</td>\n      <td>6.0</td>\n      <td>7.707143</td>\n      <td>Fris</td>\n    </tr>\n    <tr>\n      <th>13</th>\n      <td>19810110</td>\n      <td>6.2</td>\n      <td>6.4</td>\n      <td>6.0</td>\n      <td>6.2</td>\n      <td>6.2</td>\n      <td>5.6</td>\n      <td>5.7</td>\n      <td>5.4</td>\n      <td>6.5</td>\n      <td>6.3</td>\n      <td>6.0</td>\n      <td>6.3</td>\n      <td>7.2</td>\n      <td>5.7</td>\n      <td>6.121429</td>\n      <td>Fris</td>\n    </tr>\n  </tbody>\n</table>\n</div>"
     },
     "metadata": {},
     "execution_count": 5
    }
   ],
   "source": [
    "df.head(10)\n",
    "# the column headers show the measuring station id. The first column \"0\" shows the measurement date.\n",
    "# the measurements start at line 4"
   ]
  },
  {
   "cell_type": "code",
   "execution_count": 6,
   "metadata": {},
   "outputs": [
    {
     "output_type": "execute_result",
     "data": {
      "text/plain": [
       "              0  210  235  240  260  270  275  280  290  310  344  350  370  \\\n",
       "10951  20101222  0.5  1.4  0.5  0.9  0.8  0.1 -0.2 -0.4  2.2  0.8  1.9  2.5   \n",
       "10952  20101223  2.3  2.5  2.3  1.9  2.4  1.3  1.6  1.3  2.9  2.4  1.7  1.7   \n",
       "10953  20101224  1.7  2.2  1.8  1.6  1.8  0.5  1.3  0.3  3.0  1.9  1.0  1.0   \n",
       "10954  20101225  4.5  3.9  2.8  2.4  1.9  0.2  0.5 -1.9  4.8  3.7  1.7  1.7   \n",
       "10955  20101226  5.6  5.2  4.9  6.3  4.0  3.4  2.3  2.7  6.2  5.6  5.6  4.7   \n",
       "10956  20101227  3.9  5.1  4.2  2.7  3.3  2.9  2.8  3.0  2.4  3.3  2.1  2.3   \n",
       "10957  20101228  2.9  2.8  3.1  3.0  2.1  2.4  1.0  2.3  3.7  3.9  3.5  3.2   \n",
       "10958  20101229  3.6  1.8  3.7  3.5 -0.5  3.0 -3.0 -0.6  4.5  4.3  4.0  4.2   \n",
       "10959  20101230  4.8  6.1  3.6  3.6  5.0  1.2  3.2  1.0  4.8  4.6  4.0  4.0   \n",
       "10960  20101231  6.6  6.9  6.4  5.2  6.3  3.7  5.1  3.5  5.2  6.7  4.1  3.5   \n",
       "\n",
       "       375  380   Average Classification  \n",
       "10951  0.8  2.5  1.021429           Koud  \n",
       "10952  1.5  1.1  1.921429           Koud  \n",
       "10953  0.8  0.3  1.371429           Koud  \n",
       "10954 -0.4 -1.6  1.728571           Koud  \n",
       "10955  4.6  2.6  4.550000           Koud  \n",
       "10956  3.1  2.9  3.142857           Koud  \n",
       "10957  2.6  4.4  2.921429           Koud  \n",
       "10958  2.7  4.5  2.550000           Koud  \n",
       "10959  0.4  3.8  3.578571           Koud  \n",
       "10960  3.4  2.7  4.950000           Koud  "
      ],
      "text/html": "<div>\n<style scoped>\n    .dataframe tbody tr th:only-of-type {\n        vertical-align: middle;\n    }\n\n    .dataframe tbody tr th {\n        vertical-align: top;\n    }\n\n    .dataframe thead th {\n        text-align: right;\n    }\n</style>\n<table border=\"1\" class=\"dataframe\">\n  <thead>\n    <tr style=\"text-align: right;\">\n      <th></th>\n      <th>0</th>\n      <th>210</th>\n      <th>235</th>\n      <th>240</th>\n      <th>260</th>\n      <th>270</th>\n      <th>275</th>\n      <th>280</th>\n      <th>290</th>\n      <th>310</th>\n      <th>344</th>\n      <th>350</th>\n      <th>370</th>\n      <th>375</th>\n      <th>380</th>\n      <th>Average</th>\n      <th>Classification</th>\n    </tr>\n  </thead>\n  <tbody>\n    <tr>\n      <th>10951</th>\n      <td>20101222</td>\n      <td>0.5</td>\n      <td>1.4</td>\n      <td>0.5</td>\n      <td>0.9</td>\n      <td>0.8</td>\n      <td>0.1</td>\n      <td>-0.2</td>\n      <td>-0.4</td>\n      <td>2.2</td>\n      <td>0.8</td>\n      <td>1.9</td>\n      <td>2.5</td>\n      <td>0.8</td>\n      <td>2.5</td>\n      <td>1.021429</td>\n      <td>Koud</td>\n    </tr>\n    <tr>\n      <th>10952</th>\n      <td>20101223</td>\n      <td>2.3</td>\n      <td>2.5</td>\n      <td>2.3</td>\n      <td>1.9</td>\n      <td>2.4</td>\n      <td>1.3</td>\n      <td>1.6</td>\n      <td>1.3</td>\n      <td>2.9</td>\n      <td>2.4</td>\n      <td>1.7</td>\n      <td>1.7</td>\n      <td>1.5</td>\n      <td>1.1</td>\n      <td>1.921429</td>\n      <td>Koud</td>\n    </tr>\n    <tr>\n      <th>10953</th>\n      <td>20101224</td>\n      <td>1.7</td>\n      <td>2.2</td>\n      <td>1.8</td>\n      <td>1.6</td>\n      <td>1.8</td>\n      <td>0.5</td>\n      <td>1.3</td>\n      <td>0.3</td>\n      <td>3.0</td>\n      <td>1.9</td>\n      <td>1.0</td>\n      <td>1.0</td>\n      <td>0.8</td>\n      <td>0.3</td>\n      <td>1.371429</td>\n      <td>Koud</td>\n    </tr>\n    <tr>\n      <th>10954</th>\n      <td>20101225</td>\n      <td>4.5</td>\n      <td>3.9</td>\n      <td>2.8</td>\n      <td>2.4</td>\n      <td>1.9</td>\n      <td>0.2</td>\n      <td>0.5</td>\n      <td>-1.9</td>\n      <td>4.8</td>\n      <td>3.7</td>\n      <td>1.7</td>\n      <td>1.7</td>\n      <td>-0.4</td>\n      <td>-1.6</td>\n      <td>1.728571</td>\n      <td>Koud</td>\n    </tr>\n    <tr>\n      <th>10955</th>\n      <td>20101226</td>\n      <td>5.6</td>\n      <td>5.2</td>\n      <td>4.9</td>\n      <td>6.3</td>\n      <td>4.0</td>\n      <td>3.4</td>\n      <td>2.3</td>\n      <td>2.7</td>\n      <td>6.2</td>\n      <td>5.6</td>\n      <td>5.6</td>\n      <td>4.7</td>\n      <td>4.6</td>\n      <td>2.6</td>\n      <td>4.550000</td>\n      <td>Koud</td>\n    </tr>\n    <tr>\n      <th>10956</th>\n      <td>20101227</td>\n      <td>3.9</td>\n      <td>5.1</td>\n      <td>4.2</td>\n      <td>2.7</td>\n      <td>3.3</td>\n      <td>2.9</td>\n      <td>2.8</td>\n      <td>3.0</td>\n      <td>2.4</td>\n      <td>3.3</td>\n      <td>2.1</td>\n      <td>2.3</td>\n      <td>3.1</td>\n      <td>2.9</td>\n      <td>3.142857</td>\n      <td>Koud</td>\n    </tr>\n    <tr>\n      <th>10957</th>\n      <td>20101228</td>\n      <td>2.9</td>\n      <td>2.8</td>\n      <td>3.1</td>\n      <td>3.0</td>\n      <td>2.1</td>\n      <td>2.4</td>\n      <td>1.0</td>\n      <td>2.3</td>\n      <td>3.7</td>\n      <td>3.9</td>\n      <td>3.5</td>\n      <td>3.2</td>\n      <td>2.6</td>\n      <td>4.4</td>\n      <td>2.921429</td>\n      <td>Koud</td>\n    </tr>\n    <tr>\n      <th>10958</th>\n      <td>20101229</td>\n      <td>3.6</td>\n      <td>1.8</td>\n      <td>3.7</td>\n      <td>3.5</td>\n      <td>-0.5</td>\n      <td>3.0</td>\n      <td>-3.0</td>\n      <td>-0.6</td>\n      <td>4.5</td>\n      <td>4.3</td>\n      <td>4.0</td>\n      <td>4.2</td>\n      <td>2.7</td>\n      <td>4.5</td>\n      <td>2.550000</td>\n      <td>Koud</td>\n    </tr>\n    <tr>\n      <th>10959</th>\n      <td>20101230</td>\n      <td>4.8</td>\n      <td>6.1</td>\n      <td>3.6</td>\n      <td>3.6</td>\n      <td>5.0</td>\n      <td>1.2</td>\n      <td>3.2</td>\n      <td>1.0</td>\n      <td>4.8</td>\n      <td>4.6</td>\n      <td>4.0</td>\n      <td>4.0</td>\n      <td>0.4</td>\n      <td>3.8</td>\n      <td>3.578571</td>\n      <td>Koud</td>\n    </tr>\n    <tr>\n      <th>10960</th>\n      <td>20101231</td>\n      <td>6.6</td>\n      <td>6.9</td>\n      <td>6.4</td>\n      <td>5.2</td>\n      <td>6.3</td>\n      <td>3.7</td>\n      <td>5.1</td>\n      <td>3.5</td>\n      <td>5.2</td>\n      <td>6.7</td>\n      <td>4.1</td>\n      <td>3.5</td>\n      <td>3.4</td>\n      <td>2.7</td>\n      <td>4.950000</td>\n      <td>Koud</td>\n    </tr>\n  </tbody>\n</table>\n</div>"
     },
     "metadata": {},
     "execution_count": 6
    }
   ],
   "source": [
    "df.tail(10)"
   ]
  },
  {
   "cell_type": "code",
   "execution_count": 7,
   "metadata": {},
   "outputs": [],
   "source": [
    "X = df['Average'].values.reshape(-1,1)\n",
    "y = df['Classification']\n",
    "\n",
    "X_train, X_test, y_train, y_test = train_test_split(X, y, test_size=0.2)"
   ]
  },
  {
   "cell_type": "code",
   "execution_count": 8,
   "metadata": {},
   "outputs": [
    {
     "output_type": "execute_result",
     "data": {
      "text/plain": [
       "KNeighborsClassifier(n_neighbors=3)"
      ]
     },
     "metadata": {},
     "execution_count": 8
    }
   ],
   "source": [
    "kncl = KNeighborsClassifier(n_neighbors=3)\n",
    "kncl.fit(X_train, y_train)"
   ]
  },
  {
   "cell_type": "code",
   "execution_count": 9,
   "metadata": {},
   "outputs": [
    {
     "output_type": "execute_result",
     "data": {
      "text/plain": [
       "1.0"
      ]
     },
     "metadata": {},
     "execution_count": 9
    }
   ],
   "source": [
    "round(kncl.score(X_test, y_test), 3)"
   ]
  },
  {
   "cell_type": "code",
   "execution_count": 10,
   "metadata": {},
   "outputs": [
    {
     "output_type": "execute_result",
     "data": {
      "text/plain": [
       "1.0"
      ]
     },
     "metadata": {},
     "execution_count": 10
    }
   ],
   "source": [
    "y_pred = kncl.predict(X_test)\n",
    "accurracy = metrics.accuracy_score(y_test, y_pred)\n",
    "round(accurracy, 3)"
   ]
  },
  {
   "cell_type": "code",
   "execution_count": 11,
   "metadata": {},
   "outputs": [
    {
     "output_type": "stream",
     "name": "stdout",
     "text": [
      "['Koud']\n['Fris']\n['Gemiddeld']\n['Warm']\n['Tropisch']\n"
     ]
    }
   ],
   "source": [
    "print(kncl.predict([[-16]]))\n",
    "print(kncl.predict([[7]]))\n",
    "print(kncl.predict([[16]]))\n",
    "print(kncl.predict([[22]]))\n",
    "print(kncl.predict([[32]]))"
   ]
  },
  {
   "cell_type": "code",
   "execution_count": null,
   "metadata": {},
   "outputs": [],
   "source": []
  }
 ]
}